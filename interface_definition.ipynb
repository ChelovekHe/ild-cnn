{
 "cells": [
  {
   "cell_type": "markdown",
   "metadata": {},
   "source": [
    "# Interface defintion for dataset\n",
    "\n",
    "import libraries (not all are used)"
   ]
  },
  {
   "cell_type": "code",
   "execution_count": 54,
   "metadata": {
    "collapsed": true
   },
   "outputs": [],
   "source": [
    "import argparse\n",
    "import numpy as np\n",
    "from keras.datasets import mnist\n",
    "from keras.utils import np_utils \n",
    "import gzip\n",
    "from keras.utils.data_utils import get_file\n",
    "import sys\n",
    "\n",
    "import cPickle as pickle\n",
    "\n",
    "import pprint"
   ]
  },
  {
   "cell_type": "code",
   "execution_count": 55,
   "metadata": {
    "collapsed": false
   },
   "outputs": [],
   "source": [
    "# assume a patch sze of 3x3 and each item between 0 and 255\n",
    "# define 2 patches\n",
    "\n",
    "patch1 = np.empty((3,3), int)\n",
    "patch2 = np.empty((3,3), int)"
   ]
  },
  {
   "cell_type": "code",
   "execution_count": 56,
   "metadata": {
    "collapsed": false
   },
   "outputs": [
    {
     "data": {
      "text/plain": [
       "array([[0, 0, 0],\n",
       "       [0, 0, 0],\n",
       "       [0, 0, 0]])"
      ]
     },
     "execution_count": 56,
     "metadata": {},
     "output_type": "execute_result"
    }
   ],
   "source": [
    "patch1"
   ]
  },
  {
   "cell_type": "code",
   "execution_count": 57,
   "metadata": {
    "collapsed": false
   },
   "outputs": [
    {
     "name": "stdout",
     "output_type": "stream",
     "text": [
      "[[  0   0   0]\n",
      " [ 23  55 254]\n",
      " [  0   0   0]]\n"
     ]
    }
   ],
   "source": [
    "# write something useful into location 1\n",
    "\n",
    "patch1[1]=[23,55,254]\n",
    "print patch1"
   ]
  },
  {
   "cell_type": "code",
   "execution_count": 58,
   "metadata": {
    "collapsed": false
   },
   "outputs": [
    {
     "data": {
      "text/plain": [
       "array([[0, 0, 0],\n",
       "       [0, 0, 0],\n",
       "       [0, 0, 0]])"
      ]
     },
     "execution_count": 58,
     "metadata": {},
     "output_type": "execute_result"
    }
   ],
   "source": [
    "patch2"
   ]
  },
  {
   "cell_type": "code",
   "execution_count": 59,
   "metadata": {
    "collapsed": false
   },
   "outputs": [
    {
     "name": "stdout",
     "output_type": "stream",
     "text": [
      "[[  0  33  77]\n",
      " [128   0  21]\n",
      " [  0   4 233]]\n"
     ]
    }
   ],
   "source": [
    "# write something useful into location 0, 1, 2\n",
    "\n",
    "patch2[0] = [0, 33, 77]\n",
    "patch2[1] = [128, 0, 21]\n",
    "patch2[2] = [0, 4, 233]\n",
    "\n",
    "print patch2"
   ]
  },
  {
   "cell_type": "code",
   "execution_count": 60,
   "metadata": {
    "collapsed": false
   },
   "outputs": [],
   "source": [
    "# define dataset and append the patches into it\n",
    "# transform the resulting list into a np array\n",
    "\n",
    "dataset_list = []\n",
    "\n",
    "dataset_list.append(patch1)\n",
    "dataset_list.append(patch2)\n",
    "\n",
    "dataset = np.array(dataset_list)"
   ]
  },
  {
   "cell_type": "code",
   "execution_count": 61,
   "metadata": {
    "collapsed": false
   },
   "outputs": [
    {
     "data": {
      "text/plain": [
       "array([[[  0,   0,   0],\n",
       "        [ 23,  55, 254],\n",
       "        [  0,   0,   0]],\n",
       "\n",
       "       [[  0,  33,  77],\n",
       "        [128,   0,  21],\n",
       "        [  0,   4, 233]]])"
      ]
     },
     "execution_count": 61,
     "metadata": {},
     "output_type": "execute_result"
    }
   ],
   "source": [
    "# check dataset\n",
    "\n",
    "dataset"
   ]
  },
  {
   "cell_type": "code",
   "execution_count": 63,
   "metadata": {
    "collapsed": false
   },
   "outputs": [
    {
     "data": {
      "text/plain": [
       "(2, 3, 3)"
      ]
     },
     "execution_count": 63,
     "metadata": {},
     "output_type": "execute_result"
    }
   ],
   "source": [
    "dataset.shape"
   ]
  },
  {
   "cell_type": "code",
   "execution_count": 64,
   "metadata": {
    "collapsed": false
   },
   "outputs": [
    {
     "name": "stdout",
     "output_type": "stream",
     "text": [
      "BEFORE:array([[[  0,   0,   0],\n",
      "        [ 23,  55, 254],\n",
      "        [  0,   0,   0]],\n",
      "\n",
      "       [[  0,  33,  77],\n",
      "        [128,   0,  21],\n",
      "        [  0,   4, 233]]])\n",
      "\n"
     ]
    }
   ],
   "source": [
    "# save into pickle format to handover dataset\n",
    "\n",
    "print 'BEFORE:',\n",
    "pprint.pprint(dataset)\n",
    "\n",
    "pickle.dump(dataset, open( \"dataset.pkl\", \"wb\" ))\n",
    "\n"
   ]
  },
  {
   "cell_type": "code",
   "execution_count": 48,
   "metadata": {
    "collapsed": false
   },
   "outputs": [
    {
     "name": "stdout",
     "output_type": "stream",
     "text": [
      "AFTER:array([[[ 23,  55, 254],\n",
      "        [ 23,  55, 254],\n",
      "        [ 21,   4, 233]],\n",
      "\n",
      "       [[  0,  33,  77],\n",
      "        [128,   0,  21],\n",
      "        [  0,   4, 233]]])\n",
      " EQUAL?: [[[ True  True  True]\n",
      "  [ True  True  True]\n",
      "  [ True  True  True]]\n",
      "\n",
      " [[ True  True  True]\n",
      "  [ True  True  True]\n",
      "  [ True  True  True]]]\n"
     ]
    }
   ],
   "source": [
    "# load again dataset and check \n",
    "\n",
    "dataset1 = pickle.load( open( \"dataset.pkl\", \"rb\" ) )\n",
    "print 'AFTER:',\n",
    "pprint.pprint(dataset1)\n",
    "\n",
    "\n",
    "print 'EQUAL?:', (dataset == dataset1)"
   ]
  },
  {
   "cell_type": "markdown",
   "metadata": {},
   "source": [
    "### same for labels\n"
   ]
  },
  {
   "cell_type": "code",
   "execution_count": 49,
   "metadata": {
    "collapsed": true
   },
   "outputs": [],
   "source": [
    "label1 = 3\n",
    "label2 = 8"
   ]
  },
  {
   "cell_type": "code",
   "execution_count": 50,
   "metadata": {
    "collapsed": true
   },
   "outputs": [],
   "source": [
    "labels = []"
   ]
  },
  {
   "cell_type": "code",
   "execution_count": 51,
   "metadata": {
    "collapsed": false
   },
   "outputs": [
    {
     "name": "stdout",
     "output_type": "stream",
     "text": [
      "[3, 8]\n"
     ]
    }
   ],
   "source": [
    "labels.append(label1)\n",
    "labels.append(label2)\n",
    "\n",
    "print labels"
   ]
  },
  {
   "cell_type": "code",
   "execution_count": 52,
   "metadata": {
    "collapsed": true
   },
   "outputs": [],
   "source": [
    "pickle.dump(labels, open( \"labels.pkl\", \"wb\" ))"
   ]
  },
  {
   "cell_type": "code",
   "execution_count": null,
   "metadata": {
    "collapsed": true
   },
   "outputs": [],
   "source": []
  }
 ],
 "metadata": {
  "kernelspec": {
   "display_name": "Python 2",
   "language": "python",
   "name": "python2"
  },
  "language_info": {
   "codemirror_mode": {
    "name": "ipython",
    "version": 2
   },
   "file_extension": ".py",
   "mimetype": "text/x-python",
   "name": "python",
   "nbconvert_exporter": "python",
   "pygments_lexer": "ipython2",
   "version": "2.7.11"
  }
 },
 "nbformat": 4,
 "nbformat_minor": 0
}
