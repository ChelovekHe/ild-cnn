{
 "cells": [
  {
   "cell_type": "code",
   "execution_count": 10,
   "metadata": {
    "collapsed": true
   },
   "outputs": [],
   "source": [
    "import argparse\n",
    "import numpy as np\n",
    "from keras.datasets import mnist\n",
    "from keras.utils import np_utils \n",
    "import sklearn.metrics as metrics\n",
    "import cPickle as pickle\n",
    "import sys\n",
    "from keras.utils import np_utils "
   ]
  },
  {
   "cell_type": "code",
   "execution_count": 14,
   "metadata": {
    "collapsed": true
   },
   "outputs": [],
   "source": [
    "X_train = pickle.load( open( \"X_train.pkl\", \"rb\" ) )\n",
    "y_train = pickle.load( open( \"y_train.pkl\", \"rb\" ) )\n",
    "X_val = pickle.load( open( \"X_val.pkl\", \"rb\" ) )\n",
    "y_val = pickle.load( open( \"y_val.pkl\", \"rb\" ) )\n",
    "\n",
    "    \n",
    "\n",
    "# adding a singleton dimension and rescale to [0,1]\n",
    "X_train = np.asarray(np.expand_dims(X_train,1))/float(255)\n",
    "X_val = np.asarray(np.expand_dims(X_val,1))/float(255)\n",
    "\n",
    "# labels to categorical vectors\n",
    "uniquelbls = np.unique(y_train)\n",
    "nb_classes = uniquelbls.shape[0]\n",
    "zbn = np.min(uniquelbls) # zero based numbering\n",
    "y_train = np_utils.to_categorical(y_train-zbn, nb_classes)\n",
    "y_val = np_utils.to_categorical(y_val-zbn, nb_classes)"
   ]
  },
  {
   "cell_type": "code",
   "execution_count": 15,
   "metadata": {
    "collapsed": false
   },
   "outputs": [
    {
     "name": "stdout",
     "output_type": "stream",
     "text": [
      "(4000, 1, 32, 32)\n",
      "(4000, 3)\n"
     ]
    }
   ],
   "source": [
    "print X_train.shape\n",
    "print y_train.shape"
   ]
  },
  {
   "cell_type": "code",
   "execution_count": 16,
   "metadata": {
    "collapsed": false
   },
   "outputs": [
    {
     "name": "stdout",
     "output_type": "stream",
     "text": [
      "(2000, 1, 32, 32)\n",
      "(2000, 3)\n"
     ]
    }
   ],
   "source": [
    "print X_val.shape\n",
    "print y_val.shape"
   ]
  },
  {
   "cell_type": "code",
   "execution_count": null,
   "metadata": {
    "collapsed": true
   },
   "outputs": [],
   "source": [
    "# runs OK"
   ]
  }
 ],
 "metadata": {
  "kernelspec": {
   "display_name": "Python 2",
   "language": "python",
   "name": "python2"
  },
  "language_info": {
   "codemirror_mode": {
    "name": "ipython",
    "version": 2
   },
   "file_extension": ".py",
   "mimetype": "text/x-python",
   "name": "python",
   "nbconvert_exporter": "python",
   "pygments_lexer": "ipython2",
   "version": "2.7.11"
  }
 },
 "nbformat": 4,
 "nbformat_minor": 0
}
