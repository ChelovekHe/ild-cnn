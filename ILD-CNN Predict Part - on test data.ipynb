{
 "cells": [
  {
   "cell_type": "markdown",
   "metadata": {},
   "source": [
    "# ILD CNN prediction part\n",
    "    the model is rebuilt\n",
    "    the weights are loaded from ILD_CNN_model_weights"
   ]
  },
  {
   "cell_type": "code",
   "execution_count": 2,
   "metadata": {
    "collapsed": false
   },
   "outputs": [
    {
     "name": "stderr",
     "output_type": "stream",
     "text": [
      "Using Theano backend.\n"
     ]
    },
    {
     "name": "stdout",
     "output_type": "stream",
     "text": [
      "Couldn't import dot_parser, loading of dot files will not be possible.\n"
     ]
    }
   ],
   "source": [
    "import argparse\n",
    "import numpy as np\n",
    "import sklearn.metrics as metrics\n",
    "import cPickle as pickle\n",
    "import json\n",
    "from keras.models import model_from_json\n",
    "import sys\n",
    "import cv2\n",
    "\n",
    "from keras.models import Sequential\n",
    "from keras.utils import np_utils \n",
    "from keras.layers.core import Dense, Dropout, Flatten, Activation\n",
    "from keras.layers.convolutional import Convolution2D, MaxPooling2D,AveragePooling2D\n",
    "from keras.layers.advanced_activations import LeakyReLU"
   ]
  },
  {
   "cell_type": "code",
   "execution_count": 3,
   "metadata": {
    "collapsed": true
   },
   "outputs": [],
   "source": [
    "import ild_helpers as H\n",
    "import cnn_model4 as CNN4"
   ]
  },
  {
   "cell_type": "code",
   "execution_count": 4,
   "metadata": {
    "collapsed": true
   },
   "outputs": [],
   "source": [
    "args         = H.parse_args()                          \n",
    "train_params = {\n",
    "     'do' : float(args.do) if args.do else 0.5,        \n",
    "     'a'  : float(args.a) if args.a else 0.3,          # Conv Layers LeakyReLU alpha param [if alpha set to 0 LeakyReLU is equivalent with ReLU]\n",
    "     'k'  : int(args.k) if args.k else 4,              # Feature maps k multiplier\n",
    "     's'  : float(args.s) if args.s else 1,            # Input Image rescale factor\n",
    "     'pf' : float(args.pf) if args.pf else 1,          # Percentage of the pooling layer: [0,1]\n",
    "     'pt' : args.pt if args.pt else 'Avg',             # Pooling type: Avg, Max\n",
    "     'fp' : args.fp if args.fp else 'proportional',    # Feature maps policy: proportional, static\n",
    "     'cl' : int(args.cl) if args.cl else 5,            # Number of Convolutional Layers\n",
    "     'opt': args.opt if args.opt else 'Adam',          # Optimizer: SGD, Adagrad, Adam\n",
    "     'obj': args.obj if args.obj else 'ce',            # Minimization Objective: mse, ce\n",
    "     'patience' : args.pat if args.pat else 5,         # Patience parameter for early stoping\n",
    "     'tolerance': args.tol if args.tol else 1.005,     # Tolerance parameter for early stoping [default: 1.005, checks if > 0.5%]\n",
    "     'res_alias': args.csv if args.csv else 'res'      # csv results filename alias\n",
    "}"
   ]
  },
  {
   "cell_type": "code",
   "execution_count": 5,
   "metadata": {
    "collapsed": false
   },
   "outputs": [],
   "source": [
    "model = H.load_model()"
   ]
  },
  {
   "cell_type": "code",
   "execution_count": 6,
   "metadata": {
    "collapsed": false
   },
   "outputs": [],
   "source": [
    "model.compile(optimizer='Adam', loss=CNN4.get_Obj(train_params['obj']))"
   ]
  },
  {
   "cell_type": "code",
   "execution_count": 18,
   "metadata": {
    "collapsed": false
   },
   "outputs": [],
   "source": [
    "(X_test, y_test) = H.load_testdata()\n",
    "X_test = X_test[0:10]\n",
    "y_test = y_test[0:10]"
   ]
  },
  {
   "cell_type": "code",
   "execution_count": 19,
   "metadata": {
    "collapsed": false
   },
   "outputs": [
    {
     "data": {
      "text/plain": [
       "array([[ 0.,  1.,  0.,  0.,  0.,  0.],\n",
       "       [ 0.,  0.,  0.,  0.,  1.,  0.],\n",
       "       [ 0.,  0.,  0.,  0.,  1.,  0.],\n",
       "       [ 0.,  0.,  0.,  0.,  1.,  0.],\n",
       "       [ 0.,  0.,  0.,  0.,  1.,  0.],\n",
       "       [ 0.,  0.,  0.,  0.,  1.,  0.],\n",
       "       [ 0.,  0.,  0.,  1.,  0.,  0.],\n",
       "       [ 0.,  1.,  0.,  0.,  0.,  0.],\n",
       "       [ 0.,  1.,  0.,  0.,  0.,  0.],\n",
       "       [ 0.,  0.,  0.,  0.,  0.,  1.]])"
      ]
     },
     "execution_count": 19,
     "metadata": {},
     "output_type": "execute_result"
    }
   ],
   "source": [
    "y_test.shape\n",
    "y_test"
   ]
  },
  {
   "cell_type": "code",
   "execution_count": 20,
   "metadata": {
    "collapsed": false
   },
   "outputs": [
    {
     "name": "stdout",
     "output_type": "stream",
     "text": [
      "10/10 [==============================] - 0s\n",
      "10/10 [==============================] - 0s\n"
     ]
    }
   ],
   "source": [
    "# predict and check classification and probabilities are the same\n",
    "\n",
    "classes = model.predict_classes(X_test, batch_size=10)\n",
    "proba = model.predict_proba(X_test, batch_size=10)"
   ]
  },
  {
   "cell_type": "code",
   "execution_count": 21,
   "metadata": {
    "collapsed": false
   },
   "outputs": [
    {
     "data": {
      "text/plain": [
       "array([1, 4, 4, 3, 3, 4, 3, 2, 1, 5])"
      ]
     },
     "execution_count": 21,
     "metadata": {},
     "output_type": "execute_result"
    }
   ],
   "source": [
    "classes"
   ]
  },
  {
   "cell_type": "code",
   "execution_count": 22,
   "metadata": {
    "collapsed": false
   },
   "outputs": [
    {
     "data": {
      "text/plain": [
       "array([[  2.33090643e-04,   9.98344958e-01,   1.41310238e-03,\n",
       "          1.69823017e-10,   1.29506939e-09,   8.81856249e-06],\n",
       "       [  9.74275613e-16,   3.19316023e-05,   4.29552429e-08,\n",
       "          1.22379254e-06,   9.99966621e-01,   1.81914231e-07],\n",
       "       [  0.00000000e+00,   8.29829797e-23,   5.99833414e-21,\n",
       "          2.90690106e-18,   1.00000000e+00,   4.47039583e-33],\n",
       "       [  2.56549320e-05,   4.71907295e-02,   1.47910416e-01,\n",
       "          4.33063507e-01,   3.71788919e-01,   2.07721332e-05],\n",
       "       [  2.56549320e-05,   4.71907295e-02,   1.47910416e-01,\n",
       "          4.33063507e-01,   3.71788919e-01,   2.07721332e-05],\n",
       "       [  1.76317834e-33,   5.05142315e-13,   3.06530301e-10,\n",
       "          5.45444467e-10,   1.00000000e+00,   1.13258984e-17],\n",
       "       [  7.18908548e-13,   3.47596620e-06,   3.76264211e-07,\n",
       "          9.99628305e-01,   3.67829663e-04,   5.53017054e-15],\n",
       "       [  4.63859105e-05,   2.99533546e-01,   5.97326577e-01,\n",
       "          3.46729124e-04,   8.71171802e-02,   1.56296194e-02],\n",
       "       [  6.00685235e-05,   9.99915600e-01,   1.71154297e-05,\n",
       "          2.40484369e-11,   2.27981634e-10,   7.22491541e-06],\n",
       "       [  1.75696485e-07,   5.84355614e-04,   2.47722724e-04,\n",
       "          4.39662021e-04,   1.87472510e-03,   9.96853352e-01]])"
      ]
     },
     "execution_count": 22,
     "metadata": {},
     "output_type": "execute_result"
    }
   ],
   "source": [
    "proba"
   ]
  },
  {
   "cell_type": "code",
   "execution_count": 12,
   "metadata": {
    "collapsed": false
   },
   "outputs": [],
   "source": []
  },
  {
   "cell_type": "code",
   "execution_count": null,
   "metadata": {
    "collapsed": true
   },
   "outputs": [],
   "source": []
  }
 ],
 "metadata": {
  "kernelspec": {
   "display_name": "Python 2",
   "language": "python",
   "name": "python2"
  },
  "language_info": {
   "codemirror_mode": {
    "name": "ipython",
    "version": 2
   },
   "file_extension": ".py",
   "mimetype": "text/x-python",
   "name": "python",
   "nbconvert_exporter": "python",
   "pygments_lexer": "ipython2",
   "version": "2.7.11"
  }
 },
 "nbformat": 4,
 "nbformat_minor": 0
}
