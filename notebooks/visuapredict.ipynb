{
 "cells": [
  {
   "cell_type": "code",
   "execution_count": 1,
   "metadata": {
    "collapsed": false
   },
   "outputs": [
    {
     "name": "stderr",
     "output_type": "stream",
     "text": [
      "/Users/peterhirt/anaconda/envs/theano/lib/python2.7/site-packages/matplotlib/font_manager.py:273: UserWarning: Matplotlib is building the font cache using fc-list. This may take a moment.\n",
      "  warnings.warn('Matplotlib is building the font cache using fc-list. This may take a moment.')\n"
     ]
    }
   ],
   "source": [
    "import os\n",
    "import numpy as np\n",
    "import shutil\n",
    "import scipy.misc\n",
    "import cPickle as pickle\n",
    "from matplotlib import pyplot as plt\n",
    "from PIL import Image, ImageFont, ImageDraw"
   ]
  },
  {
   "cell_type": "code",
   "execution_count": 2,
   "metadata": {
    "collapsed": false
   },
   "outputs": [],
   "source": [
    "#font file imported in top directory\n",
    "font = ImageFont.truetype( '../fonts/arial.ttf', 20)"
   ]
  },
  {
   "cell_type": "code",
   "execution_count": 3,
   "metadata": {
    "collapsed": true
   },
   "outputs": [],
   "source": [
    "errorfile = open('../errorfile.txt', 'w')\n",
    "#errorfile.close()"
   ]
  },
  {
   "cell_type": "code",
   "execution_count": 4,
   "metadata": {
    "collapsed": true
   },
   "outputs": [],
   "source": [
    "# customisation part\n",
    "\n",
    "# define the dicom image format bmp or jpg\n",
    "typei='bmp'\n",
    "\n",
    "# dicom file size in pixels\n",
    "dimtabx = 512\n",
    "dimtaby = 512\n",
    "\n",
    "# patch size in pixels\n",
    "dimpavx =32\n",
    "dimpavy = 32\n",
    "\n",
    "# threshold for probability\n",
    "thr = 0.8"
   ]
  },
  {
   "cell_type": "code",
   "execution_count": 5,
   "metadata": {
    "collapsed": true
   },
   "outputs": [],
   "source": [
    "#pickle with predicted classes\n",
    "precclaf='../pickle/predicted_classes.pkl'\n",
    " #pickle with predicted probabilities\n",
    "precprobf='../pickle/predicted_probabilities.pkl'"
   ]
  },
  {
   "cell_type": "code",
   "execution_count": 6,
   "metadata": {
    "collapsed": false
   },
   "outputs": [
    {
     "data": {
      "text/plain": [
       "'../pickle/predicted_classes.pkl'"
      ]
     },
     "execution_count": 6,
     "metadata": {},
     "output_type": "execute_result"
    }
   ],
   "source": [
    "precclaf"
   ]
  },
  {
   "cell_type": "code",
   "execution_count": 7,
   "metadata": {
    "collapsed": false
   },
   "outputs": [
    {
     "name": "stdout",
     "output_type": "stream",
     "text": [
      "/Users/peterhirt/datascience/ild-cnn\n"
     ]
    }
   ],
   "source": [
    "one_folder_up = os.path.dirname(os.getcwd())\n",
    "print one_folder_up"
   ]
  },
  {
   "cell_type": "code",
   "execution_count": 9,
   "metadata": {
    "collapsed": false
   },
   "outputs": [
    {
     "name": "stdout",
     "output_type": "stream",
     "text": [
      "/Users/peterhirt/datascience/ild-cnn/predict\n"
     ]
    }
   ],
   "source": [
    "dirpatientdb = os.path.join(one_folder_up,'predict')\n",
    "print dirpatientdb"
   ]
  },
  {
   "cell_type": "code",
   "execution_count": 44,
   "metadata": {
    "collapsed": false
   },
   "outputs": [
    {
     "name": "stdout",
     "output_type": "stream",
     "text": [
      "/Users/peterhirt/datascience/ild-cnn/predict_out\n"
     ]
    }
   ],
   "source": [
    "#directory name with predict out dabasase, will be created in current directory\n",
    "dirpatientoutdb = os.path.join(one_folder_up,'predict_out')\n",
    "print dirpatientoutdb"
   ]
  },
  {
   "cell_type": "code",
   "execution_count": 11,
   "metadata": {
    "collapsed": true
   },
   "outputs": [],
   "source": [
    "# subdirectory name to put images\n",
    "imgdirname = 'jpeg'"
   ]
  },
  {
   "cell_type": "code",
   "execution_count": 13,
   "metadata": {
    "collapsed": true
   },
   "outputs": [],
   "source": [
    "# subdirectory name to colect pkl files resulting from prediction\n",
    "predoutdirname = 'pickle'"
   ]
  },
  {
   "cell_type": "code",
   "execution_count": 14,
   "metadata": {
    "collapsed": true
   },
   "outputs": [],
   "source": [
    "# color of labels\n",
    "\n",
    "red=(255,0,0)\n",
    "green=(0,255,0)\n",
    "blue=(0,0,255)\n",
    "yellow=(255,255,0)\n",
    "cyan=(0,255,255)\n",
    "purple=(255,0,255)\n",
    "white=(255,255,255)"
   ]
  },
  {
   "cell_type": "code",
   "execution_count": 16,
   "metadata": {
    "collapsed": true
   },
   "outputs": [],
   "source": [
    "classif = {\n",
    "    'consolidation': 0,\n",
    "     'fibrosis': 1,\n",
    "     'ground_glass': 2,\n",
    "     'healthy': 3,\n",
    "     'micronodules': 4,\n",
    "     'reticulation': 5\n",
    "    }\n",
    "classifc = {\n",
    "    'consolidation': red,\n",
    "    'fibrosis': blue,\n",
    "     'ground_glass': yellow,\n",
    "     'healthy': green,\n",
    "     'micronodules': cyan,\n",
    "    'reticulation': purple\n",
    "    }"
   ]
  },
  {
   "cell_type": "code",
   "execution_count": 18,
   "metadata": {
    "collapsed": false
   },
   "outputs": [],
   "source": [
    "def fidclass(numero):\n",
    "    \"\"\"return class from number\"\"\"\n",
    "    found=False\n",
    "    for cle, valeur in classif.items():\n",
    "        \n",
    "        if valeur == numero:\n",
    "            found=True\n",
    "            return cle\n",
    "      \n",
    "    if not found:\n",
    "        return 'unknown'"
   ]
  },
  {
   "cell_type": "code",
   "execution_count": 19,
   "metadata": {
    "collapsed": true
   },
   "outputs": [],
   "source": [
    "def interv(borne_inf, borne_sup):\n",
    "    \"\"\"Générateur parcourant la série des entiers entre borne_inf et borne_sup.\n",
    "    inclus\n",
    "    Note: borne_inf doit être inférieure à borne_sup\"\"\"\n",
    "    \n",
    "    while borne_inf <= borne_sup:\n",
    "        yield borne_inf\n",
    "        borne_inf += 1"
   ]
  },
  {
   "cell_type": "code",
   "execution_count": 20,
   "metadata": {
    "collapsed": true
   },
   "outputs": [],
   "source": [
    "def tagview(fig,text,pro,x,y):\n",
    "    \"\"\"write text in image according to label and color\"\"\"\n",
    "    imgn=Image.open(fig)\n",
    "    draw = ImageDraw.Draw(imgn)\n",
    "    col=classifc[text]\n",
    "\n",
    "    deltay=25*(classif[text]%3)\n",
    "    deltax=175*(classif[text]//3)\n",
    "    #print text, col\n",
    "    draw.text((x+deltax, y+deltay),text+' '+pro,col,font=font)\n",
    "    imgn.save(fig)"
   ]
  },
  {
   "cell_type": "code",
   "execution_count": 21,
   "metadata": {
    "collapsed": true
   },
   "outputs": [],
   "source": [
    "def tagviews(fig,text,x,y):\n",
    "    \"\"\"write simple text in image \"\"\"\n",
    "    imgn=Image.open(fig)\n",
    "    draw = ImageDraw.Draw(imgn)\n",
    "    draw.text((x, y),text,white,font=font)\n",
    "    imgn.save(fig)"
   ]
  },
  {
   "cell_type": "code",
   "execution_count": 22,
   "metadata": {
    "collapsed": true
   },
   "outputs": [],
   "source": [
    "def maxproba(proba):\n",
    "    \"\"\"looks for max probability in result\"\"\"\n",
    "    lenp = len(proba)\n",
    "    m=0\n",
    "    for i in interv(0,lenp-1):\n",
    "        if proba[i]>m:\n",
    "            m=proba[i]\n",
    "    return m"
   ]
  },
  {
   "cell_type": "code",
   "execution_count": 46,
   "metadata": {
    "collapsed": true
   },
   "outputs": [],
   "source": [
    "def remove_folder(path):\n",
    "    # check if folder exists\n",
    "    if os.path.exists(path):\n",
    "         # remove if exists\n",
    "         shutil.rmtree(path)\n",
    "         print('this direc exist:',path)"
   ]
  },
  {
   "cell_type": "code",
   "execution_count": 24,
   "metadata": {
    "collapsed": true
   },
   "outputs": [],
   "source": [
    "def loadpkl(f,do):\n",
    "    # create image directory and load pkl files\n",
    "    dop =os.path.join(do,predoutdirname)\n",
    "    # pickle with predicted classes\n",
    "    preclasspick= os.path.join(dop,precclaf)\n",
    "    # pickle with predicted probabilities\n",
    "    preprobpick= os.path.join(dop,precprobf)\n",
    "    # generate input tables from pickles\n",
    "    dd = open(preclasspick,'rb')\n",
    "    my_depickler = pickle.Unpickler(dd)\n",
    "    preclass = my_depickler.load()\n",
    "#    preclass[0]=0\n",
    "#    preclass[1]=1\n",
    "#    preclass[2]=2\n",
    "#    preclass[3]=3\n",
    "#    preclass[4]=4\n",
    "#    preclass[5]=5\n",
    "    dd.close()\n",
    "    dd = open(preprobpick,'rb')\n",
    "    my_depickler = pickle.Unpickler(dd)\n",
    "    preprob = my_depickler.load()\n",
    "    dd.close()  \n",
    "    return (preclass,preprob)"
   ]
  },
  {
   "cell_type": "code",
   "execution_count": 39,
   "metadata": {
    "collapsed": false
   },
   "outputs": [
    {
     "name": "stdout",
     "output_type": "stream",
     "text": [
      "['121']\n"
     ]
    }
   ],
   "source": [
    "listpatient=os.listdir(dirpatientdb)    \n",
    "listpatient.pop(0)\n",
    "listpatient121 = []\n",
    "listpatient121.append(listpatient[1])\n",
    "print listpatient121"
   ]
  },
  {
   "cell_type": "markdown",
   "metadata": {},
   "source": [
    "# actual code"
   ]
  },
  {
   "cell_type": "code",
   "execution_count": 42,
   "metadata": {
    "collapsed": false
   },
   "outputs": [
    {
     "name": "stdout",
     "output_type": "stream",
     "text": [
      "1\n",
      "['121']\n"
     ]
    }
   ],
   "source": [
    "print len(listpatient121)\n",
    "print listpatient121"
   ]
  },
  {
   "cell_type": "code",
   "execution_count": 47,
   "metadata": {
    "collapsed": false
   },
   "outputs": [
    {
     "name": "stdout",
     "output_type": "stream",
     "text": [
      "('work on: ', '121')\n",
      "/Users/peterhirt/datascience/ild-cnn/predict_out/121\n",
      "/Users/peterhirt/datascience/ild-cnn/predict_out/121/jpeg\n"
     ]
    },
    {
     "ename": "OSError",
     "evalue": "[Errno 2] No such file or directory: '/Users/peterhirt/datascience/ild-cnn/predict_out/121/jpeg'",
     "output_type": "error",
     "traceback": [
      "\u001b[0;31m---------------------------------------------------------------------------\u001b[0m",
      "\u001b[0;31mOSError\u001b[0m                                   Traceback (most recent call last)",
      "\u001b[0;32m<ipython-input-47-c2e2f2608afe>\u001b[0m in \u001b[0;36m<module>\u001b[0;34m()\u001b[0m\n\u001b[1;32m      6\u001b[0m     \u001b[0;32mprint\u001b[0m \u001b[0mdoj\u001b[0m\u001b[0;34m\u001b[0m\u001b[0m\n\u001b[1;32m      7\u001b[0m     \u001b[0mremove_folder\u001b[0m\u001b[0;34m(\u001b[0m\u001b[0mdoj\u001b[0m\u001b[0;34m)\u001b[0m\u001b[0;34m\u001b[0m\u001b[0m\n\u001b[0;32m----> 8\u001b[0;31m     \u001b[0mos\u001b[0m\u001b[0;34m.\u001b[0m\u001b[0mmkdir\u001b[0m\u001b[0;34m(\u001b[0m\u001b[0mdoj\u001b[0m\u001b[0;34m)\u001b[0m\u001b[0;34m\u001b[0m\u001b[0m\n\u001b[0m\u001b[1;32m      9\u001b[0m     \u001b[0;34m(\u001b[0m\u001b[0mpreclass\u001b[0m\u001b[0;34m,\u001b[0m\u001b[0mpreprob\u001b[0m\u001b[0;34m)\u001b[0m\u001b[0;34m=\u001b[0m\u001b[0mloadpkl\u001b[0m\u001b[0;34m(\u001b[0m\u001b[0mf\u001b[0m\u001b[0;34m,\u001b[0m\u001b[0mdo\u001b[0m\u001b[0;34m)\u001b[0m\u001b[0;34m\u001b[0m\u001b[0m\n",
      "\u001b[0;31mOSError\u001b[0m: [Errno 2] No such file or directory: '/Users/peterhirt/datascience/ild-cnn/predict_out/121/jpeg'"
     ]
    }
   ],
   "source": [
    "for f in listpatient121:\n",
    "    print('work on: ',f)\n",
    "    do = os.path.join(dirpatientoutdb,f)\n",
    "    print do\n",
    "    doj = os.path.join(do,imgdirname)\n",
    "    print doj\n",
    "    remove_folder(doj)\n",
    "    os.mkdir(doj)\n",
    "    (preclass,preprob)=loadpkl(f,do)"
   ]
  },
  {
   "cell_type": "code",
   "execution_count": null,
   "metadata": {
    "collapsed": true
   },
   "outputs": [],
   "source": [
    "    doj = os.path.join(do,imgdirname)\n",
    "    remove_folder(doj)\n",
    "    os.mkdir(doj)\n",
    "    (preclass,preprob)=loadpkl(f,do)"
   ]
  },
  {
   "cell_type": "code",
   "execution_count": 48,
   "metadata": {
    "collapsed": true
   },
   "outputs": [],
   "source": [
    "from six.moves import cPickle\n",
    "import cPickle as pickle"
   ]
  },
  {
   "cell_type": "code",
   "execution_count": 51,
   "metadata": {
    "collapsed": true
   },
   "outputs": [],
   "source": [
    "predicted_classes = pickle.load( open( \"../pickle/predicted_classes.pkl\", \"rb\" ) )\n",
    "predicted_probabilities = pickle.load( open( \"../pickle/predicted_probabilities.pkl\", \"rb\" ) )\n",
    "X_file_reference = pickle.load( open( \"../pickle/X_file_reference.pkl\", \"rb\" ) )"
   ]
  },
  {
   "cell_type": "code",
   "execution_count": 50,
   "metadata": {
    "collapsed": false
   },
   "outputs": [
    {
     "data": {
      "text/plain": [
       "array([1, 1, 1, 1, 1, 1, 1, 1, 1, 1, 1, 1, 1, 1, 1, 1, 1, 1, 1, 1, 1, 1, 1,\n",
       "       1, 1, 1, 1, 1, 1, 1, 1, 1, 1, 1, 2, 1, 1, 1, 1, 1, 2, 1, 1, 1, 1, 1,\n",
       "       1, 1, 1, 1, 1, 2, 2, 3, 1, 3, 2, 2, 2, 2, 1, 1, 1, 1, 3, 1, 1, 1, 1,\n",
       "       1, 2, 2, 1, 3, 2, 2, 1, 2, 2, 1, 3, 1, 1, 1, 1, 3, 2, 1, 1, 1, 1, 2,\n",
       "       2, 1, 2, 1, 3, 2, 1, 1, 3, 1, 1, 1, 1, 1, 1, 2, 3, 1, 1, 1, 2, 1, 1,\n",
       "       1, 2, 1, 3, 2, 2, 2, 1, 1, 1, 1, 1, 1, 1, 1, 1, 1, 1, 1, 1, 1, 1, 1,\n",
       "       1, 1, 3, 3, 2, 3, 1, 3, 2, 2, 1, 1, 2, 2, 1, 1, 1, 1, 2, 2, 1, 1, 1,\n",
       "       2, 1, 1, 2, 1, 1, 1, 2, 1, 1, 1, 1, 1, 1, 2, 1, 2, 1, 2, 1, 1, 1, 2,\n",
       "       1, 1, 1, 1, 1, 1, 1, 1, 1, 1, 1, 1, 1, 1, 1, 2, 2, 1, 1, 1, 1, 1, 1,\n",
       "       2, 1, 1, 1, 1, 1, 1, 1, 1, 1, 1, 1, 1, 1, 1, 1, 1, 1, 1, 1, 1, 1, 1,\n",
       "       2, 2, 1, 1, 1, 1, 1, 1, 1, 1, 1, 1, 1, 1, 1, 1, 1, 1, 1, 1, 1, 1, 1,\n",
       "       1, 1, 1, 1, 1, 1, 1, 1, 1, 1, 1, 1, 1, 1, 1, 1, 1, 1, 1, 1, 1, 1, 1,\n",
       "       1, 1, 1, 1, 1, 1, 1, 1, 1, 1, 1, 1, 1, 1, 1, 1, 2, 2, 1, 1, 1, 1, 1,\n",
       "       1, 1, 2, 1, 1, 1, 1, 1, 1, 1, 1, 1, 1, 1, 2, 1, 1, 1, 1, 1, 1, 1, 1,\n",
       "       1, 1, 1, 1, 1, 1, 1, 1, 1, 1, 1, 1, 1, 1, 1, 1])"
      ]
     },
     "execution_count": 50,
     "metadata": {},
     "output_type": "execute_result"
    }
   ],
   "source": [
    "predicted_classes"
   ]
  },
  {
   "cell_type": "code",
   "execution_count": 52,
   "metadata": {
    "collapsed": false
   },
   "outputs": [
    {
     "data": {
      "text/plain": [
       "array([[  1.33350966e-08,   9.99103427e-01,   8.96522717e-04,\n",
       "          1.03297024e-10,   1.22284682e-10,   5.38606031e-08],\n",
       "       [  8.85062400e-06,   9.55910444e-01,   1.13144813e-06,\n",
       "          4.40795682e-02,   6.30839114e-09,   2.76626690e-11],\n",
       "       [  2.00469316e-07,   9.69777763e-01,   3.01982090e-02,\n",
       "          7.64456054e-10,   2.62022922e-07,   2.35684511e-05],\n",
       "       ..., \n",
       "       [  3.52787916e-12,   9.99415517e-01,   5.84509806e-04,\n",
       "          8.00624690e-15,   1.83748719e-12,   7.32938016e-11],\n",
       "       [  2.43843580e-16,   9.99999940e-01,   8.10801595e-08,\n",
       "          5.94657661e-19,   1.98992775e-16,   2.57097186e-12],\n",
       "       [  1.71554027e-09,   9.99838591e-01,   1.61364602e-04,\n",
       "          4.26771174e-10,   7.51560147e-09,   6.04835364e-08]])"
      ]
     },
     "execution_count": 52,
     "metadata": {},
     "output_type": "execute_result"
    }
   ],
   "source": [
    "predicted_probabilities"
   ]
  },
  {
   "cell_type": "code",
   "execution_count": 54,
   "metadata": {
    "collapsed": false
   },
   "outputs": [
    {
     "data": {
      "text/plain": [
       "array(['p_0001_160_256.bmp', 'p_0002_128_256.bmp', 'p_0002_128_288.bmp',\n",
       "       'p_0002_160_256.bmp', 'p_0002_160_288.bmp'], \n",
       "      dtype='|S18')"
      ]
     },
     "execution_count": 54,
     "metadata": {},
     "output_type": "execute_result"
    }
   ],
   "source": [
    "X_file_reference[0:5]"
   ]
  },
  {
   "cell_type": "code",
   "execution_count": 56,
   "metadata": {
    "collapsed": false
   },
   "outputs": [
    {
     "name": "stdout",
     "output_type": "stream",
     "text": [
      "(338,)\n",
      "(338, 6)\n",
      "(338,)\n"
     ]
    }
   ],
   "source": [
    "print predicted_classes.shape\n",
    "print predicted_probabilities.shape\n",
    "print X_file_reference.shape"
   ]
  },
  {
   "cell_type": "code",
   "execution_count": 60,
   "metadata": {
    "collapsed": false
   },
   "outputs": [],
   "source": [
    "results = np.concatenate((predicted_classes, X_file_reference))"
   ]
  },
  {
   "cell_type": "code",
   "execution_count": 61,
   "metadata": {
    "collapsed": false
   },
   "outputs": [
    {
     "data": {
      "text/plain": [
       "array(['1', '1', '1', '1', '1'], \n",
       "      dtype='|S21')"
      ]
     },
     "execution_count": 61,
     "metadata": {},
     "output_type": "execute_result"
    }
   ],
   "source": [
    "results[0:5]"
   ]
  },
  {
   "cell_type": "code",
   "execution_count": 62,
   "metadata": {
    "collapsed": true
   },
   "outputs": [],
   "source": [
    "a = [[1],[2],[3]]"
   ]
  },
  {
   "cell_type": "code",
   "execution_count": 64,
   "metadata": {
    "collapsed": true
   },
   "outputs": [],
   "source": [
    "b = [[4],[5],[6]]"
   ]
  },
  {
   "cell_type": "code",
   "execution_count": 66,
   "metadata": {
    "collapsed": false
   },
   "outputs": [
    {
     "data": {
      "text/plain": [
       "array([[1, 4],\n",
       "       [2, 5],\n",
       "       [3, 6]])"
      ]
     },
     "execution_count": 66,
     "metadata": {},
     "output_type": "execute_result"
    }
   ],
   "source": [
    "np.concatenate((a,b), axis=1)"
   ]
  },
  {
   "cell_type": "code",
   "execution_count": 67,
   "metadata": {
    "collapsed": true
   },
   "outputs": [],
   "source": [
    "aa = [1,2,3]\n",
    "bb = [4,5,6]"
   ]
  },
  {
   "cell_type": "code",
   "execution_count": 71,
   "metadata": {
    "collapsed": false
   },
   "outputs": [
    {
     "ename": "AttributeError",
     "evalue": "'list' object has no attribute 'T'",
     "output_type": "error",
     "traceback": [
      "\u001b[0;31m---------------------------------------------------------------------------\u001b[0m",
      "\u001b[0;31mAttributeError\u001b[0m                            Traceback (most recent call last)",
      "\u001b[0;32m<ipython-input-71-3b404b83c8d5>\u001b[0m in \u001b[0;36m<module>\u001b[0;34m()\u001b[0m\n\u001b[0;32m----> 1\u001b[0;31m \u001b[0mnp\u001b[0m\u001b[0;34m.\u001b[0m\u001b[0mconcatenate\u001b[0m\u001b[0;34m(\u001b[0m\u001b[0;34m(\u001b[0m\u001b[0maa\u001b[0m\u001b[0;34m.\u001b[0m\u001b[0mT\u001b[0m\u001b[0;34m,\u001b[0m\u001b[0mbb\u001b[0m\u001b[0;34m.\u001b[0m\u001b[0mT\u001b[0m\u001b[0;34m)\u001b[0m\u001b[0;34m,\u001b[0m \u001b[0maxis\u001b[0m\u001b[0;34m=\u001b[0m\u001b[0;36m1\u001b[0m\u001b[0;34m)\u001b[0m\u001b[0;34m\u001b[0m\u001b[0m\n\u001b[0m",
      "\u001b[0;31mAttributeError\u001b[0m: 'list' object has no attribute 'T'"
     ]
    }
   ],
   "source": [
    "np.concatenate((aa.T,bb.T), axis=1)"
   ]
  },
  {
   "cell_type": "code",
   "execution_count": 83,
   "metadata": {
    "collapsed": true
   },
   "outputs": [],
   "source": [
    "aaa = predicted_classes[0:3]\n",
    "bbb = X_file_reference[0:3]\n",
    "X = [200,210,220]\n",
    "Y = [100,150,200]"
   ]
  },
  {
   "cell_type": "code",
   "execution_count": 78,
   "metadata": {
    "collapsed": false
   },
   "outputs": [
    {
     "name": "stdout",
     "output_type": "stream",
     "text": [
      "1\n"
     ]
    }
   ],
   "source": [
    "print aaa[0]"
   ]
  },
  {
   "cell_type": "code",
   "execution_count": 84,
   "metadata": {
    "collapsed": false
   },
   "outputs": [],
   "source": [
    "c = np.zeros((3, 3))\n",
    "for i in range(3):\n",
    "    c[i][0] = aaa[i]\n",
    "    c[i][1] = X[i]\n",
    "    c[i][2] = Y[i]"
   ]
  },
  {
   "cell_type": "code",
   "execution_count": 85,
   "metadata": {
    "collapsed": false
   },
   "outputs": [
    {
     "data": {
      "text/plain": [
       "array([[   1.,  200.,  100.],\n",
       "       [   1.,  210.,  150.],\n",
       "       [   1.,  220.,  200.]])"
      ]
     },
     "execution_count": 85,
     "metadata": {},
     "output_type": "execute_result"
    }
   ],
   "source": [
    "c"
   ]
  },
  {
   "cell_type": "code",
   "execution_count": 86,
   "metadata": {
    "collapsed": false
   },
   "outputs": [
    {
     "data": {
      "text/plain": [
       "3"
      ]
     },
     "execution_count": 86,
     "metadata": {},
     "output_type": "execute_result"
    }
   ],
   "source": [
    "bbb[0].count('_')"
   ]
  },
  {
   "cell_type": "code",
   "execution_count": 91,
   "metadata": {
    "collapsed": false
   },
   "outputs": [
    {
     "data": {
      "text/plain": [
       "['p', '0001', '160', '256.bmp']"
      ]
     },
     "execution_count": 91,
     "metadata": {},
     "output_type": "execute_result"
    }
   ],
   "source": [
    "bbb[0].split('_')"
   ]
  },
  {
   "cell_type": "code",
   "execution_count": 96,
   "metadata": {
    "collapsed": false
   },
   "outputs": [
    {
     "data": {
      "text/plain": [
       "['p_0001_160_256', 'bmp']"
      ]
     },
     "execution_count": 96,
     "metadata": {},
     "output_type": "execute_result"
    }
   ],
   "source": [
    "bbbb = bbb[0].split('.')\n"
   ]
  },
  {
   "cell_type": "code",
   "execution_count": 97,
   "metadata": {
    "collapsed": false
   },
   "outputs": [
    {
     "name": "stdout",
     "output_type": "stream",
     "text": [
      "p_0001_160_256\n"
     ]
    }
   ],
   "source": [
    "print bbbb[0]"
   ]
  },
  {
   "cell_type": "code",
   "execution_count": 98,
   "metadata": {
    "collapsed": false
   },
   "outputs": [
    {
     "name": "stdout",
     "output_type": "stream",
     "text": [
      "['p', '0001', '160', '256']\n"
     ]
    }
   ],
   "source": [
    "print bbbb[0].split('_')"
   ]
  },
  {
   "cell_type": "code",
   "execution_count": null,
   "metadata": {
    "collapsed": true
   },
   "outputs": [],
   "source": []
  }
 ],
 "metadata": {
  "kernelspec": {
   "display_name": "Python 2",
   "language": "python",
   "name": "python2"
  },
  "language_info": {
   "codemirror_mode": {
    "name": "ipython",
    "version": 2
   },
   "file_extension": ".py",
   "mimetype": "text/x-python",
   "name": "python",
   "nbconvert_exporter": "python",
   "pygments_lexer": "ipython2",
   "version": "2.7.11"
  }
 },
 "nbformat": 4,
 "nbformat_minor": 0
}
