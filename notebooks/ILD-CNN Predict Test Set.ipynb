{
 "cells": [
  {
   "cell_type": "markdown",
   "metadata": {},
   "source": [
    "# ILD CNN prediction part\n",
    "## data set is testset\n",
    "    the model is rebuilt from the JSON file and recompiled with the weights \n",
    "    the weights are loaded from ILD_CNN_model_weights\n",
    "    "
   ]
  },
  {
   "cell_type": "code",
   "execution_count": 1,
   "metadata": {
    "collapsed": false
   },
   "outputs": [
    {
     "name": "stderr",
     "output_type": "stream",
     "text": [
      "Using Theano backend.\n"
     ]
    }
   ],
   "source": [
    "import argparse\n",
    "import numpy as np\n",
    "import sklearn.metrics as metrics\n",
    "import cPickle as pickle\n",
    "import json\n",
    "from keras.models import model_from_json\n",
    "import sys\n",
    "import cv2\n",
    "\n",
    "from keras.models import Sequential\n",
    "from keras.utils import np_utils \n",
    "from keras.layers.core import Dense, Dropout, Flatten, Activation\n",
    "from keras.layers.convolutional import Convolution2D, MaxPooling2D,AveragePooling2D\n",
    "from keras.layers.advanced_activations import LeakyReLU"
   ]
  },
  {
   "cell_type": "code",
   "execution_count": 2,
   "metadata": {
    "collapsed": true
   },
   "outputs": [],
   "source": [
    "# hinting the path into the python directory where my helper and model files reside\n",
    "sys.path.insert(0, '../python')"
   ]
  },
  {
   "cell_type": "code",
   "execution_count": 3,
   "metadata": {
    "collapsed": false
   },
   "outputs": [],
   "source": [
    "import ild_helpers as H\n",
    "import cnn_model as CNN"
   ]
  },
  {
   "cell_type": "code",
   "execution_count": 4,
   "metadata": {
    "collapsed": true
   },
   "outputs": [],
   "source": [
    "args         = H.parse_args()                          \n",
    "train_params = {\n",
    "     'do' : float(args.do) if args.do else 0.5,        \n",
    "     'a'  : float(args.a) if args.a else 0.3,          # Conv Layers LeakyReLU alpha param [if alpha set to 0 LeakyReLU is equivalent with ReLU]\n",
    "     'k'  : int(args.k) if args.k else 4,              # Feature maps k multiplier\n",
    "     's'  : float(args.s) if args.s else 1,            # Input Image rescale factor\n",
    "     'pf' : float(args.pf) if args.pf else 1,          # Percentage of the pooling layer: [0,1]\n",
    "     'pt' : args.pt if args.pt else 'Avg',             # Pooling type: Avg, Max\n",
    "     'fp' : args.fp if args.fp else 'proportional',    # Feature maps policy: proportional, static\n",
    "     'cl' : int(args.cl) if args.cl else 5,            # Number of Convolutional Layers\n",
    "     'opt': args.opt if args.opt else 'Adam',          # Optimizer: SGD, Adagrad, Adam\n",
    "     'obj': args.obj if args.obj else 'ce',            # Minimization Objective: mse, ce\n",
    "     'patience' : args.pat if args.pat else 5,         # Patience parameter for early stoping\n",
    "     'tolerance': args.tol if args.tol else 1.005,     # Tolerance parameter for early stoping [default: 1.005, checks if > 0.5%]\n",
    "     'res_alias': args.csv if args.csv else 'res'      # csv results filename alias\n",
    "}"
   ]
  },
  {
   "cell_type": "code",
   "execution_count": 5,
   "metadata": {
    "collapsed": false
   },
   "outputs": [],
   "source": [
    "# load both the model and the weights\n",
    "\n",
    "model = H.load_model()"
   ]
  },
  {
   "cell_type": "code",
   "execution_count": 6,
   "metadata": {
    "collapsed": false
   },
   "outputs": [],
   "source": [
    "model.compile(optimizer='Adam', loss=CNN.get_Obj(train_params['obj']))"
   ]
  },
  {
   "cell_type": "code",
   "execution_count": 7,
   "metadata": {
    "collapsed": false
   },
   "outputs": [],
   "source": [
    "X_predict = pickle.load( open( \"../pickle/X_test.pkl\", \"rb\" ) )"
   ]
  },
  {
   "cell_type": "code",
   "execution_count": 8,
   "metadata": {
    "collapsed": true
   },
   "outputs": [],
   "source": [
    "# adding a singleton dimension and rescale to [0,1]\n",
    "X_predict = np.asarray(np.expand_dims(X_predict,1))/float(255)"
   ]
  },
  {
   "cell_type": "code",
   "execution_count": 9,
   "metadata": {
    "collapsed": false
   },
   "outputs": [
    {
     "name": "stdout",
     "output_type": "stream",
     "text": [
      "6250/6250 [==============================] - 69s    \n",
      "6250/6250 [==============================] - 70s    \n"
     ]
    }
   ],
   "source": [
    "# predict and check classification and probabilities are the same\n",
    "\n",
    "classes = model.predict_classes(X_predict, batch_size=10)\n",
    "proba = model.predict_proba(X_predict, batch_size=10)"
   ]
  },
  {
   "cell_type": "code",
   "execution_count": 10,
   "metadata": {
    "collapsed": false
   },
   "outputs": [
    {
     "data": {
      "text/plain": [
       "array([4, 1, 4, ..., 2, 1, 1])"
      ]
     },
     "execution_count": 10,
     "metadata": {},
     "output_type": "execute_result"
    }
   ],
   "source": [
    "classes"
   ]
  },
  {
   "cell_type": "code",
   "execution_count": 11,
   "metadata": {
    "collapsed": false
   },
   "outputs": [
    {
     "data": {
      "text/plain": [
       "array([[  8.80201063e-15,   2.21276838e-12,   1.83340744e-19,\n",
       "          4.70158579e-10,   1.00000000e+00,   3.61959615e-21],\n",
       "       [  1.67203951e-04,   6.61034942e-01,   3.23322296e-01,\n",
       "          5.70375869e-06,   7.06237834e-03,   8.40748660e-03],\n",
       "       [  5.33210073e-11,   2.05621090e-10,   2.36306547e-11,\n",
       "          1.16759853e-03,   9.98832405e-01,   1.20484999e-14],\n",
       "       ..., \n",
       "       [  1.85666261e-13,   2.85946587e-13,   7.36005843e-01,\n",
       "          2.63994187e-01,   2.11291776e-10,   4.61224652e-14],\n",
       "       [  3.75343623e-09,   9.98862565e-01,   4.75297128e-11,\n",
       "          5.43771842e-12,   2.02445462e-05,   1.11716636e-03],\n",
       "       [  6.03482431e-06,   9.99972880e-01,   1.95290522e-05,\n",
       "          3.20099417e-07,   1.54640500e-09,   1.26309692e-06]])"
      ]
     },
     "execution_count": 11,
     "metadata": {},
     "output_type": "execute_result"
    }
   ],
   "source": [
    "proba"
   ]
  },
  {
   "cell_type": "code",
   "execution_count": 13,
   "metadata": {
    "collapsed": true
   },
   "outputs": [],
   "source": [
    "pickle.dump(classes, open( \"../pickle/predicted_classes_test_set.pkl\", \"wb\" ))\n",
    "pickle.dump(proba, open( \"../pickle/predicted_probabilities_test_set.pkl\", \"wb\" ))"
   ]
  },
  {
   "cell_type": "code",
   "execution_count": null,
   "metadata": {
    "collapsed": true
   },
   "outputs": [],
   "source": []
  }
 ],
 "metadata": {
  "kernelspec": {
   "display_name": "Python 2",
   "language": "python",
   "name": "python2"
  },
  "language_info": {
   "codemirror_mode": {
    "name": "ipython",
    "version": 2
   },
   "file_extension": ".py",
   "mimetype": "text/x-python",
   "name": "python",
   "nbconvert_exporter": "python",
   "pygments_lexer": "ipython2",
   "version": "2.7.11"
  }
 },
 "nbformat": 4,
 "nbformat_minor": 0
}
