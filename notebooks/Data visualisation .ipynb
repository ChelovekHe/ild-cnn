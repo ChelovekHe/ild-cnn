{
 "cells": [
  {
   "cell_type": "code",
   "execution_count": 4,
   "metadata": {
    "collapsed": false
   },
   "outputs": [],
   "source": [
    "import numpy as np"
   ]
  },
  {
   "cell_type": "code",
   "execution_count": 5,
   "metadata": {
    "collapsed": false
   },
   "outputs": [
    {
     "data": {
      "text/plain": [
       "array([0, 1, 2, 3, 4, 5, 6, 7, 8, 9])"
      ]
     },
     "execution_count": 5,
     "metadata": {},
     "output_type": "execute_result"
    }
   ],
   "source": [
    "np.arange(10)"
   ]
  },
  {
   "cell_type": "code",
   "execution_count": 7,
   "metadata": {
    "collapsed": false
   },
   "outputs": [
    {
     "data": {
      "text/plain": [
       "array([[ 0.1,  0.3],\n",
       "       [ 1.4, -3.1]])"
      ]
     },
     "execution_count": 7,
     "metadata": {},
     "output_type": "execute_result"
    }
   ],
   "source": [
    "data = np.array([[0.1, 0.3],[1.4, -3.1]])\n",
    "data"
   ]
  },
  {
   "cell_type": "code",
   "execution_count": 8,
   "metadata": {
    "collapsed": false
   },
   "outputs": [
    {
     "data": {
      "text/plain": [
       "array([[  1.,   3.],\n",
       "       [ 14., -31.]])"
      ]
     },
     "execution_count": 8,
     "metadata": {},
     "output_type": "execute_result"
    }
   ],
   "source": [
    "data*10"
   ]
  },
  {
   "cell_type": "code",
   "execution_count": 9,
   "metadata": {
    "collapsed": false
   },
   "outputs": [
    {
     "data": {
      "text/plain": [
       "array([[ 1.,  1.,  1.,  1.,  1.],\n",
       "       [ 1.,  1.,  1.,  1.,  1.],\n",
       "       [ 1.,  1.,  1.,  1.,  1.]])"
      ]
     },
     "execution_count": 9,
     "metadata": {},
     "output_type": "execute_result"
    }
   ],
   "source": [
    "np.ones((3,5))"
   ]
  },
  {
   "cell_type": "code",
   "execution_count": 13,
   "metadata": {
    "collapsed": false
   },
   "outputs": [
    {
     "data": {
      "text/plain": [
       "array([[ 0.,  0.,  0.],\n",
       "       [ 0.,  0.,  0.]])"
      ]
     },
     "execution_count": 13,
     "metadata": {},
     "output_type": "execute_result"
    }
   ],
   "source": [
    "np.zeros((2,3))"
   ]
  },
  {
   "cell_type": "code",
   "execution_count": 16,
   "metadata": {
    "collapsed": false
   },
   "outputs": [],
   "source": [
    "data = np.arange(20)"
   ]
  },
  {
   "cell_type": "code",
   "execution_count": 17,
   "metadata": {
    "collapsed": false
   },
   "outputs": [
    {
     "data": {
      "text/plain": [
       "array([[ 0,  1,  2,  3,  4],\n",
       "       [ 5,  6,  7,  8,  9],\n",
       "       [10, 11, 12, 13, 14],\n",
       "       [15, 16, 17, 18, 19]])"
      ]
     },
     "execution_count": 17,
     "metadata": {},
     "output_type": "execute_result"
    }
   ],
   "source": [
    "data.reshape(4,5)"
   ]
  },
  {
   "cell_type": "code",
   "execution_count": 21,
   "metadata": {
    "collapsed": false
   },
   "outputs": [
    {
     "data": {
      "text/plain": [
       "array([[ 0.71366829,  0.10504686,  0.86457862,  0.71972754],\n",
       "       [ 0.1479282 ,  0.0114388 ,  0.65738102,  0.03707754],\n",
       "       [ 0.81992311,  0.00887441,  0.9149791 ,  0.85638204],\n",
       "       [ 0.67619346,  0.49683557,  0.34168439,  0.12406717],\n",
       "       [ 0.22841553,  0.72715279,  0.84085063,  0.65264679],\n",
       "       [ 0.57122402,  0.53551009,  0.92911499,  0.70345745]])"
      ]
     },
     "execution_count": 21,
     "metadata": {},
     "output_type": "execute_result"
    }
   ],
   "source": [
    "data1 = np.random.rand(6,4)\n",
    "data1"
   ]
  },
  {
   "cell_type": "code",
   "execution_count": 22,
   "metadata": {
    "collapsed": false
   },
   "outputs": [
    {
     "data": {
      "text/plain": [
       "(6, 4)"
      ]
     },
     "execution_count": 22,
     "metadata": {},
     "output_type": "execute_result"
    }
   ],
   "source": [
    "data1.shape"
   ]
  },
  {
   "cell_type": "code",
   "execution_count": 24,
   "metadata": {
    "collapsed": false
   },
   "outputs": [
    {
     "data": {
      "text/plain": [
       "array([[ 0.65738102,  0.03707754],\n",
       "       [ 0.9149791 ,  0.85638204]])"
      ]
     },
     "execution_count": 24,
     "metadata": {},
     "output_type": "execute_result"
    }
   ],
   "source": [
    "data1[1:3,2:4]"
   ]
  },
  {
   "cell_type": "code",
   "execution_count": 25,
   "metadata": {
    "collapsed": false
   },
   "outputs": [
    {
     "data": {
      "text/plain": [
       "array([ 0.9149791 ,  0.92911499])"
      ]
     },
     "execution_count": 25,
     "metadata": {},
     "output_type": "execute_result"
    }
   ],
   "source": [
    "data1[data1 > 0.9]"
   ]
  },
  {
   "cell_type": "code",
   "execution_count": 29,
   "metadata": {
    "collapsed": false
   },
   "outputs": [
    {
     "name": "stderr",
     "output_type": "stream",
     "text": [
      "ERROR: Line magic function `%mathplotlib` not found.\n"
     ]
    }
   ],
   "source": [
    "# matplotlib\n",
    "import matplotlib.pyplot as plt\n",
    "\n"
   ]
  },
  {
   "cell_type": "code",
   "execution_count": 30,
   "metadata": {
    "collapsed": true
   },
   "outputs": [],
   "source": [
    "%matplotlib inline"
   ]
  },
  {
   "cell_type": "code",
   "execution_count": 31,
   "metadata": {
    "collapsed": false
   },
   "outputs": [
    {
     "data": {
      "image/png": "[encoded data removed]",
      "text/plain": [
       "<matplotlib.figure.Figure at 0x10dc84750>"
      ]
     },
     "metadata": {},
     "output_type": "display_data"
    }
   ],
   "source": [
    "fig = plt.figure()\n",
    "ax1 = fig.add_subplot(1,1,1)\n",
    "x = np.linspace(0, 3*np.pi, 1000)\n",
    "y = np.sin(x**2)\n",
    "ax1.plot(x,y);"
   ]
  },
  {
   "cell_type": "code",
   "execution_count": 35,
   "metadata": {
    "collapsed": false
   },
   "outputs": [
    {
     "data": {
      "image/png": "[encoded data removed]",
      "text/plain": [
       "<matplotlib.figure.Figure at 0x10e907d90>"
      ]
     },
     "metadata": {},
     "output_type": "display_data"
    }
   ],
   "source": [
    "fig = plt.figure()\n",
    "ax1 = fig.add_subplot(1,3,1)\n",
    "ax2 = fig.add_subplot(1,3,2)\n",
    "ax3 = fig.add_subplot(1,3,3)\n",
    "\n",
    "ax1.hist(np.random.randn(100), bins=20, color='g', alpha=0.3);\n",
    "ax2.scatter(np.arange(30), np.arange(30) + 3*np.random.randn(30));\n",
    "ax3.plot(np.random.randn(50).cumsum(), 'r--');\n"
   ]
  },
  {
   "cell_type": "code",
   "execution_count": 36,
   "metadata": {
    "collapsed": true
   },
   "outputs": [],
   "source": [
    "import csv"
   ]
  },
  {
   "cell_type": "code",
   "execution_count": null,
   "metadata": {
    "collapsed": true
   },
   "outputs": [],
   "source": []
  },
  {
   "cell_type": "code",
   "execution_count": 37,
   "metadata": {
    "collapsed": true
   },
   "outputs": [],
   "source": [
    "with open('names.csv', 'w') as csvfile:\n",
    "    fieldnames = ['first_name', 'last_name']\n",
    "    writer = csv.DictWriter(csvfile, fieldnames=fieldnames)\n",
    "\n",
    "    writer.writeheader()\n",
    "    writer.writerow({'first_name': 'Baked', 'last_name': 'Beans'})\n",
    "    writer.writerow({'first_name': 'Lovely', 'last_name': 'Spam'})\n",
    "    writer.writerow({'first_name': 'Wonderful', 'last_name': 'Spam'})"
   ]
  },
  {
   "cell_type": "code",
   "execution_count": 77,
   "metadata": {
    "collapsed": false
   },
   "outputs": [],
   "source": [
    "with open('trial.csv', 'rb') as csvfile:\n",
    "    reader = csv.DictReader(csvfile)\n",
    "    loss_list = []\n",
    "    x = []\n",
    "    for row in reader:\n",
    "        # print(row['Epoch'], row[' Val_loss'], row[' Train_loss'])\n",
    "        loss_list.append([float(row[' Val_loss']),float(row[' Train_loss'])])\n",
    "        x.append(row['Epoch'])"
   ]
  },
  {
   "cell_type": "code",
   "execution_count": 70,
   "metadata": {
    "collapsed": false
   },
   "outputs": [
    {
     "data": {
      "text/plain": [
       "[[12.0, 455.0], [455, 12]]"
      ]
     },
     "execution_count": 70,
     "metadata": {},
     "output_type": "execute_result"
    }
   ],
   "source": [
    "a = 12\n",
    "b = 455\n",
    "list = []\n",
    "list.append([float(a), float(b)])\n",
    "list.append([b, a])\n",
    "list\n"
   ]
  },
  {
   "cell_type": "code",
   "execution_count": 71,
   "metadata": {
    "collapsed": false
   },
   "outputs": [
    {
     "data": {
      "text/plain": [
       "[[0.93732292223, 1.26021481943], [0.81269048357, 0.911233872414]]"
      ]
     },
     "execution_count": 71,
     "metadata": {},
     "output_type": "execute_result"
    }
   ],
   "source": [
    "loss_list[0:2]"
   ]
  },
  {
   "cell_type": "code",
   "execution_count": 99,
   "metadata": {
    "collapsed": false
   },
   "outputs": [
    {
     "data": {
      "text/plain": [
       "array([[ 1.26021482],\n",
       "       [ 0.91123387],\n",
       "       [ 0.83009062],\n",
       "       [ 0.76857727],\n",
       "       [ 0.73285356],\n",
       "       [ 0.70407989],\n",
       "       [ 0.67526567],\n",
       "       [ 0.65226888],\n",
       "       [ 0.63537143],\n",
       "       [ 0.64889372],\n",
       "       [ 0.61829121],\n",
       "       [ 0.60443586],\n",
       "       [ 0.60469762],\n",
       "       [ 0.58403902],\n",
       "       [ 0.57609983],\n",
       "       [ 0.552403  ],\n",
       "       [ 0.56032124],\n",
       "       [ 0.55403053],\n",
       "       [ 0.5341565 ],\n",
       "       [ 0.53422765],\n",
       "       [ 0.52489864],\n",
       "       [ 0.51201457],\n",
       "       [ 0.51563084],\n",
       "       [ 0.50117894],\n",
       "       [ 0.49794228],\n",
       "       [ 0.48684471],\n",
       "       [ 0.4937322 ],\n",
       "       [ 0.49241746],\n",
       "       [ 0.48176297],\n",
       "       [ 0.4644508 ],\n",
       "       [ 0.46713442],\n",
       "       [ 0.46176255],\n",
       "       [ 0.46260811],\n",
       "       [ 0.45260951],\n",
       "       [ 0.44236759],\n",
       "       [ 0.44180169],\n",
       "       [ 0.44431265],\n",
       "       [ 0.43539109],\n",
       "       [ 0.43935642],\n",
       "       [ 0.41990208],\n",
       "       [ 0.42612421],\n",
       "       [ 0.42634542],\n",
       "       [ 0.42201122],\n",
       "       [ 0.41911484],\n",
       "       [ 0.40707949],\n",
       "       [ 0.41355779],\n",
       "       [ 0.40656153],\n",
       "       [ 0.40676021],\n",
       "       [ 0.39730068],\n",
       "       [ 0.3968983 ],\n",
       "       [ 0.39570229],\n",
       "       [ 0.38607316],\n",
       "       [ 0.39145645],\n",
       "       [ 0.40746867],\n",
       "       [ 0.38977651],\n",
       "       [ 0.38908731],\n",
       "       [ 0.38152492],\n",
       "       [ 0.38112639],\n",
       "       [ 0.37540001],\n",
       "       [ 0.38742669],\n",
       "       [ 0.37436147],\n",
       "       [ 0.36735208],\n",
       "       [ 0.36576541],\n",
       "       [ 0.35926217],\n",
       "       [ 0.36189014],\n",
       "       [ 0.36859221],\n",
       "       [ 0.35982935],\n",
       "       [ 0.35876985],\n",
       "       [ 0.35743316],\n",
       "       [ 0.34742234],\n",
       "       [ 0.34644158],\n",
       "       [ 0.34747925],\n",
       "       [ 0.34565726],\n",
       "       [ 0.34069418],\n",
       "       [ 0.34390956],\n",
       "       [ 0.33403308],\n",
       "       [ 0.3422566 ],\n",
       "       [ 0.33213405],\n",
       "       [ 0.33114254],\n",
       "       [ 0.3257794 ],\n",
       "       [ 0.31946467],\n",
       "       [ 0.32548818],\n",
       "       [ 0.3386078 ],\n",
       "       [ 0.31817793],\n",
       "       [ 0.31815537],\n",
       "       [ 0.316492  ],\n",
       "       [ 0.31742793],\n",
       "       [ 0.31736257],\n",
       "       [ 0.31185996],\n",
       "       [ 0.30385769],\n",
       "       [ 0.30946492],\n",
       "       [ 0.3146421 ],\n",
       "       [ 0.31141966],\n",
       "       [ 0.31848626],\n",
       "       [ 0.31026438],\n",
       "       [ 0.29766479],\n",
       "       [ 0.29386341],\n",
       "       [ 0.3028075 ],\n",
       "       [ 0.29991681],\n",
       "       [ 0.29116946]])"
      ]
     },
     "execution_count": 99,
     "metadata": {},
     "output_type": "execute_result"
    }
   ],
   "source": [
    "lossX = np.array(loss_list)\n",
    "lossX[:,1:2]"
   ]
  },
  {
   "cell_type": "code",
   "execution_count": 101,
   "metadata": {
    "collapsed": false
   },
   "outputs": [
    {
     "data": {
      "image/png": "[encoded data removed]",
      "text/plain": [
       "<matplotlib.figure.Figure at 0x110892350>"
      ]
     },
     "metadata": {},
     "output_type": "display_data"
    }
   ],
   "source": [
    "fig = plt.figure()\n",
    "fig.set_size_inches(18.5, 10.5)\n",
    "ax100 = fig.add_subplot(1,2,1)\n",
    "ax100.set_title('Loss Function')\n",
    "ax100.set_xlabel('# Epochs')\n",
    "ax100.set_ylabel('value')\n",
    "loss = np.array(loss_list)\n",
    "\n",
    "ax101 = fig.add_subplot(1,2,2)\n",
    "loss1 = np.array(loss_list)\n",
    "loss1 = lossX[:,1:2]\n",
    "\n",
    "ax100.plot(loss);\n",
    "ax101.plot(loss1);"
   ]
  },
  {
   "cell_type": "code",
   "execution_count": 84,
   "metadata": {
    "collapsed": false
   },
   "outputs": [
    {
     "data": {
      "image/png": "[encoded data removed]",
      "text/plain": [
       "<matplotlib.figure.Figure at 0x10dd62a10>"
      ]
     },
     "metadata": {},
     "output_type": "display_data"
    }
   ],
   "source": [
    "\n",
    "\n",
    "plt.plot(x, loss_list)\n",
    "\n",
    "plt.legend(['Train_loss', 'Val_loss'], loc='upper right')\n",
    "\n",
    "plt.show()"
   ]
  },
  {
   "cell_type": "code",
   "execution_count": null,
   "metadata": {
    "collapsed": true
   },
   "outputs": [],
   "source": [
    "plt.plot()"
   ]
  }
 ],
 "metadata": {
  "kernelspec": {
   "display_name": "Python 2",
   "language": "python",
   "name": "python2"
  },
  "language_info": {
   "codemirror_mode": {
    "name": "ipython",
    "version": 2
   },
   "file_extension": ".py",
   "mimetype": "text/x-python",
   "name": "python",
   "nbconvert_exporter": "python",
   "pygments_lexer": "ipython2",
   "version": "2.7.11"
  }
 },
 "nbformat": 4,
 "nbformat_minor": 0
}
