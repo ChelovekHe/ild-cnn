{
 "cells": [
  {
   "cell_type": "code",
   "execution_count": 19,
   "metadata": {
    "collapsed": false
   },
   "outputs": [],
   "source": [
    "import os\n",
    "from scipy import misc\n",
    "import numpy as np\n",
    "from matplotlib import pyplot as plt\n",
    "from keras.utils.data_utils import get_file\n",
    "from six.moves import cPickle\n",
    "import sys\n",
    "from keras.utils import np_utils \n",
    "import cPickle as pickle\n",
    "from sklearn.cross_validation import train_test_split\n",
    "import random"
   ]
  },
  {
   "cell_type": "code",
   "execution_count": 20,
   "metadata": {
    "collapsed": false
   },
   "outputs": [],
   "source": [
    "#define the working directory\n",
    "cwd=os.getcwd()\n",
    "(cwdtop,tail)=os.path.split(cwd)\n",
    "patch_dir=os.path.join(cwdtop,'patches')\n",
    "pickle_dir=os.path.join(cwdtop,'pickle')\n",
    "if not os.path.exists(pickle_dir):\n",
    " os.mkdir(pickle_dir)  \n"
   ]
  },
  {
   "cell_type": "code",
   "execution_count": 21,
   "metadata": {
    "collapsed": false
   },
   "outputs": [
    {
     "name": "stdout",
     "output_type": "stream",
     "text": [
      "['consolidation', 'fibrosis', 'ground_glass', 'healthy', 'micronodules', 'reticulation']\n"
     ]
    }
   ],
   "source": [
    "#define a list of used labels\n",
    "usedclassif = ['consolidation',\n",
    " 'fibrosis',\n",
    " 'ground_glass',\n",
    " 'healthy',\n",
    " 'micronodules',\n",
    " 'reticulation']\n",
    "print (usedclassif)"
   ]
  },
  {
   "cell_type": "code",
   "execution_count": 22,
   "metadata": {
    "collapsed": false
   },
   "outputs": [],
   "source": [
    "#define a dictionary with labels\n",
    "classif={}\n",
    "i=0\n",
    "for f in usedclassif:\n",
    "    classif[f]=i\n",
    "    i+=1"
   ]
  },
  {
   "cell_type": "code",
   "execution_count": 23,
   "metadata": {
    "collapsed": false
   },
   "outputs": [
    {
     "name": "stdout",
     "output_type": "stream",
     "text": [
      "{'micronodules': 4, 'healthy': 3, 'ground_glass': 2, 'consolidation': 0, 'reticulation': 5, 'fibrosis': 1}\n"
     ]
    }
   ],
   "source": [
    "print classif"
   ]
  },
  {
   "cell_type": "code",
   "execution_count": 24,
   "metadata": {
    "collapsed": false
   },
   "outputs": [],
   "source": [
    "# list all directories under patch directory. They are representing the categories\n",
    "\n",
    "category_list=os.walk( patch_dir).next()[1]\n"
   ]
  },
  {
   "cell_type": "code",
   "execution_count": 25,
   "metadata": {
    "collapsed": false
   },
   "outputs": [
    {
     "data": {
      "text/plain": [
       "['air_trapping',\n",
       " 'bronchial_wall_thickening',\n",
       " 'bronchiectasis',\n",
       " 'consolidation',\n",
       " 'cysts',\n",
       " 'early_fibrosis',\n",
       " 'emphysema',\n",
       " 'fibrosis',\n",
       " 'ground_glass',\n",
       " 'healthy',\n",
       " 'increased_attenuation',\n",
       " 'macronodules',\n",
       " 'micronodules',\n",
       " 'pcp',\n",
       " 'peripheral_micronodules',\n",
       " 'reticulation',\n",
       " 'tuberculosis']"
      ]
     },
     "execution_count": 25,
     "metadata": {},
     "output_type": "execute_result"
    }
   ],
   "source": [
    "# print what we have as categories\n",
    "category_list"
   ]
  },
  {
   "cell_type": "code",
   "execution_count": 26,
   "metadata": {
    "collapsed": false
   },
   "outputs": [
    {
     "name": "stdout",
     "output_type": "stream",
     "text": [
      "the path into the categories is:  C:\\Users\\sylvain\\Documents\\boulot\\startup\\radiology\\ILDtempo\\ild-cnn\\patches\\consolidation\n",
      "the sub categories are :  ['apical', 'diffuse', 'non-relevant', 'peripheral_sub_pleural']\n",
      "the path into the sub categories is: \n",
      "C:\\Users\\sylvain\\Documents\\boulot\\startup\\radiology\\ILDtempo\\ild-cnn\\patches\\consolidation\\apical\n",
      "the path into the sub categories is: \n",
      "C:\\Users\\sylvain\\Documents\\boulot\\startup\\radiology\\ILDtempo\\ild-cnn\\patches\\consolidation\\diffuse\n",
      "the path into the sub categories is: \n",
      "C:\\Users\\sylvain\\Documents\\boulot\\startup\\radiology\\ILDtempo\\ild-cnn\\patches\\consolidation\\non-relevant\n",
      "the path into the sub categories is: \n",
      "C:\\Users\\sylvain\\Documents\\boulot\\startup\\radiology\\ILDtempo\\ild-cnn\\patches\\consolidation\\peripheral_sub_pleural\n",
      "the path into the categories is:  C:\\Users\\sylvain\\Documents\\boulot\\startup\\radiology\\ILDtempo\\ild-cnn\\patches\\fibrosis\n",
      "the sub categories are :  ['apical', 'basal', 'diffuse', 'non-relevant', 'perihilar', 'peripheral_sub_pleural']\n",
      "the path into the sub categories is: \n",
      "C:\\Users\\sylvain\\Documents\\boulot\\startup\\radiology\\ILDtempo\\ild-cnn\\patches\\fibrosis\\apical\n",
      "the path into the sub categories is: \n",
      "C:\\Users\\sylvain\\Documents\\boulot\\startup\\radiology\\ILDtempo\\ild-cnn\\patches\\fibrosis\\basal\n",
      "the path into the sub categories is: \n",
      "C:\\Users\\sylvain\\Documents\\boulot\\startup\\radiology\\ILDtempo\\ild-cnn\\patches\\fibrosis\\diffuse\n",
      "the path into the sub categories is: \n",
      "C:\\Users\\sylvain\\Documents\\boulot\\startup\\radiology\\ILDtempo\\ild-cnn\\patches\\fibrosis\\non-relevant\n",
      "the path into the sub categories is: \n",
      "C:\\Users\\sylvain\\Documents\\boulot\\startup\\radiology\\ILDtempo\\ild-cnn\\patches\\fibrosis\\perihilar\n",
      "the path into the sub categories is: \n",
      "C:\\Users\\sylvain\\Documents\\boulot\\startup\\radiology\\ILDtempo\\ild-cnn\\patches\\fibrosis\\peripheral_sub_pleural\n",
      "the path into the categories is:  C:\\Users\\sylvain\\Documents\\boulot\\startup\\radiology\\ILDtempo\\ild-cnn\\patches\\ground_glass\n",
      "the sub categories are :  ['apical', 'basal', 'diffuse', 'non-relevant', 'peripheral_sub_pleural']\n",
      "the path into the sub categories is: \n",
      "C:\\Users\\sylvain\\Documents\\boulot\\startup\\radiology\\ILDtempo\\ild-cnn\\patches\\ground_glass\\apical\n",
      "the path into the sub categories is: \n",
      "C:\\Users\\sylvain\\Documents\\boulot\\startup\\radiology\\ILDtempo\\ild-cnn\\patches\\ground_glass\\basal\n",
      "the path into the sub categories is: \n",
      "C:\\Users\\sylvain\\Documents\\boulot\\startup\\radiology\\ILDtempo\\ild-cnn\\patches\\ground_glass\\diffuse\n",
      "the path into the sub categories is: \n",
      "C:\\Users\\sylvain\\Documents\\boulot\\startup\\radiology\\ILDtempo\\ild-cnn\\patches\\ground_glass\\non-relevant\n",
      "the path into the sub categories is: \n",
      "C:\\Users\\sylvain\\Documents\\boulot\\startup\\radiology\\ILDtempo\\ild-cnn\\patches\\ground_glass\\peripheral_sub_pleural\n",
      "the path into the categories is:  C:\\Users\\sylvain\\Documents\\boulot\\startup\\radiology\\ILDtempo\\ild-cnn\\patches\\healthy\n",
      "the sub categories are :  ['apical', 'non-relevant']\n",
      "the path into the sub categories is: \n",
      "C:\\Users\\sylvain\\Documents\\boulot\\startup\\radiology\\ILDtempo\\ild-cnn\\patches\\healthy\\apical\n",
      "the path into the sub categories is: \n",
      "C:\\Users\\sylvain\\Documents\\boulot\\startup\\radiology\\ILDtempo\\ild-cnn\\patches\\healthy\\non-relevant\n",
      "the path into the categories is:  C:\\Users\\sylvain\\Documents\\boulot\\startup\\radiology\\ILDtempo\\ild-cnn\\patches\\micronodules\n",
      "the sub categories are :  ['diffuse', 'non-relevant', 'peripheral_sub_pleural']\n",
      "the path into the sub categories is: \n",
      "C:\\Users\\sylvain\\Documents\\boulot\\startup\\radiology\\ILDtempo\\ild-cnn\\patches\\micronodules\\diffuse\n",
      "the path into the sub categories is: \n",
      "C:\\Users\\sylvain\\Documents\\boulot\\startup\\radiology\\ILDtempo\\ild-cnn\\patches\\micronodules\\non-relevant\n",
      "the path into the sub categories is: \n",
      "C:\\Users\\sylvain\\Documents\\boulot\\startup\\radiology\\ILDtempo\\ild-cnn\\patches\\micronodules\\peripheral_sub_pleural\n",
      "the path into the categories is:  C:\\Users\\sylvain\\Documents\\boulot\\startup\\radiology\\ILDtempo\\ild-cnn\\patches\\reticulation\n",
      "the sub categories are :  ['apical', 'basal', 'non-relevant', 'peripheral_sub_pleural']\n",
      "the path into the sub categories is: \n",
      "C:\\Users\\sylvain\\Documents\\boulot\\startup\\radiology\\ILDtempo\\ild-cnn\\patches\\reticulation\\apical\n",
      "the path into the sub categories is: \n",
      "C:\\Users\\sylvain\\Documents\\boulot\\startup\\radiology\\ILDtempo\\ild-cnn\\patches\\reticulation\\basal\n",
      "the path into the sub categories is: \n",
      "C:\\Users\\sylvain\\Documents\\boulot\\startup\\radiology\\ILDtempo\\ild-cnn\\patches\\reticulation\\non-relevant\n",
      "the path into the sub categories is: \n",
      "C:\\Users\\sylvain\\Documents\\boulot\\startup\\radiology\\ILDtempo\\ild-cnn\\patches\\reticulation\\peripheral_sub_pleural\n"
     ]
    }
   ],
   "source": [
    "# creating variables\n",
    "# list for the merged pixel data\n",
    "dataset_list = []\n",
    "# list of the label data\n",
    "label_list = []\n",
    "\n",
    "\n",
    "\n",
    "# go through all categories\n",
    "# \n",
    "for category in category_list:\n",
    "    if category in usedclassif:\n",
    "        category_dir = os.path.join(patch_dir, category)\n",
    "        print  'the path into the categories is: ', category_dir\n",
    "\n",
    "        sub_categories_dir_list = (os.listdir(category_dir))\n",
    "        print 'the sub categories are : ', sub_categories_dir_list\n",
    "\n",
    "        for subCategory in sub_categories_dir_list:\n",
    "\n",
    "            subCategory_dir = os.path.join(category_dir, subCategory)\n",
    "            print  'the path into the sub categories is: '\n",
    "            print subCategory_dir\n",
    "\n",
    "            image_files = (os.listdir(subCategory_dir))\n",
    "\n",
    "            for file in image_files:\n",
    "\n",
    "                if file.find('.bmp') > 0:\n",
    "\n",
    "                    # load the .bmp file into array       \n",
    "                    image = misc.imread(os.path.join(subCategory_dir,file), flatten= 0)\n",
    "                    # append the array to the dataset list\n",
    "                    dataset_list.append(image)\n",
    "\n",
    "                    # created rotated copies of images\n",
    "                    image90 = np.rot90(image)\n",
    "                    dataset_list.append(image90)\n",
    "\n",
    "                    image180 = np.rot90(image90)\n",
    "                    dataset_list.append(image180)\n",
    "\n",
    "                    image270 = np.rot90(image180)\n",
    "                    dataset_list.append(image270)\n",
    "\n",
    "                    # append  lables \n",
    "                    label_list.append(classif[category])\n",
    "                    # append also lables for rotated images\n",
    "                    label_list.append(classif[category])\n",
    "                    label_list.append(classif[category])\n",
    "                    label_list.append(classif[category])\n",
    "\n",
    "\n",
    "            "
   ]
  },
  {
   "cell_type": "code",
   "execution_count": 27,
   "metadata": {
    "collapsed": false
   },
   "outputs": [
    {
     "name": "stdout",
     "output_type": "stream",
     "text": [
      "(25572, 25572)\n"
     ]
    }
   ],
   "source": [
    "print (len(dataset_list),len(label_list))\n",
    "\n"
   ]
  },
  {
   "cell_type": "code",
   "execution_count": 28,
   "metadata": {
    "collapsed": false
   },
   "outputs": [
    {
     "name": "stdout",
     "output_type": "stream",
     "text": [
      "dataset shape is now:  (25000L, 32L, 32L)\n"
     ]
    }
   ],
   "source": [
    "nb_elem = 25000 \n",
    "indices = []  \n",
    "resultatx=[]\n",
    "resultaty= [] \n",
    "while nb_elem > 0:  \n",
    "    i = random.randint(0, len(dataset_list) -1)  \n",
    "    while i in indices: # tant que le tirage redonne un nombre déjà choisi  \n",
    "        i = random.randint(0, len(dataset_list) -1)  \n",
    "    indices.append(i)  \n",
    "    nb_elem = nb_elem - 1  \n",
    "\n",
    "for index in indices:  \n",
    "    resultatx.append(dataset_list[index])  \n",
    "    resultaty.append(label_list[index]) \n",
    "\n",
    "# transform dataset list into numpy array                   \n",
    "X = np.array(resultatx)\n",
    "#this is already in greyscale\n",
    "# use only one of the 3 color channels as greyscale info\n",
    "#X = dataset[:,:, :,1]\n",
    "\n",
    "print 'dataset shape is now: ', X.shape\n",
    "\n",
    "# \n",
    "y = np.array(resultaty)\n",
    "# sampling item 22\n",
    "#y[22]\n"
   ]
  },
  {
   "cell_type": "code",
   "execution_count": 29,
   "metadata": {
    "collapsed": false
   },
   "outputs": [
    {
     "name": "stdout",
     "output_type": "stream",
     "text": [
      "(25572, 25572)\n",
      "(25000, 25000)\n"
     ]
    }
   ],
   "source": [
    "print (len(dataset_list),len(label_list))\n",
    "print (len(resultatx),len(resultaty))"
   ]
  },
  {
   "cell_type": "code",
   "execution_count": 30,
   "metadata": {
    "collapsed": false
   },
   "outputs": [
    {
     "name": "stdout",
     "output_type": "stream",
     "text": [
      "(25000L, 32L, 32L)\n",
      "(25000L,)\n"
     ]
    }
   ],
   "source": [
    "print X.shape\n",
    "print y.shape"
   ]
  },
  {
   "cell_type": "code",
   "execution_count": 31,
   "metadata": {
    "collapsed": false
   },
   "outputs": [
    {
     "name": "stdout",
     "output_type": "stream",
     "text": [
      "(12500L, 32L, 32L)\n",
      "(6250L, 32L, 32L)\n",
      "(6250L, 32L, 32L)\n",
      "(12500L,)\n",
      "(6250L,)\n",
      "(6250L,)\n"
     ]
    }
   ],
   "source": [
    "X_train, X_intermediate, y_train, y_intermediate = train_test_split(X, y, test_size=0.5, random_state=42)\n",
    "X_val, X_test, y_val, y_test = train_test_split(X_intermediate, y_intermediate, test_size=0.5, random_state=42)\n",
    "print X_train.shape\n",
    "print X_val.shape\n",
    "print X_test.shape\n",
    "print y_train.shape\n",
    "print y_test.shape\n",
    "print y_val.shape\n",
    "    "
   ]
  },
  {
   "cell_type": "code",
   "execution_count": 32,
   "metadata": {
    "collapsed": true
   },
   "outputs": [],
   "source": [
    "# save the dataset and label set into serial formatted pkl \n",
    "\n",
    "pickle.dump(X_train, open( os.path.join(pickle_dir,\"X_train.pkl\"), \"wb\" ))\n",
    "pickle.dump(X_test, open( os.path.join(pickle_dir,\"X_test.pkl\"), \"wb\" ))\n",
    "pickle.dump(X_val, open(os.path.join(pickle_dir,\"X_val.pkl\"), \"wb\" ))\n",
    "pickle.dump(y_train, open( os.path.join(pickle_dir,\"y_train.pkl\"), \"wb\" ))\n",
    "pickle.dump(y_test, open( os.path.join(pickle_dir,\"y_test.pkl\"), \"wb\" ))\n",
    "pickle.dump(y_val, open( os.path.join(pickle_dir,\"y_val.pkl\"), \"wb\" ))"
   ]
  },
  {
   "cell_type": "code",
   "execution_count": 33,
   "metadata": {
    "collapsed": true
   },
   "outputs": [],
   "source": [
    "# testing if pickls was working fine\n",
    "recuperated_X_train = pickle.load( open( os.path.join(pickle_dir,\"X_train.pkl\"), \"rb\" ) )"
   ]
  },
  {
   "cell_type": "code",
   "execution_count": 34,
   "metadata": {
    "collapsed": false
   },
   "outputs": [
    {
     "data": {
      "text/plain": [
       "array([[[ 97, 100,  93, ...,  34,  36,  24],\n",
       "        [ 74, 103, 106, ...,  53,  36,  40],\n",
       "        [ 94,  93,  98, ...,  42,  52,  45],\n",
       "        ..., \n",
       "        [ 12,  10,  24, ...,  18,  13,  21],\n",
       "        [ 42,  22,  14, ...,  18,  22,  13],\n",
       "        [ 46,  58,  36, ...,  14,   9,  16]],\n",
       "\n",
       "       [[ 14,  11,  10, ...,  19,  36,  67],\n",
       "        [ 16,  16,  17, ...,  23,  26,  26],\n",
       "        [ 12,   8,   9, ...,   4,   1,   0],\n",
       "        ..., \n",
       "        [  5,   2,   7, ...,   2,   1,   1],\n",
       "        [  8,   6,  11, ...,  14,   5,  24],\n",
       "        [  6,   4,   1, ...,  11,  66, 139]],\n",
       "\n",
       "       [[108,  89,  35, ...,  21,  24,  22],\n",
       "        [114,  93,  42, ...,  19,  32,   1],\n",
       "        [106, 101,  51, ...,  34,  54,  19],\n",
       "        ..., \n",
       "        [ 21,   1,   7, ...,  38,  15,   7],\n",
       "        [ 51,  15,   8, ...,  24,  16,  14],\n",
       "        [ 40,  39,  23, ...,  22,  23,  15]],\n",
       "\n",
       "       ..., \n",
       "       [[  9,  10,  16, ...,  11,   6,  10],\n",
       "        [ 21,  10,   7, ...,  20,  18,  11],\n",
       "        [ 21,  15,   6, ...,   5,   4,  32],\n",
       "        ..., \n",
       "        [ 14,   5,   8, ...,  14,   3,  11],\n",
       "        [ 11,   6,   4, ...,  14,  15,  45],\n",
       "        [ 14,  11,   7, ...,  17,  14,  58]],\n",
       "\n",
       "       [[ 10,   9,   4, ...,   6,  12,   7],\n",
       "        [ 11,   0,   8, ...,   8,  12,  10],\n",
       "        [ 15,   8,   6, ...,   9,  10,   5],\n",
       "        ..., \n",
       "        [ 10,   0,   0, ...,   7,  18,   5],\n",
       "        [  7,   4,   2, ...,   1,   7,  15],\n",
       "        [ 49,  22,   6, ...,   6,   5,   0]],\n",
       "\n",
       "       [[112, 108, 109, ..., 106, 105, 104],\n",
       "        [109, 107, 109, ..., 113, 110, 109],\n",
       "        [110, 108, 107, ..., 117, 113, 109],\n",
       "        ..., \n",
       "        [108, 107, 107, ..., 106, 108, 108],\n",
       "        [109, 106, 104, ..., 108, 108, 110],\n",
       "        [111, 114, 113, ..., 111, 107, 106]]], dtype=uint8)"
      ]
     },
     "execution_count": 34,
     "metadata": {},
     "output_type": "execute_result"
    }
   ],
   "source": [
    "recuperated_X_train"
   ]
  },
  {
   "cell_type": "code",
   "execution_count": null,
   "metadata": {
    "collapsed": true
   },
   "outputs": [],
   "source": []
  }
 ],
 "metadata": {
  "kernelspec": {
   "display_name": "Python 2",
   "language": "python",
   "name": "python2"
  },
  "language_info": {
   "codemirror_mode": {
    "name": "ipython",
    "version": 2
   },
   "file_extension": ".py",
   "mimetype": "text/x-python",
   "name": "python",
   "nbconvert_exporter": "python",
   "pygments_lexer": "ipython2",
   "version": "2.7.11"
  }
 },
 "nbformat": 4,
 "nbformat_minor": 0
}
