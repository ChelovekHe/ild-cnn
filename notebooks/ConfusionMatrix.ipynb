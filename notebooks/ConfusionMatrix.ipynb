{
 "cells": [
  {
   "cell_type": "markdown",
   "metadata": {},
   "source": [
    "# Test set assessment"
   ]
  },
  {
   "cell_type": "code",
   "execution_count": 1,
   "metadata": {
    "collapsed": false
   },
   "outputs": [
    {
     "name": "stderr",
     "output_type": "stream",
     "text": [
      "Using Theano backend.\n"
     ]
    }
   ],
   "source": [
    "import argparse\n",
    "import numpy as np\n",
    "from keras.datasets import mnist\n",
    "from keras.utils import np_utils \n",
    "import sklearn.metrics as metrics\n",
    "import cPickle as pickle\n",
    "import sys\n",
    "from keras.utils import np_utils \n"
   ]
  },
  {
   "cell_type": "code",
   "execution_count": 2,
   "metadata": {
    "collapsed": false
   },
   "outputs": [
    {
     "name": "stderr",
     "output_type": "stream",
     "text": [
      "/Users/peterhirt/anaconda/envs/theano/lib/python2.7/site-packages/matplotlib/font_manager.py:273: UserWarning: Matplotlib is building the font cache using fc-list. This may take a moment.\n",
      "  warnings.warn('Matplotlib is building the font cache using fc-list. This may take a moment.')\n"
     ]
    }
   ],
   "source": [
    "import matplotlib.pyplot as plt\n",
    "%matplotlib inline"
   ]
  },
  {
   "cell_type": "code",
   "execution_count": 3,
   "metadata": {
    "collapsed": true
   },
   "outputs": [],
   "source": [
    "def plot_confusion_matrix(cm, title='Confusion matrix', cmap=plt.cm.Blues):\n",
    "    plt.imshow(cm, interpolation='nearest', cmap=cmap)\n",
    "    plt.title(title)\n",
    "    plt.colorbar()\n",
    "    tick_marks = np.arange(len(target_names))\n",
    "    plt.xticks(tick_marks, target_names, rotation=45)\n",
    "    plt.yticks(tick_marks, target_names)\n",
    "    plt.tight_layout()\n",
    "    plt.ylabel('True label')\n",
    "    plt.xlabel('Predicted label')"
   ]
  },
  {
   "cell_type": "code",
   "execution_count": 4,
   "metadata": {
    "collapsed": false
   },
   "outputs": [],
   "source": [
    "# Compute confusion matrix\n",
    "\n",
    "#cm = confusion_matrix(y_true, y_pred)\n",
    "np.set_printoptions(precision=2)"
   ]
  },
  {
   "cell_type": "code",
   "execution_count": 5,
   "metadata": {
    "collapsed": true
   },
   "outputs": [],
   "source": [
    "def evaluate(actual,pred):\n",
    "    fscore = metrics.f1_score(actual, pred, average='macro')\n",
    "    acc = metrics.accuracy_score(actual, pred)\n",
    "    cm = metrics.confusion_matrix(actual,pred)\n",
    "\n",
    "    return fscore, acc, cm"
   ]
  },
  {
   "cell_type": "code",
   "execution_count": 7,
   "metadata": {
    "collapsed": false
   },
   "outputs": [],
   "source": [
    "y_val = pickle.load( open( \"../pickle/predicted_classes_test_set.pkl\", \"rb\" ) )\n",
    "y_test = pickle.load( open( \"../pickle/y_test.pkl\", \"rb\" ) )"
   ]
  },
  {
   "cell_type": "code",
   "execution_count": 8,
   "metadata": {
    "collapsed": false
   },
   "outputs": [
    {
     "data": {
      "text/plain": [
       "array([4, 1, 4, 3, 1, 2, 3, 3, 4, 1, 4, 4, 1, 4, 1, 3, 3, 3, 4, 4, 4, 4, 0,\n",
       "       3, 2, 2, 1, 5, 4, 4, 4, 2, 4, 4, 4, 4, 2, 1, 3, 1, 1, 1, 4, 2, 3, 4,\n",
       "       4, 2, 4, 4, 2, 1, 2, 5, 4, 2, 2, 1, 1, 3, 4, 4, 1, 5, 4, 4, 3, 5, 3,\n",
       "       1, 2, 3, 3, 4, 4, 4, 3, 1, 4, 5, 1, 4, 1, 4, 1, 4, 1, 4, 3, 2, 3, 3,\n",
       "       5, 4, 2, 3, 1, 2, 4, 5, 2, 4, 4, 4, 1, 4, 1, 1, 2, 2, 2, 3, 2, 4, 3,\n",
       "       4, 2, 5, 5, 3, 2, 4, 5, 4, 2, 1, 4, 3, 1, 2, 4, 4, 1, 1, 1, 3, 1, 4,\n",
       "       5, 3, 3, 1, 4, 4, 1, 1, 4, 4, 4, 4])"
      ]
     },
     "execution_count": 8,
     "metadata": {},
     "output_type": "execute_result"
    }
   ],
   "source": [
    "y_test[0:150]"
   ]
  },
  {
   "cell_type": "code",
   "execution_count": 9,
   "metadata": {
    "collapsed": false
   },
   "outputs": [
    {
     "data": {
      "text/plain": [
       "array([4, 1, 4, 3, 1, 2, 3, 2, 4, 1, 4, 3, 1, 4, 1, 3, 3, 3, 4, 4, 4, 4, 1,\n",
       "       3, 2, 3, 1, 5, 4, 4, 4, 2, 4, 4, 4, 4, 1, 1, 3, 1, 1, 1, 3, 3, 3, 4,\n",
       "       4, 2, 4, 3, 2, 3, 2, 5, 4, 2, 2, 1, 1, 3, 4, 4, 1, 5, 3, 4, 3, 5, 3,\n",
       "       1, 4, 3, 3, 3, 3, 4, 3, 1, 4, 5, 1, 4, 1, 4, 1, 4, 1, 4, 3, 2, 3, 3,\n",
       "       5, 4, 3, 3, 1, 2, 4, 5, 2, 4, 1, 4, 1, 1, 1, 1, 2, 3, 2, 3, 2, 3, 3,\n",
       "       4, 2, 1, 5, 3, 3, 4, 5, 4, 2, 1, 4, 3, 1, 2, 4, 4, 1, 1, 1, 3, 1, 1,\n",
       "       2, 3, 2, 2, 4, 4, 1, 1, 4, 4, 4, 4])"
      ]
     },
     "execution_count": 9,
     "metadata": {},
     "output_type": "execute_result"
    }
   ],
   "source": [
    "y_val[0:150]"
   ]
  },
  {
   "cell_type": "code",
   "execution_count": 10,
   "metadata": {
    "collapsed": false
   },
   "outputs": [
    {
     "data": {
      "text/plain": [
       "(6250,)"
      ]
     },
     "execution_count": 10,
     "metadata": {},
     "output_type": "execute_result"
    }
   ],
   "source": [
    "y_val.shape"
   ]
  },
  {
   "cell_type": "code",
   "execution_count": 11,
   "metadata": {
    "collapsed": false
   },
   "outputs": [
    {
     "data": {
      "text/plain": [
       "(6250,)"
      ]
     },
     "execution_count": 11,
     "metadata": {},
     "output_type": "execute_result"
    }
   ],
   "source": [
    "y_test.shape"
   ]
  },
  {
   "cell_type": "code",
   "execution_count": 15,
   "metadata": {
    "collapsed": false
   },
   "outputs": [
    {
     "name": "stdout",
     "output_type": "stream",
     "text": [
      "predicted [4 1 4 ..., 2 1 1]\n",
      "actual    [4 1 4 ..., 2 1 1]\n"
     ]
    }
   ],
   "source": [
    "y_val_subset = y_val[:]\n",
    "y_test_subset = y_test[:]\n",
    "print 'predicted', y_val_subset\n",
    "print 'actual   ', y_test_subset\n",
    "\n",
    "# argmax functions shows the index of the 1st occurence of the highest value in an array\n",
    "y_actual = np.argmax(y_val_subset)\n",
    "\n",
    "y_predict = np.argmax(y_test_subset)\n"
   ]
  },
  {
   "cell_type": "code",
   "execution_count": 16,
   "metadata": {
    "collapsed": false
   },
   "outputs": [],
   "source": [
    "target_names = ['consolidation', 'fibrosis', 'ground_glass', 'healthy', 'micronodules', 'reticulation']\n",
    "# \n"
   ]
  },
  {
   "cell_type": "code",
   "execution_count": 17,
   "metadata": {
    "collapsed": false
   },
   "outputs": [
    {
     "name": "stdout",
     "output_type": "stream",
     "text": [
      "f-score is :  0.751260982159\n",
      "accuray is :  0.83056\n",
      "confusion matrix\n",
      "[[  26   12   10    0    0    1]\n",
      " [   2  962   67   16   20   50]\n",
      " [   1   63  636  122   19   27]\n",
      " [   1   10   97 1398   52    7]\n",
      " [   0   60   53  167 1995   14]\n",
      " [   0  110   40   18   20  174]]\n"
     ]
    },
    {
     "data": {
      "image/png": "[encoded data removed]",
      "text/plain": [
       "<matplotlib.figure.Figure at 0x111235550>"
      ]
     },
     "metadata": {},
     "output_type": "display_data"
    }
   ],
   "source": [
    "fscore, acc, cm = evaluate(y_test_subset, y_val_subset)\n",
    "print 'f-score is : ', fscore\n",
    "print 'accuray is : ', acc\n",
    "print 'confusion matrix'\n",
    "print cm\n",
    "plt.figure()\n",
    "plot_confusion_matrix(cm)"
   ]
  },
  {
   "cell_type": "code",
   "execution_count": null,
   "metadata": {
    "collapsed": true
   },
   "outputs": [],
   "source": []
  }
 ],
 "metadata": {
  "kernelspec": {
   "display_name": "Python 2",
   "language": "python",
   "name": "python2"
  },
  "language_info": {
   "codemirror_mode": {
    "name": "ipython",
    "version": 2
   },
   "file_extension": ".py",
   "mimetype": "text/x-python",
   "name": "python",
   "nbconvert_exporter": "python",
   "pygments_lexer": "ipython2",
   "version": "2.7.11"
  }
 },
 "nbformat": 4,
 "nbformat_minor": 0
}
