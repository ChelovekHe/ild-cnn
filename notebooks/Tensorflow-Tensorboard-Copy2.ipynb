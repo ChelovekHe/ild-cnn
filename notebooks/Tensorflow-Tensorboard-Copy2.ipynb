{
 "cells": [
  {
   "cell_type": "code",
   "execution_count": 1,
   "metadata": {
    "collapsed": false
   },
   "outputs": [
    {
     "name": "stdout",
     "output_type": "stream",
     "text": [
      "0.9.0rc0\n"
     ]
    }
   ],
   "source": [
    "import tensorflow as tf\n",
    "\n",
    "import pkg_resources as pkg_rs\n",
    "tensorflow_version = pkg_rs.get_distribution(\"tensorflow\").version\n",
    "print tensorflow_version"
   ]
  },
  {
   "cell_type": "markdown",
   "metadata": {},
   "source": [
    "### installation directory\n",
    "\n",
    "/Users/peterhirt/anaconda/envs/tf/lib/python2.7/site-packages/tensorflow"
   ]
  },
  {
   "cell_type": "code",
   "execution_count": 2,
   "metadata": {
    "collapsed": false
   },
   "outputs": [],
   "source": [
    "import cPickle as pickle\n",
    "import numpy as np"
   ]
  },
  {
   "cell_type": "code",
   "execution_count": 3,
   "metadata": {
    "collapsed": false
   },
   "outputs": [],
   "source": [
    "flags = tf.app.flags\n",
    "FLAGS = flags.FLAGS\n",
    "\n",
    "flags.DEFINE_string('summaries_dir', '../tensorboard1', 'Summaries directory')\n",
    "\n",
    "# launch tensorboard with\n",
    "# tensorboard --logdir='/Users/peterhirt/datascience/ild-cnn/tensorboard1'"
   ]
  },
  {
   "cell_type": "markdown",
   "metadata": {},
   "source": [
    "if the tensorboard data directory exists, delete the content and create an empty directory"
   ]
  },
  {
   "cell_type": "code",
   "execution_count": 4,
   "metadata": {
    "collapsed": true
   },
   "outputs": [],
   "source": [
    "if tf.gfile.Exists(FLAGS.summaries_dir):\n",
    "    tf.gfile.DeleteRecursively(FLAGS.summaries_dir)\n",
    "tf.gfile.MakeDirs(FLAGS.summaries_dir)"
   ]
  },
  {
   "cell_type": "markdown",
   "metadata": {},
   "source": [
    "# load ILD_CNN dataset\n",
    "\n",
    "both training set and validation set is loaded, normalised and the labels hot-encoded."
   ]
  },
  {
   "cell_type": "code",
   "execution_count": 5,
   "metadata": {
    "collapsed": false
   },
   "outputs": [],
   "source": [
    "def load_data():\n",
    "\n",
    "    # load the dataset as X_train and as a copy the X_val\n",
    "    # the labels are loaded as one-hot encoded data\n",
    "    \n",
    "    X_train = pickle.load( open( \"../pickle/X_train.pkl\", \"rb\" ) )\n",
    "    y_train = pickle.load( open( \"../pickle/y_train_hot.pkl\", \"rb\" ) )\n",
    "    X_val = pickle.load( open( \"../pickle/X_val.pkl\", \"rb\" ) )\n",
    "    y_val = pickle.load( open( \"../pickle/y_val_hot.pkl\", \"rb\" ) )\n",
    "    \n",
    "    X_test = pickle.load( open( \"../pickle/X_test.pkl\", \"rb\" ) )\n",
    "    y_test = pickle.load( open( \"../pickle/y_test_hot.pkl\", \"rb\" ) )\n",
    "\n",
    "\n",
    "    \n",
    "\n",
    "    # adding a singleton dimension and rescale to [0,1]\n",
    "    X_train = np.asarray(np.expand_dims(X_train, axis=3))/float(255)\n",
    "    X_val = np.asarray(np.expand_dims(X_val,axis=3))/float(255)\n",
    "    X_test = np.asarray(np.expand_dims(X_test,axis=3))/float(255)\n",
    "    \n",
    "    X_train = np.float32(X_train)\n",
    "    X_val = np.float32(X_val)\n",
    "    X_test = np.float32(X_test)\n",
    "    \n",
    "    y_train = np.float32(y_train)\n",
    "    y_val = np.float32(y_val)\n",
    "    y_test = np.float32(y_test)\n",
    "    \n",
    "    return (X_train, y_train), (X_val, y_val), (X_test, y_test)"
   ]
  },
  {
   "cell_type": "code",
   "execution_count": 6,
   "metadata": {
    "collapsed": false
   },
   "outputs": [],
   "source": [
    "# load the dataset\n",
    "# the labels are one-hot-encoded\n",
    "\n",
    "(X_train, y_train), (X_val, y_val), (X_test, y_test) = load_data()\n"
   ]
  },
  {
   "cell_type": "code",
   "execution_count": 7,
   "metadata": {
    "collapsed": false
   },
   "outputs": [
    {
     "name": "stdout",
     "output_type": "stream",
     "text": [
      "Training set  \t\t->\t(12500, 32, 32, 1) (12500, 6)\n",
      "Validation set \t\t->\t(6250, 32, 32, 1) (6250, 6)\n",
      "Test set \t\t->\t(6250, 32, 32, 1) (6250, 6)\n"
     ]
    }
   ],
   "source": [
    "# shape and type of the training set\n",
    "print 'Training set  \\t\\t->\\t', X_train.shape, y_train.shape\n",
    "print 'Validation set \\t\\t->\\t', X_val.shape, y_val.shape\n",
    "print 'Test set \\t\\t->\\t', X_test.shape, y_test.shape\n"
   ]
  },
  {
   "cell_type": "code",
   "execution_count": 8,
   "metadata": {
    "collapsed": true
   },
   "outputs": [],
   "source": [
    "def accuracy(predictions, labels):\n",
    "    return (100.0 * np.sum(np.argmax(predictions, 1) == np.argmax(labels, 1))/ predictions.shape[0])"
   ]
  },
  {
   "cell_type": "markdown",
   "metadata": {},
   "source": [
    "# model definitions\n",
    "    "
   ]
  },
  {
   "cell_type": "code",
   "execution_count": 9,
   "metadata": {
    "collapsed": true
   },
   "outputs": [],
   "source": [
    "def next_batch(batch_size):\n",
    "    \n",
    "    n_samples = len(X_train)\n",
    "    indices = np.random.choice(n_samples, batch_size)\n",
    "    batch_x = X_train[indices]\n",
    "    batch_y = y_train[indices]\n",
    "    \n",
    "    return batch_x, batch_y\n",
    "\n",
    "def conv2d(x, W, b, convLayer, strides=1):\n",
    "    with tf.name_scope(convLayer):\n",
    "        # Conv2D wrapper, with bias and relu activation\n",
    "        x = tf.nn.conv2d(x, W, strides=[1, strides, strides, 1], padding='SAME', name=convLayer)\n",
    "        x = tf.nn.bias_add(x, b)\n",
    "        return tf.nn.relu(x)\n",
    "\n",
    "\n",
    "def maxpool2d(x, k):\n",
    "    with tf.name_scope('AvgPooling'):\n",
    "        # MaxPool2D wrapper\n",
    "        return tf.nn.avg_pool(x, ksize=[1, k, k, 1], strides=[1, k, k, 1],\n",
    "                          padding='SAME')\n",
    "    \n",
    "def batch_flatten(x):\n",
    "    # Turn a n-D tensor into a 2D tensor where the first dimension is conserved.\n",
    "    \n",
    "    x = tf.reshape(x, [-1, np.prod(x.get_shape()[1:].as_list())])\n",
    "    return x"
   ]
  },
  {
   "cell_type": "code",
   "execution_count": 10,
   "metadata": {
    "collapsed": false
   },
   "outputs": [],
   "source": [
    "# Parameters\n",
    "image_size = 32\n",
    "num_labels = 6\n",
    "num_channels = 1 # grayscale"
   ]
  },
  {
   "cell_type": "markdown",
   "metadata": {},
   "source": [
    "# model \n",
    "computer hangs"
   ]
  },
  {
   "cell_type": "code",
   "execution_count": 12,
   "metadata": {
    "collapsed": false
   },
   "outputs": [],
   "source": [
    "batch_size = 16\n",
    "keep_prob = 1.0\n",
    "\n",
    "graph = tf.Graph()\n",
    "\n",
    "with graph.as_default():\n",
    "    # Input data.\n",
    "    tf_train_dataset = tf.placeholder(tf.float32, shape=(batch_size, image_size, image_size, num_channels))\n",
    "    tf_train_labels = tf.placeholder(tf.float32, shape=(batch_size, num_labels))\n",
    "    \n",
    "    tf_valid_dataset = tf.constant(X_val)\n",
    "    tf_test_dataset = tf.constant(X_test)\n",
    "    \n",
    "    # variables\n",
    "    wc1 = tf.Variable(tf.truncated_normal([2, 2, 1, 16], stddev=0.1))\n",
    "    bc1 = tf.Variable(tf.zeros([16]))\n",
    "    \n",
    "    wc2 = tf.Variable(tf.truncated_normal([2, 2, 16, 36], stddev=0.1))\n",
    "    bc2 = tf.Variable(tf.zeros([36]))\n",
    "    \n",
    "    wc3 = tf.Variable(tf.truncated_normal([2, 2, 36, 64], stddev=0.1))\n",
    "    bc3 = tf.Variable(tf.zeros([64]))\n",
    "    \n",
    "    wc4 = tf.Variable(tf.truncated_normal([2, 2, 64, 100], stddev=0.1))\n",
    "    bc4 = tf.Variable(tf.zeros([100]))\n",
    "    \n",
    "    wc5 = tf.Variable(tf.truncated_normal([2, 2, 100, 144], stddev=0.1))\n",
    "    bc5 = tf.Variable(tf.zeros([144]))\n",
    "    \n",
    "    wd1 = tf.Variable(tf.random_normal([144, 864]))\n",
    "    bd1 = tf.Variable(tf.random_normal([864]))\n",
    "    \n",
    "    wd2 = tf.Variable(tf.random_normal([864, 288]))\n",
    "    bd2 = tf.Variable(tf.random_normal([288]))\n",
    "    \n",
    "    wd3 = tf.Variable(tf.random_normal([288, 6]))\n",
    "    bd3 = tf.Variable(tf.random_normal([6]))\n",
    "    \n",
    "    \n",
    "    # Model.\n",
    "    def model(data):\n",
    "        \n",
    "        # Convolution Layer 1 : kernel 2x2, 1 channel, 16 features, strides = 1 \n",
    "        \n",
    "        conv1 = conv2d(data, wc1, bc1, 'convolution2D_1')\n",
    "        \n",
    "        # Convolution Layer 2\n",
    "        \n",
    "        conv2 = conv2d(conv1, wc2, bc2, 'convolution2D_2')\n",
    "    \n",
    "        # Convolution Layer 3\n",
    "       \n",
    "        conv3 = conv2d(conv2, wc3, bc3, 'convolution2D_1')\n",
    "    \n",
    "        # Convolution Layer 4\n",
    "        \n",
    "        conv4 = conv2d(conv3, wc4, bc4, 'convolution2D_1')\n",
    "    \n",
    "        # Convolution Layer 5\n",
    "        \n",
    "        conv5 = conv2d(conv4, wc5, bc5, 'convolution2D_1')\n",
    "    \n",
    "        #pool1 = maxpool2d(conv5, k=32)\n",
    "        pool1 = tf.nn.avg_pool(conv5, ksize=[1, 32, 32, 1], strides=[1, 32, 32, 1], padding='SAME')\n",
    "        \n",
    "        # must do flattening and dropout first\n",
    "        #pool1_reshaped = tf.squeeze(pool1, [1, 2])\n",
    "        pool1_reshaped = batch_flatten(pool1)\n",
    "        #pool1_dropout = tf.nn.dropout(pool1_reshaped, keep_prob) \n",
    "            \n",
    "        h_fc1 = tf.nn.relu(tf.nn.bias_add(tf.matmul(pool1_reshaped, wd1), bd1))\n",
    "        #h_fc1_dropout = tf.nn.dropout(h_fc1, keep_prob)\n",
    "               \n",
    "        h_fc2 = tf.nn.relu(tf.nn.bias_add(tf.matmul(h_fc1, wd2), bd2))\n",
    "        #h_fc2_dropout = tf.nn.dropout(h_fc2, keep_prob)\n",
    "               \n",
    "        logits = tf.matmul(h_fc2, wd3) + bd3\n",
    "        \n",
    "        return logits \n",
    "    \n",
    "    \n",
    "    \n",
    "    # Inference\n",
    "    logits = model(tf_train_dataset)\n",
    "   \n",
    "    \n",
    "    # Loss\n",
    "    loss = tf.reduce_mean(tf.nn.softmax_cross_entropy_with_logits(logits, tf_train_labels))\n",
    "    \n",
    "    # Training\n",
    "    optimizer = tf.train.GradientDescentOptimizer(0.05).minimize(loss)\n",
    "     \n",
    "    # Predictions for the training, validation, and test data.\n",
    "    train_prediction = tf.nn.softmax(logits)\n",
    "    \n",
    "    # Validation set and Test set predictions\n",
    "    valid_prediction = tf.nn.softmax(model(tf_valid_dataset))\n",
    "    test_prediction = tf.nn.softmax(model(tf_test_dataset))\n",
    "    "
   ]
  },
  {
   "cell_type": "markdown",
   "metadata": {},
   "source": [
    "# target model \n",
    "computer hangs"
   ]
  },
  {
   "cell_type": "code",
   "execution_count": 58,
   "metadata": {
    "collapsed": false
   },
   "outputs": [],
   "source": [
    "batch_size = 64\n",
    "patch_size = 2\n",
    "depth = 16\n",
    "num_hidden = 64\n",
    "\n",
    "graph = tf.Graph()\n",
    "\n",
    "with graph.as_default():\n",
    "    # Input data.\n",
    "    tf_train_dataset = tf.placeholder(tf.float32, shape=(batch_size, image_size, image_size, num_channels))\n",
    "    tf_train_labels = tf.placeholder(tf.float32, shape=(batch_size, num_labels))\n",
    "    tf_valid_dataset = tf.constant(X_val)\n",
    "    tf_test_dataset = tf.constant(X_test)\n",
    "    \n",
    "    # Variables.\n",
    "    wc1 = tf.Variable(tf.truncated_normal([2, 2, 1, 16], stddev=0.1))\n",
    "    bc1 = tf.Variable(tf.zeros([16]))\n",
    "    \n",
    "    wc2 = tf.Variable(tf.truncated_normal([2, 2, 16, 36], stddev=0.1))\n",
    "    bc2 = tf.Variable(tf.zeros([36]))\n",
    "    \n",
    "    wc3 = tf.Variable(tf.truncated_normal([2, 2, 36, 64], stddev=0.1))\n",
    "    bc3 = tf.Variable(tf.constant(1.0, shape=[64]))\n",
    "    \n",
    "    wc4 = tf.Variable(tf.truncated_normal([2, 2, 64, 100], stddev=0.1))\n",
    "    bc4 = tf.Variable(tf.constant(1.0, shape=[100]))\n",
    "    \n",
    "    wc5 = tf.Variable(tf.truncated_normal([2, 2, 100, 144], stddev=0.1))\n",
    "    bc5 = tf.Variable(tf.constant(1.0, shape=[144]))\n",
    "    \n",
    "    wd1 = tf.Variable(tf.truncated_normal([144, 864], stddev=0.1))\n",
    "    bd1 = tf.Variable(tf.constant(1.0, shape=[864]))\n",
    "    \n",
    "    wd2 = tf.Variable(tf.truncated_normal([864, 288], stddev=0.1))\n",
    "    bd2 = tf.Variable(tf.constant(1.0, shape=[288]))\n",
    "    \n",
    "    wd3 = tf.Variable(tf.truncated_normal([288, 6], stddev=0.1))\n",
    "    bd3 = tf.Variable(tf.constant(1.0, shape=[6]))\n",
    "\n",
    "    # Model.\n",
    "    def model(data):\n",
    "        conv = tf.nn.conv2d(data, wc1, [1, 1, 1, 1], padding='SAME')\n",
    "        hidden = tf.nn.relu(conv + bc1)\n",
    "        \n",
    "        conv = tf.nn.conv2d(hidden, wc2, [1, 1, 1, 1], padding='SAME')\n",
    "        hidden = tf.nn.relu(conv + bc2)\n",
    "        \n",
    "        conv = tf.nn.conv2d(hidden, wc3, [1, 1, 1, 1], padding='SAME')\n",
    "        hidden = tf.nn.relu(conv + bc3)\n",
    "        \n",
    "        conv = tf.nn.conv2d(hidden, wc4, [1, 1, 1, 1], padding='SAME')\n",
    "        hidden = tf.nn.relu(conv + bc4)\n",
    "        \n",
    "        conv = tf.nn.conv2d(hidden, wc5, [1, 1, 1, 1], padding='SAME')\n",
    "        hidden = tf.nn.relu(conv + bc5)\n",
    "        \n",
    "        pool = tf.nn.avg_pool(hidden, ksize=[1, 32, 32, 1], strides=[1, 32, 32, 1], padding='SAME')\n",
    "        \n",
    "        shape = pool.get_shape().as_list()\n",
    "        reshape = tf.reshape(pool, [shape[0], shape[1] * shape[2] * shape[3]])\n",
    "        \n",
    "        hidden = tf.nn.relu(tf.matmul(reshape, wd1) + bd1)\n",
    "        \n",
    "        hidden1 = tf.nn.relu(tf.matmul(hidden, wd2) + bc2)\n",
    "        \n",
    "        return tf.matmul(hidden1, wd3) + bd3\n",
    "    \n",
    "    # Training computation.\n",
    "    logits = model(tf_train_dataset)\n",
    "    loss = tf.reduce_mean(tf.nn.softmax_cross_entropy_with_logits(logits, tf_train_labels))\n",
    "    \n",
    "    # Optimizer.\n",
    "    optimizer = tf.train.GradientDescentOptimizer(0.05).minimize(loss)\n",
    "    \n",
    "    # Predictions for the training, validation, and test data.\n",
    "    train_prediction = tf.nn.softmax(logits)\n",
    "    valid_prediction = tf.nn.softmax(model(tf_valid_dataset))\n",
    "    test_prediction = tf.nn.softmax(model(tf_test_dataset))"
   ]
  },
  {
   "cell_type": "markdown",
   "metadata": {},
   "source": [
    "# simpler model with less feature maps per layer\n",
    "works fine"
   ]
  },
  {
   "cell_type": "code",
   "execution_count": 11,
   "metadata": {
    "collapsed": false
   },
   "outputs": [],
   "source": [
    "batch_size = 16\n",
    "patch_size = 2\n",
    "depth = 16\n",
    "num_hidden = 64\n",
    "\n",
    "graph = tf.Graph()\n",
    "\n",
    "with graph.as_default():\n",
    "    # Input data.\n",
    "    tf_train_dataset = tf.placeholder(tf.float32, shape=(batch_size, image_size, image_size, num_channels))\n",
    "    tf_train_labels = tf.placeholder(tf.float32, shape=(batch_size, num_labels))\n",
    "    tf_valid_dataset = tf.constant(X_val)\n",
    "    tf_test_dataset = tf.constant(X_test)\n",
    "    \n",
    "    # Variables.\n",
    "    wc1 = tf.Variable(tf.truncated_normal([2, 2, 1, 16], stddev=0.1))\n",
    "    bc1 = tf.Variable(tf.zeros([16]))\n",
    "    \n",
    "    wc2 = tf.Variable(tf.truncated_normal([2, 2, 16, 36], stddev=0.1))\n",
    "    bc2 = tf.Variable(tf.zeros([36]))\n",
    "    \n",
    "    wc3 = tf.Variable(tf.truncated_normal([2, 2, 36, 64], stddev=0.1))\n",
    "    bc3 = tf.Variable(tf.constant(1.0, shape=[64]))\n",
    "    \n",
    "    wc4 = tf.Variable(tf.truncated_normal([2, 2, 64, 16], stddev=0.1))\n",
    "    bc4 = tf.Variable(tf.constant(1.0, shape=[16]))\n",
    "    \n",
    "    wc5 = tf.Variable(tf.truncated_normal([2, 2, 16, 16], stddev=0.1))\n",
    "    bc5 = tf.Variable(tf.constant(1.0, shape=[16]))\n",
    "    \n",
    "    wd1 = tf.Variable(tf.truncated_normal([16, 864], stddev=0.1))\n",
    "    bd1 = tf.Variable(tf.constant(1.0, shape=[864]))\n",
    "    \n",
    "    wd2 = tf.Variable(tf.truncated_normal([864, 288], stddev=0.1))\n",
    "    bd2 = tf.Variable(tf.constant(1.0, shape=[288]))\n",
    "    \n",
    "    wd3 = tf.Variable(tf.truncated_normal([288, 6], stddev=0.1))\n",
    "    bd3 = tf.Variable(tf.constant(1.0, shape=[6]))\n",
    "\n",
    "    # Model.\n",
    "    def model(data):\n",
    "        conv = tf.nn.conv2d(data, wc1, [1, 1, 1, 1], padding='SAME')\n",
    "        hidden = tf.nn.relu(conv + bc1)\n",
    "        \n",
    "        conv = tf.nn.conv2d(hidden, wc2, [1, 1, 1, 1], padding='SAME')\n",
    "        hidden = tf.nn.relu(conv + bc2)\n",
    "        \n",
    "        conv = tf.nn.conv2d(hidden, wc3, [1, 1, 1, 1], padding='SAME')\n",
    "        hidden = tf.nn.relu(conv + bc3)\n",
    "        \n",
    "        conv = tf.nn.conv2d(hidden, wc4, [1, 1, 1, 1], padding='SAME')\n",
    "        hidden = tf.nn.relu(conv + bc4)\n",
    "        \n",
    "        conv = tf.nn.conv2d(hidden, wc5, [1, 1, 1, 1], padding='SAME')\n",
    "        hidden = tf.nn.relu(conv + bc5)\n",
    "        \n",
    "        pool = tf.nn.avg_pool(hidden, ksize=[1, 32, 32, 1], strides=[1, 32, 32, 1], padding='SAME')\n",
    "        \n",
    "        shape = pool.get_shape().as_list()\n",
    "        reshape = tf.reshape(pool, [shape[0], shape[1] * shape[2] * shape[3]])\n",
    "        \n",
    "        hidden = tf.nn.relu(tf.matmul(reshape, wd1) + bd1)\n",
    "        \n",
    "        hidden1 = tf.nn.relu(tf.matmul(hidden, wd2) + bd2)\n",
    "        \n",
    "        return tf.matmul(hidden1, wd3) + bd3\n",
    "    \n",
    "    # Training computation.\n",
    "    logits = model(tf_train_dataset)\n",
    "    loss = tf.reduce_mean(tf.nn.softmax_cross_entropy_with_logits(logits, tf_train_labels))\n",
    "    \n",
    "    # Optimizer.\n",
    "    optimizer = tf.train.GradientDescentOptimizer(0.05).minimize(loss)\n",
    "    \n",
    "    # Predictions for the training, validation, and test data.\n",
    "    train_prediction = tf.nn.softmax(logits)\n",
    "    valid_prediction = tf.nn.softmax(model(tf_valid_dataset))\n",
    "    test_prediction = tf.nn.softmax(model(tf_test_dataset))"
   ]
  },
  {
   "cell_type": "code",
   "execution_count": 12,
   "metadata": {
    "collapsed": true
   },
   "outputs": [],
   "source": [
    "def next_batch(batch_size):\n",
    "    \n",
    "    n_samples = len(X_train)\n",
    "    indices = np.random.choice(n_samples, batch_size)\n",
    "    batch_x = X_train[indices]\n",
    "    batch_y = y_train[indices]\n",
    "    \n",
    "    return batch_x, batch_y"
   ]
  },
  {
   "cell_type": "code",
   "execution_count": 12,
   "metadata": {
    "collapsed": false
   },
   "outputs": [
    {
     "name": "stdout",
     "output_type": "stream",
     "text": [
      "Initialized\n",
      "step   \t\t->\t0\n",
      "Minibatch loss at step 0: 7.236277\n",
      "Minibatch accuracy: 31.2%\n",
      "Validation accuracy: 36.3%\n",
      "step   \t\t->\t50\n",
      "Minibatch loss at step 50: 1.506475\n",
      "Minibatch accuracy: 37.5%\n",
      "Validation accuracy: 36.3%\n",
      "step   \t\t->\t100\n",
      "Minibatch loss at step 100: 1.444633\n",
      "Minibatch accuracy: 37.5%\n",
      "Validation accuracy: 36.3%\n",
      "Test accuracy: 36.1%\n"
     ]
    }
   ],
   "source": [
    "num_steps = 101\n",
    "\n",
    "with tf.Session(graph=graph) as session:\n",
    "    tf.initialize_all_variables().run()\n",
    "    print('Initialized')\n",
    "    for step in range(num_steps):\n",
    "        \n",
    "        batch_data, batch_labels = next_batch(batch_size)\n",
    "        \n",
    "        feed_dict = {tf_train_dataset : batch_data, tf_train_labels : batch_labels}\n",
    "        \n",
    "        _, l, predictions = session.run([optimizer, loss, train_prediction], feed_dict=feed_dict)\n",
    "        \n",
    "        if (step % 50 == 0):\n",
    "            print 'step   \\t\\t->\\t', step\n",
    "            print('Minibatch loss at step %d: %f' % (step, l))\n",
    "            print('Minibatch accuracy: %.1f%%' % accuracy(predictions, batch_labels))\n",
    "            print('Validation accuracy: %.1f%%' % accuracy(valid_prediction.eval(), y_val))\n",
    "    print('Test accuracy: %.1f%%' % accuracy(test_prediction.eval(), y_test))"
   ]
  },
  {
   "cell_type": "code",
   "execution_count": null,
   "metadata": {
    "collapsed": true
   },
   "outputs": [],
   "source": []
  }
 ],
 "metadata": {
  "kernelspec": {
   "display_name": "Python 2",
   "language": "python",
   "name": "python2"
  },
  "language_info": {
   "codemirror_mode": {
    "name": "ipython",
    "version": 2
   },
   "file_extension": ".py",
   "mimetype": "text/x-python",
   "name": "python",
   "nbconvert_exporter": "python",
   "pygments_lexer": "ipython2",
   "version": "2.7.11"
  }
 },
 "nbformat": 4,
 "nbformat_minor": 0
}
