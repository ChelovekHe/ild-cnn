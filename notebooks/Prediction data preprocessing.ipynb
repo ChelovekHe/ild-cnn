{
 "cells": [
  {
   "cell_type": "markdown",
   "metadata": {},
   "source": [
    "# Prepare predict dat for one full scan data\n",
    "### May 12, 2016"
   ]
  },
  {
   "cell_type": "code",
   "execution_count": 1,
   "metadata": {
    "collapsed": true
   },
   "outputs": [],
   "source": [
    "# using patient 121 who has fibrosis\n",
    "# as reference, patient 138 is healthy\n",
    "# patient 107 has both reticulation and groundglass\n",
    "\n",
    "patient_ID = 121"
   ]
  },
  {
   "cell_type": "code",
   "execution_count": 2,
   "metadata": {
    "collapsed": false
   },
   "outputs": [
    {
     "name": "stderr",
     "output_type": "stream",
     "text": [
      "/Users/peterhirt/anaconda/envs/theano/lib/python2.7/site-packages/matplotlib/font_manager.py:273: UserWarning: Matplotlib is building the font cache using fc-list. This may take a moment.\n",
      "  warnings.warn('Matplotlib is building the font cache using fc-list. This may take a moment.')\n",
      "Using Theano backend.\n"
     ]
    }
   ],
   "source": [
    "import os\n",
    "from scipy import misc\n",
    "import numpy as np\n",
    "from matplotlib import pyplot as plt\n",
    "from keras.utils.data_utils import get_file\n",
    "from six.moves import cPickle\n",
    "import sys\n",
    "from keras.utils import np_utils \n",
    "import cPickle as pickle\n",
    "from sklearn.cross_validation import train_test_split"
   ]
  },
  {
   "cell_type": "code",
   "execution_count": 3,
   "metadata": {
    "collapsed": false
   },
   "outputs": [
    {
     "name": "stdout",
     "output_type": "stream",
     "text": [
      "/Users/peterhirt/datascience/ild-cnn\n"
     ]
    }
   ],
   "source": [
    "one_folder_up = os.path.dirname(os.getcwd())\n",
    "print one_folder_up"
   ]
  },
  {
   "cell_type": "code",
   "execution_count": 4,
   "metadata": {
    "collapsed": true
   },
   "outputs": [],
   "source": [
    "# create path to patch directory\n",
    "predict_dir = os.path.join(one_folder_up, 'predict')"
   ]
  },
  {
   "cell_type": "code",
   "execution_count": 5,
   "metadata": {
    "collapsed": false
   },
   "outputs": [
    {
     "name": "stdout",
     "output_type": "stream",
     "text": [
      "taking out the item :  .DS_Store\n"
     ]
    }
   ],
   "source": [
    "# list all directories under patch directory. They are representing the categories\n",
    "patient_list = (os.listdir(predict_dir))\n",
    "print 'taking out the item : ', patient_list.pop(0)"
   ]
  },
  {
   "cell_type": "code",
   "execution_count": 7,
   "metadata": {
    "collapsed": false
   },
   "outputs": [
    {
     "data": {
      "text/plain": [
       "'/Users/peterhirt/datascience/ild-cnn/predict/121'"
      ]
     },
     "execution_count": 7,
     "metadata": {},
     "output_type": "execute_result"
    }
   ],
   "source": [
    "# create path to patient directory\n",
    "patient_dir = os.path.join(predict_dir, str(patient_ID))\n",
    "patient_dir"
   ]
  },
  {
   "cell_type": "code",
   "execution_count": 8,
   "metadata": {
    "collapsed": false
   },
   "outputs": [
    {
     "data": {
      "text/plain": [
       "list"
      ]
     },
     "execution_count": 8,
     "metadata": {},
     "output_type": "execute_result"
    }
   ],
   "source": [
    "# list all directories under patch directory. They are representing the categories\n",
    "image_files = (os.listdir(patient_dir))\n",
    "type(image_files)"
   ]
  },
  {
   "cell_type": "code",
   "execution_count": 9,
   "metadata": {
    "collapsed": false
   },
   "outputs": [
    {
     "data": {
      "text/plain": [
       "['p_0001_160_256.bmp',\n",
       " 'p_0002_128_256.bmp',\n",
       " 'p_0002_128_288.bmp',\n",
       " 'p_0002_160_256.bmp',\n",
       " 'p_0002_160_288.bmp']"
      ]
     },
     "execution_count": 9,
     "metadata": {},
     "output_type": "execute_result"
    }
   ],
   "source": [
    "image_files[0:5]"
   ]
  },
  {
   "cell_type": "code",
   "execution_count": 10,
   "metadata": {
    "collapsed": false
   },
   "outputs": [
    {
     "name": "stdout",
     "output_type": "stream",
     "text": [
      "dataset shape is now:  (338, 32, 32)\n",
      "reference file list for the first 5 items is : \n",
      "['p_0001_160_256.bmp']\n",
      "['p_0002_128_256.bmp']\n",
      "['p_0002_128_288.bmp']\n",
      "['p_0002_160_256.bmp']\n",
      "['p_0002_160_288.bmp']\n"
     ]
    }
   ],
   "source": [
    "# creating variables\n",
    "# list for the merged pixel data\n",
    "dataset_list = []\n",
    "# list of the file reference data\n",
    "file_reference_list = []\n",
    "\n",
    "\n",
    "# go through all image files\n",
    "# \n",
    "\n",
    "\n",
    "for file in image_files:\n",
    "                \n",
    "    if file.find('.bmp') > 0:\n",
    "                \n",
    "        # load the .bmp file into memory       \n",
    "        image = misc.imread(os.path.join(str(patient_dir),file), flatten= 0)\n",
    "        \n",
    "        # append the array to the dataset list\n",
    "        dataset_list.append(image)\n",
    "        \n",
    "        # append the file name to the reference list. The objective here is to ensure that the data \n",
    "        # and the file information about the x/y position is guamarteed\n",
    "        \n",
    "        file_reference_list.append(file)\n",
    "                \n",
    "                \n",
    "                                 \n",
    "# transform dataset list into numpy array                   \n",
    "dataset = np.array(dataset_list)\n",
    "file_reference = np.array(file_reference_list)\n",
    "\n",
    "# use only one of the 3 color channels as greyscale info\n",
    "X = dataset[:,:, :,1]\n",
    "\n",
    "print 'dataset shape is now: ', X.shape\n",
    "print 'reference file list for the first 5 items is : ' \n",
    "print file_reference[0:1]\n",
    "print file_reference[1:2]\n",
    "print file_reference[2:3]\n",
    "print file_reference[3:4]\n",
    "print file_reference[4:5]\n",
    "\n",
    "\n",
    "# \n",
    "\n",
    "\n",
    "\n",
    "            "
   ]
  },
  {
   "cell_type": "code",
   "execution_count": 11,
   "metadata": {
    "collapsed": false
   },
   "outputs": [
    {
     "name": "stdout",
     "output_type": "stream",
     "text": [
      "(338, 32, 32)\n",
      "(338,)\n"
     ]
    }
   ],
   "source": [
    "print X.shape\n",
    "print file_reference.shape"
   ]
  },
  {
   "cell_type": "code",
   "execution_count": 12,
   "metadata": {
    "collapsed": true
   },
   "outputs": [],
   "source": [
    "# save the dataset and label set into serial formatted pkl \n",
    "\n",
    "pickle.dump(X, open( \"../pickle/X_predict_121.pkl\", \"wb\" ))\n",
    "pickle.dump(file_reference, open( \"../pickle/X_file_reference_121.pkl\", \"wb\" ))\n"
   ]
  },
  {
   "cell_type": "code",
   "execution_count": null,
   "metadata": {
    "collapsed": true
   },
   "outputs": [],
   "source": []
  },
  {
   "cell_type": "code",
   "execution_count": null,
   "metadata": {
    "collapsed": true
   },
   "outputs": [],
   "source": []
  }
 ],
 "metadata": {
  "kernelspec": {
   "display_name": "Python 2",
   "language": "python",
   "name": "python2"
  },
  "language_info": {
   "codemirror_mode": {
    "name": "ipython",
    "version": 2
   },
   "file_extension": ".py",
   "mimetype": "text/x-python",
   "name": "python",
   "nbconvert_exporter": "python",
   "pygments_lexer": "ipython2",
   "version": "2.7.11"
  }
 },
 "nbformat": 4,
 "nbformat_minor": 0
}
