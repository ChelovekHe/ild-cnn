{
 "cells": [
  {
   "cell_type": "markdown",
   "metadata": {},
   "source": [
    "# Predict flow - as notebook\n",
    "as close as possible to predict.py in python folder"
   ]
  },
  {
   "cell_type": "code",
   "execution_count": 1,
   "metadata": {
    "collapsed": false
   },
   "outputs": [],
   "source": [
    "import os\n",
    "import dicom\n",
    "import scipy\n",
    "from scipy import misc\n",
    "import shutil\n",
    "import numpy as np\n",
    "from PIL import Image, ImageFont, ImageDraw\n",
    "import cPickle as pickle"
   ]
  },
  {
   "cell_type": "code",
   "execution_count": 2,
   "metadata": {
    "collapsed": false
   },
   "outputs": [
    {
     "name": "stderr",
     "output_type": "stream",
     "text": [
      "Using Theano backend.\n"
     ]
    }
   ],
   "source": [
    "import sys\n",
    "sys.path.insert(0, '../python')\n",
    "import ild_helpers as H\n",
    "import cnn_model as CNN4"
   ]
  },
  {
   "cell_type": "code",
   "execution_count": 3,
   "metadata": {
    "collapsed": false
   },
   "outputs": [],
   "source": [
    "#font file imported in top directory\n",
    "font = ImageFont.truetype( '../fonts/arial.ttf', 20)"
   ]
  },
  {
   "cell_type": "code",
   "execution_count": 4,
   "metadata": {
    "collapsed": true
   },
   "outputs": [],
   "source": [
    "namedirtop = 'predict'                         # global directory for predict file\n",
    "predictout='predicted_results'                 # directory for storing image out after prediction\n",
    "patchpath='patch_bmp'                          # directory for patches from scan images\n",
    "jpegpath = 'patch_jpeg'                        # subdirectory name to put images\n",
    "lungmask='lung_mask'                           # directory with lung mask dicom\n",
    "lungmaskbmp='bmp'                              # directory to put  lung mask bmp\n",
    "scanbmp='scan_bmp'                             # directory with bmp from dicom\n",
    "thrproba = 0.8                                 # threshold for probability prediction\n",
    "predicted_classes = 'predicted_classes.pkl'    # pickle with predicted classes\n",
    "predicted_proba= 'predicted_probabilities.pkl' # pickle with predicted probabilities\n",
    "Xprepkl='X_predict.pkl'                        # pickle with Xfile\n",
    "Xrefpkl='X_file_reference.pkl'\n",
    "picklefile='pickle'                            # subdirectory name to colect pkl files resulting from prediction"
   ]
  },
  {
   "cell_type": "code",
   "execution_count": 5,
   "metadata": {
    "collapsed": false
   },
   "outputs": [
    {
     "name": "stdout",
     "output_type": "stream",
     "text": [
      "/Users/peterhirt/datascience/ild-cnn\n",
      "notebooks\n"
     ]
    }
   ],
   "source": [
    "cwd=os.getcwd()\n",
    "(cwdtop,tail)=os.path.split(cwd)\n",
    "print cwdtop\n",
    "print tail"
   ]
  },
  {
   "cell_type": "code",
   "execution_count": 6,
   "metadata": {
    "collapsed": false
   },
   "outputs": [
    {
     "name": "stdout",
     "output_type": "stream",
     "text": [
      "/Users/peterhirt/datascience/ild-cnn\n",
      "python\n"
     ]
    }
   ],
   "source": [
    "# retarget python directory\n",
    "tail = 'python'\n",
    "print cwdtop\n",
    "print tail"
   ]
  },
  {
   "cell_type": "code",
   "execution_count": 7,
   "metadata": {
    "collapsed": false
   },
   "outputs": [
    {
     "name": "stdout",
     "output_type": "stream",
     "text": [
      "/Users/peterhirt/datascience/ild-cnn/predict\n"
     ]
    }
   ],
   "source": [
    "path_patient = os.path.join(cwdtop,namedirtop)\n",
    "print path_patient"
   ]
  },
  {
   "cell_type": "code",
   "execution_count": 8,
   "metadata": {
    "collapsed": false
   },
   "outputs": [
    {
     "name": "stdout",
     "output_type": "stream",
     "text": [
      "['107', '121', '138']\n"
     ]
    }
   ],
   "source": [
    "patient_list= os.walk(path_patient).next()[1]\n",
    "print patient_list"
   ]
  },
  {
   "cell_type": "code",
   "execution_count": 30,
   "metadata": {
    "collapsed": true
   },
   "outputs": [],
   "source": [
    "# image  patch format\n",
    "#to enhance contrast on patch put True\n",
    "contrast=False\n",
    "\n",
    "typei='bmp'         # can be either 'bmp' or 'jpg'\n",
    "\n",
    "# dicom file size in pixels\n",
    "dimtabx = 512\n",
    "dimtaby = 512\n",
    "\n",
    "# patch size in pixels 32 * 32\n",
    "dimpavx = 32\n",
    "dimpavy = 32"
   ]
  },
  {
   "cell_type": "code",
   "execution_count": 10,
   "metadata": {
    "collapsed": false
   },
   "outputs": [
    {
     "name": "stdout",
     "output_type": "stream",
     "text": [
      "480\n",
      "480\n"
     ]
    }
   ],
   "source": [
    "mini=dimtabx-dimpavx\n",
    "minj=dimtaby-dimpavy\n",
    "print mini\n",
    "print minj"
   ]
  },
  {
   "cell_type": "code",
   "execution_count": 11,
   "metadata": {
    "collapsed": false
   },
   "outputs": [
    {
     "name": "stdout",
     "output_type": "stream",
     "text": [
      "1024.0\n"
     ]
    }
   ],
   "source": [
    "pxy=float(dimpavx*dimpavy)\n",
    "print pxy"
   ]
  },
  {
   "cell_type": "code",
   "execution_count": 12,
   "metadata": {
    "collapsed": true
   },
   "outputs": [],
   "source": [
    "# threshold for patch acceptance\n",
    "thrpatch = 0.8"
   ]
  },
  {
   "cell_type": "code",
   "execution_count": 13,
   "metadata": {
    "collapsed": true
   },
   "outputs": [],
   "source": [
    "# color of labels\n",
    "red=(255,0,0)\n",
    "green=(0,255,0)\n",
    "blue=(0,0,255)\n",
    "yellow=(255,255,0)\n",
    "cyan=(0,255,255)\n",
    "purple=(255,0,255)\n",
    "white=(255,255,255)"
   ]
  },
  {
   "cell_type": "code",
   "execution_count": 14,
   "metadata": {
    "collapsed": true
   },
   "outputs": [],
   "source": [
    "classif ={\n",
    "'consolidation': 0,\n",
    "'fibrosis': 1,\n",
    "'ground_glass': 2,\n",
    "'healthy': 3,\n",
    "'micronodules': 4,\n",
    "'reticulation': 5}"
   ]
  },
  {
   "cell_type": "code",
   "execution_count": 15,
   "metadata": {
    "collapsed": true
   },
   "outputs": [],
   "source": [
    "classifc ={\n",
    "'consolidation': red,\n",
    "'fibrosis': blue,\n",
    "'ground_glass': yellow,\n",
    "'healthy': green,\n",
    "'micronodules': cyan,\n",
    "'reticulation': purple}"
   ]
  },
  {
   "cell_type": "code",
   "execution_count": 16,
   "metadata": {
    "collapsed": true
   },
   "outputs": [],
   "source": [
    "args  = H.parse_args()                          \n",
    "train_params = {\n",
    "     'do' : float(args.do) if args.do else 0.5,        \n",
    "     'a'  : float(args.a) if args.a else 0.3,          # Conv Layers LeakyReLU alpha param [if alpha set to 0 LeakyReLU is equivalent with ReLU]\n",
    "     'k'  : int(args.k) if args.k else 4,              # Feature maps k multiplier\n",
    "     's'  : float(args.s) if args.s else 1,            # Input Image rescale factor\n",
    "     'pf' : float(args.pf) if args.pf else 1,          # Percentage of the pooling layer: [0,1]\n",
    "     'pt' : args.pt if args.pt else 'Avg',             # Pooling type: Avg, Max\n",
    "     'fp' : args.fp if args.fp else 'proportional',    # Feature maps policy: proportional, static\n",
    "     'cl' : int(args.cl) if args.cl else 5,            # Number of Convolutional Layers\n",
    "     'opt': args.opt if args.opt else 'Adam',          # Optimizer: SGD, Adagrad, Adam\n",
    "     'obj': args.obj if args.obj else 'ce',            # Minimization Objective: mse, ce\n",
    "     'patience' : args.pat if args.pat else 5,         # Patience parameter for early stoping\n",
    "     'tolerance': args.tol if args.tol else 1.005,     # Tolerance parameter for early stoping [default: 1.005, checks if > 0.5%]\n",
    "     'res_alias': args.csv if args.csv else 'res'      # csv results filename alias\n",
    "                }\n"
   ]
  },
  {
   "cell_type": "code",
   "execution_count": 17,
   "metadata": {
    "collapsed": true
   },
   "outputs": [],
   "source": [
    "model = H.load_model()\n",
    "model.compile(optimizer='Adam', loss=CNN4.get_Obj(train_params['obj']))"
   ]
  },
  {
   "cell_type": "code",
   "execution_count": 18,
   "metadata": {
    "collapsed": true
   },
   "outputs": [],
   "source": [
    "# open error file\n",
    "\n",
    "errorfile = open(path_patient+'/predicterrorfile.txt', 'w') "
   ]
  },
  {
   "cell_type": "markdown",
   "metadata": {},
   "source": [
    "## Functions definition"
   ]
  },
  {
   "cell_type": "code",
   "execution_count": 21,
   "metadata": {
    "collapsed": true
   },
   "outputs": [],
   "source": [
    "def remove_folder(path):\n",
    "    \"\"\"\n",
    "    to remove folder\n",
    "    called from genebmp function\n",
    "    \"\"\"\n",
    "    # check if folder exists\n",
    "    if os.path.exists(path):\n",
    "        # remove if exists\n",
    "        shutil.rmtree(path)"
   ]
  },
  {
   "cell_type": "code",
   "execution_count": null,
   "metadata": {
    "collapsed": true
   },
   "outputs": [],
   "source": []
  },
  {
   "cell_type": "code",
   "execution_count": 22,
   "metadata": {
    "collapsed": true
   },
   "outputs": [],
   "source": [
    "def genebmp(dirName):\n",
    "    \"\"\"\n",
    "    Objective: generate patches from dicom files\n",
    "    Input files:  dicom files \n",
    "                  lung_mask directory (if present)  \n",
    "    Output: scan_bmp directory with .bmp files\n",
    "            bmp directory with .bmp files insidelung_mask directory \n",
    "    \n",
    "    \n",
    "    \n",
    "    \"\"\"\n",
    "    print ('generate bmp files from dicom files in :',f)\n",
    "    \n",
    "    # directory for patches\n",
    "    bmp_dir = os.path.join(dirName, scanbmp)\n",
    "    print bmp_dir\n",
    "    \n",
    "    remove_folder(bmp_dir)  \n",
    "    \n",
    "    os.mkdir(bmp_dir)\n",
    "    \n",
    "    # list dcm files\n",
    "    fileList = os.listdir(dirName)\n",
    "    \n",
    "    for filename in fileList:\n",
    "        # print(filename)\n",
    "        if \".dcm\" in filename.lower():  # check whether the file's DICOM\n",
    "            FilesDCM =(os.path.join(dirName,filename))  \n",
    "            #           \n",
    "            ds = dicom.read_file(FilesDCM)\n",
    "            endnumslice = filename.find('.dcm')\n",
    "            imgcore = filename[0:endnumslice] + '.' + typei\n",
    "            # imgcore=filename[0:endnumslice]+'.dcm'\n",
    "\n",
    "            # print imgcore\n",
    "            bmpfile=os.path.join(bmp_dir,imgcore)\n",
    "            scipy.misc.imsave(bmpfile, ds.pixel_array)\n",
    "            # ds.save_as(bmpfile)\n",
    "\n",
    "        # check if lung mask present\n",
    "        if lungmask == filename:\n",
    "            lung_dir = os.path.join(dirName, lungmask)\n",
    "            lung_bmp_dir = os.path.join(lung_dir,lungmaskbmp)\n",
    "            lunglist = os.listdir(lung_dir)\n",
    "            remove_folder(lung_bmp_dir)\n",
    "            # if lungmaskbmp not in lunglist:\n",
    "            os.mkdir(lung_bmp_dir)\n",
    "            # print(lung_bmp_dir)\n",
    "            for lungfile in lunglist:\n",
    "                # print(lungfile)\n",
    "                if \".dcm\" in lungfile.lower():  # check whether the file's DICOM\n",
    "                    lungDCM =os.path.join(lung_dir,lungfile)  \n",
    "                    dslung = dicom.read_file(lungDCM)\n",
    "                    endnumslice=lungfile.find('.dcm')\n",
    "                    lungcore=lungfile[0:endnumslice]+'.'+typei\n",
    "                    lungcoref=os.path.join(lung_bmp_dir,lungcore)\n",
    "                    scipy.misc.imsave(lungcoref, dslung.pixel_array)\n",
    "        \n"
   ]
  },
  {
   "cell_type": "code",
   "execution_count": 28,
   "metadata": {
    "collapsed": false
   },
   "outputs": [],
   "source": [
    "def pavgene (namedirtopcf):\n",
    "        \"\"\" \n",
    "        generate patches from scan\n",
    "        \"\"\"\n",
    "        \n",
    "        print('generate patches on: ',f)\n",
    "        # print namedirtopcf\n",
    "        \n",
    "        namemask1=os.path.join(namedirtopcf,lungmask)\n",
    "        namemask=os.path.join(namemask1,lungmaskbmp)\n",
    "        # print namemask\n",
    "        \n",
    "        bmpdir = os.path.join(namedirtopcf,scanbmp)\n",
    "        # print bmpdir\n",
    "        \n",
    "        patchpathf=os.path.join(namedirtopcf,patchpath)\n",
    "        jpegpathf=os.path.join(namedirtopcf,jpegpath)\n",
    "        \n",
    "        remove_folder(patchpathf)\n",
    "        os.mkdir(patchpathf)\n",
    "        \n",
    "        remove_folder(jpegpathf)\n",
    "        os.mkdir(jpegpathf)\n",
    "        \n",
    "        listbmp= os.listdir(bmpdir)\n",
    "        # print(listbmp)\n",
    "        \n",
    "        if os.path.exists(namemask):\n",
    "                listlungbmp= os.listdir(namemask)            \n",
    "        else:\n",
    "            tflung = False\n",
    "            listlungbmp=[]\n",
    "            \n",
    "        for img in listbmp:\n",
    "            # print img\n",
    "            endnumslice = img.find('.bmp')\n",
    "            posend = endnumslice\n",
    "            while img.find('-',posend)==-1:\n",
    "                posend-=1\n",
    "            debnumslice = posend+1\n",
    "            slicenumber = (img[debnumslice:endnumslice])\n",
    "            # print('sln:',slicenumber,'img:', img,debnumslice,endnumslice \n",
    "            \n",
    "            slns = '_' + str(int(slicenumber)) + '.' + typei\n",
    "            # print(slns)\n",
    "            \n",
    "            for llung in listlungbmp:\n",
    "                tflung=False\n",
    "                # print(llung)\n",
    "                # print(listlungbmp)\n",
    "\n",
    "                if llung.find(slns) > 0:\n",
    "                    tflung = True\n",
    "                    lungfile = os.path.join(namemask,llung)\n",
    "                    # print(lungfile)\n",
    "                    imlung = Image.open(lungfile)\n",
    "                    tablung = np.array(imlung)\n",
    "\n",
    "                    break\n",
    "            if not tflung:\n",
    "                    errorfile.write('lung mask not found ' + slns + ' in: ' + f) \n",
    "                    print('lung mask not found ', slns, ' in: ', f)\n",
    "                    tablung = np.ones((dimtabx, dimtaby), dtype='i')\n",
    "                     \n",
    "            bmpfile = os.path.join(bmpdir,img)\n",
    "            im = Image.open(bmpfile)\n",
    "            imc = im.convert('RGB')\n",
    "            tabim = np.array(imc)         \n",
    "            # pavgene (im,tabim,tablung,slicenumber)\n",
    "            tabf = np.copy(tabim)\n",
    "        \n",
    "            # \n",
    "            i=0\n",
    "            while i <= mini:\n",
    "                j=0\n",
    "                # j=maxj\n",
    "                while j <= minj:\n",
    "                    # print(i,j)\n",
    "                    area = 0.0\n",
    "                    x = 0\n",
    "                    while x < dimpavx:\n",
    "                        y = 0\n",
    "                        while y < dimpavy:\n",
    "                            if tablung[y+j][x+i] > 0:\n",
    "                                area = area+1\n",
    "                            y+=1\n",
    "                        x+=1\n",
    "           \n",
    "                    # check if area above threshold\n",
    "                    if area / pxy > thrpatch:\n",
    "             \n",
    "                        crorig = im.crop((i, j, i + dimpavx, j + dimpavy))\n",
    "                        imagemax=crorig.getbbox()\n",
    "                        # detect black patch\n",
    "                        # print (imagemax)\n",
    "                        \n",
    "                        if imagemax!=None:\n",
    "                            namepatch=patchpathf+'/p_'+slicenumber+'_'+str(i)+'_'+str(j)+'.'+typei\n",
    "                            if contrast:\n",
    "                                    tabcont=normi(crorig)\n",
    "                                    scipy.misc.imsave(namepatch, tabcont)\n",
    "                            else:\n",
    "                                crorig.save(namepatch)\n",
    "                                   #we draw the rectange\n",
    "                            x=0\n",
    "                            while x < dimpavx:\n",
    "                                y=0\n",
    "                                while y < dimpavy:\n",
    "                                    tabf[y+j][x+i]=[255,0,0]\n",
    "                                    if x == 0 or x == dimpavx-1 :\n",
    "                                        y+=1\n",
    "                                    else:\n",
    "                                        y+=dimpavy-1\n",
    "                                x+=1\n",
    "                    j+=dimpavy\n",
    "                i+=dimpavx\n",
    "            # im = plt.matshow(tabf)\n",
    "            # plt.colorbar(im,label='with pavage')\n",
    "            scipy.misc.imsave(jpegpathf+'/'+'s_'+slicenumber+'.bmp', tabf)"
   ]
  },
  {
   "cell_type": "markdown",
   "metadata": {},
   "source": [
    "## start of processing"
   ]
  },
  {
   "cell_type": "code",
   "execution_count": 31,
   "metadata": {
    "collapsed": false
   },
   "outputs": [
    {
     "name": "stdout",
     "output_type": "stream",
     "text": [
      "work on patient ID : 107\n",
      "/Users/peterhirt/datascience/ild-cnn/predict/107\n",
      "('generate bmp files from dicom files in :', '107')\n",
      "/Users/peterhirt/datascience/ild-cnn/predict/107/scan_bmp\n",
      "('generate patches on: ', '107')\n",
      "completed on:  107\n",
      "\n",
      "work on patient ID : 121\n",
      "/Users/peterhirt/datascience/ild-cnn/predict/121\n",
      "('generate bmp files from dicom files in :', '121')\n",
      "/Users/peterhirt/datascience/ild-cnn/predict/121/scan_bmp\n",
      "('generate patches on: ', '121')\n",
      "completed on:  121\n",
      "\n",
      "work on patient ID : 138\n",
      "/Users/peterhirt/datascience/ild-cnn/predict/138\n",
      "('generate bmp files from dicom files in :', '138')\n",
      "/Users/peterhirt/datascience/ild-cnn/predict/138/scan_bmp\n",
      "('generate patches on: ', '138')\n",
      "completed on:  138\n",
      "\n"
     ]
    }
   ],
   "source": [
    "# scan thru patient list \n",
    "\n",
    "for f in patient_list:\n",
    "\n",
    "    print 'work on patient ID :',f\n",
    "    namedirtopcf = os.path.join(path_patient,f)\n",
    "    print namedirtopcf\n",
    "    \n",
    "    if os.path.isdir(namedirtopcf):\n",
    "        genebmp(namedirtopcf)\n",
    "        pavgene(namedirtopcf)\n",
    "        #dataprocessing(namedirtopcf)\n",
    "        #ILDCNNpredict(namedirtopcf)\n",
    "        #visua(namedirtopcf)\n",
    "        print 'completed on: ',f\n",
    "        print ''"
   ]
  },
  {
   "cell_type": "code",
   "execution_count": null,
   "metadata": {
    "collapsed": true
   },
   "outputs": [],
   "source": []
  },
  {
   "cell_type": "code",
   "execution_count": null,
   "metadata": {
    "collapsed": true
   },
   "outputs": [],
   "source": []
  },
  {
   "cell_type": "code",
   "execution_count": null,
   "metadata": {
    "collapsed": true
   },
   "outputs": [],
   "source": []
  },
  {
   "cell_type": "code",
   "execution_count": null,
   "metadata": {
    "collapsed": true
   },
   "outputs": [],
   "source": []
  },
  {
   "cell_type": "code",
   "execution_count": null,
   "metadata": {
    "collapsed": true
   },
   "outputs": [],
   "source": []
  },
  {
   "cell_type": "code",
   "execution_count": null,
   "metadata": {
    "collapsed": true
   },
   "outputs": [],
   "source": []
  },
  {
   "cell_type": "code",
   "execution_count": null,
   "metadata": {
    "collapsed": true
   },
   "outputs": [],
   "source": []
  },
  {
   "cell_type": "code",
   "execution_count": null,
   "metadata": {
    "collapsed": false
   },
   "outputs": [],
   "source": [
    "def fidclass(numero):\n",
    "    \"\"\"return class from number\"\"\"\n",
    "    found=False\n",
    "    for cle, valeur in classif.items():\n",
    "        \n",
    "        if valeur == numero:\n",
    "            found=True\n",
    "            return cle\n",
    "      \n",
    "    if not found:\n",
    "        return 'unknown'"
   ]
  },
  {
   "cell_type": "code",
   "execution_count": null,
   "metadata": {
    "collapsed": true
   },
   "outputs": [],
   "source": [
    "def interv(borne_inf, borne_sup):\n",
    "    \"\"\"Générateur parcourant la série des entiers entre borne_inf et borne_sup.\n",
    "    inclus\n",
    "    Note: borne_inf doit être inférieure à borne_sup\"\"\"\n",
    "    \n",
    "    while borne_inf <= borne_sup:\n",
    "        yield borne_inf\n",
    "        borne_inf += 1"
   ]
  },
  {
   "cell_type": "code",
   "execution_count": null,
   "metadata": {
    "collapsed": true
   },
   "outputs": [],
   "source": [
    "def tagview(fig,text,pro,x,y):\n",
    "    \"\"\"write text in image according to label and color\"\"\"\n",
    "    imgn=Image.open(fig)\n",
    "    draw = ImageDraw.Draw(imgn)\n",
    "    col=classifc[text]\n",
    "\n",
    "    deltay=25*(classif[text]%3)\n",
    "    deltax=175*(classif[text]//3)\n",
    "    #print text, col\n",
    "    draw.text((x+deltax, y+deltay),text+' '+pro,col,font=font)\n",
    "    imgn.save(fig)"
   ]
  },
  {
   "cell_type": "code",
   "execution_count": null,
   "metadata": {
    "collapsed": true
   },
   "outputs": [],
   "source": [
    "def tagviews(fig,text,x,y):\n",
    "    \"\"\"write simple text in image \"\"\"\n",
    "    imgn=Image.open(fig)\n",
    "    draw = ImageDraw.Draw(imgn)\n",
    "    draw.text((x, y),text,white,font=font)\n",
    "    imgn.save(fig)"
   ]
  },
  {
   "cell_type": "code",
   "execution_count": null,
   "metadata": {
    "collapsed": true
   },
   "outputs": [],
   "source": [
    "def maxproba(proba):\n",
    "    \"\"\"looks for max probability in result\"\"\"\n",
    "    lenp = len(proba)\n",
    "    m=0\n",
    "    for i in interv(0,lenp-1):\n",
    "        if proba[i]>m:\n",
    "            m=proba[i]\n",
    "    return m"
   ]
  },
  {
   "cell_type": "code",
   "execution_count": null,
   "metadata": {
    "collapsed": true
   },
   "outputs": [],
   "source": [
    "def remove_folder(path):\n",
    "    # check if folder exists\n",
    "    if os.path.exists(path):\n",
    "         # remove if exists\n",
    "         shutil.rmtree(path)\n",
    "         print('this direc exist:',path)"
   ]
  },
  {
   "cell_type": "code",
   "execution_count": null,
   "metadata": {
    "collapsed": true
   },
   "outputs": [],
   "source": [
    "def loadpkl(f,do):\n",
    "    # create image directory and load pkl files\n",
    "    dop =os.path.join(do,predoutdirname)\n",
    "    # pickle with predicted classes\n",
    "    preclasspick= os.path.join(dop,precclaf)\n",
    "    # pickle with predicted probabilities\n",
    "    preprobpick= os.path.join(dop,precprobf)\n",
    "    # generate input tables from pickles\n",
    "    dd = open(preclasspick,'rb')\n",
    "    my_depickler = pickle.Unpickler(dd)\n",
    "    preclass = my_depickler.load()\n",
    "#    preclass[0]=0\n",
    "#    preclass[1]=1\n",
    "#    preclass[2]=2\n",
    "#    preclass[3]=3\n",
    "#    preclass[4]=4\n",
    "#    preclass[5]=5\n",
    "    dd.close()\n",
    "    dd = open(preprobpick,'rb')\n",
    "    my_depickler = pickle.Unpickler(dd)\n",
    "    preprob = my_depickler.load()\n",
    "    dd.close()  \n",
    "    return (preclass,preprob)"
   ]
  },
  {
   "cell_type": "code",
   "execution_count": null,
   "metadata": {
    "collapsed": false
   },
   "outputs": [],
   "source": [
    "listpatient=os.listdir(dirpatientdb)    \n",
    "listpatient.pop(0)\n",
    "listpatient121 = []\n",
    "listpatient121.append(listpatient[1])\n",
    "print listpatient121"
   ]
  },
  {
   "cell_type": "markdown",
   "metadata": {},
   "source": [
    "# actual code"
   ]
  },
  {
   "cell_type": "code",
   "execution_count": null,
   "metadata": {
    "collapsed": false
   },
   "outputs": [],
   "source": [
    "print len(listpatient121)\n",
    "print listpatient121"
   ]
  },
  {
   "cell_type": "code",
   "execution_count": null,
   "metadata": {
    "collapsed": false
   },
   "outputs": [],
   "source": [
    "for f in listpatient121:\n",
    "    print('work on: ',f)\n",
    "    do = os.path.join(dirpatientoutdb,f)\n",
    "    print do\n",
    "    doj = os.path.join(do,imgdirname)\n",
    "    print doj\n",
    "    remove_folder(doj)\n",
    "    os.mkdir(doj)\n",
    "    (preclass,preprob)=loadpkl(f,do)"
   ]
  },
  {
   "cell_type": "code",
   "execution_count": null,
   "metadata": {
    "collapsed": true
   },
   "outputs": [],
   "source": [
    "    doj = os.path.join(do,imgdirname)\n",
    "    remove_folder(doj)\n",
    "    os.mkdir(doj)\n",
    "    (preclass,preprob)=loadpkl(f,do)"
   ]
  },
  {
   "cell_type": "code",
   "execution_count": null,
   "metadata": {
    "collapsed": true
   },
   "outputs": [],
   "source": [
    "from six.moves import cPickle\n",
    "import cPickle as pickle"
   ]
  },
  {
   "cell_type": "code",
   "execution_count": null,
   "metadata": {
    "collapsed": true
   },
   "outputs": [],
   "source": [
    "predicted_classes = pickle.load( open( \"../pickle/predicted_classes.pkl\", \"rb\" ) )\n",
    "predicted_probabilities = pickle.load( open( \"../pickle/predicted_probabilities.pkl\", \"rb\" ) )\n",
    "X_file_reference = pickle.load( open( \"../pickle/X_file_reference.pkl\", \"rb\" ) )"
   ]
  },
  {
   "cell_type": "code",
   "execution_count": null,
   "metadata": {
    "collapsed": false
   },
   "outputs": [],
   "source": [
    "predicted_classes"
   ]
  },
  {
   "cell_type": "code",
   "execution_count": null,
   "metadata": {
    "collapsed": false
   },
   "outputs": [],
   "source": [
    "predicted_probabilities"
   ]
  },
  {
   "cell_type": "code",
   "execution_count": null,
   "metadata": {
    "collapsed": false
   },
   "outputs": [],
   "source": [
    "X_file_reference[0:5]"
   ]
  },
  {
   "cell_type": "code",
   "execution_count": null,
   "metadata": {
    "collapsed": false
   },
   "outputs": [],
   "source": [
    "print predicted_classes.shape\n",
    "print predicted_probabilities.shape\n",
    "print X_file_reference.shape"
   ]
  },
  {
   "cell_type": "code",
   "execution_count": null,
   "metadata": {
    "collapsed": false
   },
   "outputs": [],
   "source": [
    "results = np.concatenate((predicted_classes, X_file_reference))"
   ]
  },
  {
   "cell_type": "code",
   "execution_count": null,
   "metadata": {
    "collapsed": false
   },
   "outputs": [],
   "source": [
    "results[0:5]"
   ]
  },
  {
   "cell_type": "code",
   "execution_count": null,
   "metadata": {
    "collapsed": true
   },
   "outputs": [],
   "source": [
    "a = [[1],[2],[3]]"
   ]
  },
  {
   "cell_type": "code",
   "execution_count": null,
   "metadata": {
    "collapsed": true
   },
   "outputs": [],
   "source": [
    "b = [[4],[5],[6]]"
   ]
  },
  {
   "cell_type": "code",
   "execution_count": null,
   "metadata": {
    "collapsed": false
   },
   "outputs": [],
   "source": [
    "np.concatenate((a,b), axis=1)"
   ]
  },
  {
   "cell_type": "code",
   "execution_count": null,
   "metadata": {
    "collapsed": true
   },
   "outputs": [],
   "source": [
    "aa = [1,2,3]\n",
    "bb = [4,5,6]"
   ]
  },
  {
   "cell_type": "code",
   "execution_count": null,
   "metadata": {
    "collapsed": false
   },
   "outputs": [],
   "source": [
    "np.concatenate((aa.T,bb.T), axis=1)"
   ]
  },
  {
   "cell_type": "code",
   "execution_count": null,
   "metadata": {
    "collapsed": true
   },
   "outputs": [],
   "source": [
    "aaa = predicted_classes[0:3]\n",
    "bbb = X_file_reference[0:3]\n",
    "X = [200,210,220]\n",
    "Y = [100,150,200]"
   ]
  },
  {
   "cell_type": "code",
   "execution_count": null,
   "metadata": {
    "collapsed": false
   },
   "outputs": [],
   "source": [
    "print aaa[0]"
   ]
  },
  {
   "cell_type": "code",
   "execution_count": null,
   "metadata": {
    "collapsed": false
   },
   "outputs": [],
   "source": [
    "c = np.zeros((3, 3))\n",
    "for i in range(3):\n",
    "    c[i][0] = aaa[i]\n",
    "    c[i][1] = X[i]\n",
    "    c[i][2] = Y[i]"
   ]
  },
  {
   "cell_type": "code",
   "execution_count": null,
   "metadata": {
    "collapsed": false
   },
   "outputs": [],
   "source": [
    "c"
   ]
  },
  {
   "cell_type": "code",
   "execution_count": null,
   "metadata": {
    "collapsed": false
   },
   "outputs": [],
   "source": [
    "bbb[0].count('_')"
   ]
  },
  {
   "cell_type": "code",
   "execution_count": null,
   "metadata": {
    "collapsed": false
   },
   "outputs": [],
   "source": [
    "bbb[0].split('_')"
   ]
  },
  {
   "cell_type": "code",
   "execution_count": null,
   "metadata": {
    "collapsed": false
   },
   "outputs": [],
   "source": [
    "bbbb = bbb[0].split('.')\n"
   ]
  },
  {
   "cell_type": "code",
   "execution_count": null,
   "metadata": {
    "collapsed": false
   },
   "outputs": [],
   "source": [
    "print bbbb[0]"
   ]
  },
  {
   "cell_type": "code",
   "execution_count": null,
   "metadata": {
    "collapsed": false
   },
   "outputs": [],
   "source": [
    "print bbbb[0].split('_')"
   ]
  },
  {
   "cell_type": "code",
   "execution_count": null,
   "metadata": {
    "collapsed": true
   },
   "outputs": [],
   "source": []
  }
 ],
 "metadata": {
  "kernelspec": {
   "display_name": "Python 2",
   "language": "python",
   "name": "python2"
  },
  "language_info": {
   "codemirror_mode": {
    "name": "ipython",
    "version": 2
   },
   "file_extension": ".py",
   "mimetype": "text/x-python",
   "name": "python",
   "nbconvert_exporter": "python",
   "pygments_lexer": "ipython2",
   "version": "2.7.11"
  }
 },
 "nbformat": 4,
 "nbformat_minor": 0
}
