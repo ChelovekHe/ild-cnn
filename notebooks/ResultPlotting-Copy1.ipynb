{
 "cells": [
  {
   "cell_type": "markdown",
   "metadata": {},
   "source": [
    "# Plot Results of training\n",
    "allows interpretation of impact of various parameters setting \n",
    "\n",
    "### needs correct test.csv file"
   ]
  },
  {
   "cell_type": "code",
   "execution_count": 1,
   "metadata": {
    "collapsed": false
   },
   "outputs": [],
   "source": [
    "import numpy as np"
   ]
  },
  {
   "cell_type": "code",
   "execution_count": 2,
   "metadata": {
    "collapsed": false
   },
   "outputs": [
    {
     "data": {
      "text/plain": [
       "array([0, 1, 2, 3, 4, 5, 6, 7, 8, 9])"
      ]
     },
     "execution_count": 2,
     "metadata": {},
     "output_type": "execute_result"
    }
   ],
   "source": [
    "np.arange(10)"
   ]
  },
  {
   "cell_type": "code",
   "execution_count": 3,
   "metadata": {
    "collapsed": false
   },
   "outputs": [
    {
     "data": {
      "text/plain": [
       "array([[ 0.1,  0.3],\n",
       "       [ 1.4, -3.1]])"
      ]
     },
     "execution_count": 3,
     "metadata": {},
     "output_type": "execute_result"
    }
   ],
   "source": [
    "data = np.array([[0.1, 0.3],[1.4, -3.1]])\n",
    "data"
   ]
  },
  {
   "cell_type": "code",
   "execution_count": 4,
   "metadata": {
    "collapsed": false
   },
   "outputs": [
    {
     "data": {
      "text/plain": [
       "array([[  1.,   3.],\n",
       "       [ 14., -31.]])"
      ]
     },
     "execution_count": 4,
     "metadata": {},
     "output_type": "execute_result"
    }
   ],
   "source": [
    "data*10"
   ]
  },
  {
   "cell_type": "code",
   "execution_count": 5,
   "metadata": {
    "collapsed": false
   },
   "outputs": [
    {
     "data": {
      "text/plain": [
       "array([[ 1.,  1.,  1.,  1.,  1.],\n",
       "       [ 1.,  1.,  1.,  1.,  1.],\n",
       "       [ 1.,  1.,  1.,  1.,  1.]])"
      ]
     },
     "execution_count": 5,
     "metadata": {},
     "output_type": "execute_result"
    }
   ],
   "source": [
    "np.ones((3,5))"
   ]
  },
  {
   "cell_type": "code",
   "execution_count": 6,
   "metadata": {
    "collapsed": false
   },
   "outputs": [
    {
     "data": {
      "text/plain": [
       "array([[ 0.,  0.,  0.],\n",
       "       [ 0.,  0.,  0.]])"
      ]
     },
     "execution_count": 6,
     "metadata": {},
     "output_type": "execute_result"
    }
   ],
   "source": [
    "np.zeros((2,3))"
   ]
  },
  {
   "cell_type": "code",
   "execution_count": 7,
   "metadata": {
    "collapsed": false
   },
   "outputs": [],
   "source": [
    "data = np.arange(20)"
   ]
  },
  {
   "cell_type": "code",
   "execution_count": 8,
   "metadata": {
    "collapsed": false
   },
   "outputs": [
    {
     "data": {
      "text/plain": [
       "array([[ 0,  1,  2,  3,  4],\n",
       "       [ 5,  6,  7,  8,  9],\n",
       "       [10, 11, 12, 13, 14],\n",
       "       [15, 16, 17, 18, 19]])"
      ]
     },
     "execution_count": 8,
     "metadata": {},
     "output_type": "execute_result"
    }
   ],
   "source": [
    "data.reshape(4,5)"
   ]
  },
  {
   "cell_type": "code",
   "execution_count": 9,
   "metadata": {
    "collapsed": false
   },
   "outputs": [
    {
     "data": {
      "text/plain": [
       "array([[ 0.99802498,  0.81342669,  0.67738981,  0.36663749],\n",
       "       [ 0.16085075,  0.97527007,  0.80438703,  0.66547349],\n",
       "       [ 0.43752773,  0.099915  ,  0.02737041,  0.27272641],\n",
       "       [ 0.81296645,  0.62405455,  0.98823017,  0.69018102],\n",
       "       [ 0.63378209,  0.06919506,  0.63085757,  0.70566447],\n",
       "       [ 0.67528774,  0.82219623,  0.15415964,  0.53771154]])"
      ]
     },
     "execution_count": 9,
     "metadata": {},
     "output_type": "execute_result"
    }
   ],
   "source": [
    "data1 = np.random.rand(6,4)\n",
    "data1"
   ]
  },
  {
   "cell_type": "code",
   "execution_count": 10,
   "metadata": {
    "collapsed": false
   },
   "outputs": [
    {
     "data": {
      "text/plain": [
       "(6, 4)"
      ]
     },
     "execution_count": 10,
     "metadata": {},
     "output_type": "execute_result"
    }
   ],
   "source": [
    "data1.shape"
   ]
  },
  {
   "cell_type": "code",
   "execution_count": 11,
   "metadata": {
    "collapsed": false
   },
   "outputs": [
    {
     "data": {
      "text/plain": [
       "array([[ 0.80438703,  0.66547349],\n",
       "       [ 0.02737041,  0.27272641]])"
      ]
     },
     "execution_count": 11,
     "metadata": {},
     "output_type": "execute_result"
    }
   ],
   "source": [
    "data1[1:3,2:4]"
   ]
  },
  {
   "cell_type": "code",
   "execution_count": 12,
   "metadata": {
    "collapsed": false
   },
   "outputs": [
    {
     "data": {
      "text/plain": [
       "array([ 0.99802498,  0.97527007,  0.98823017])"
      ]
     },
     "execution_count": 12,
     "metadata": {},
     "output_type": "execute_result"
    }
   ],
   "source": [
    "data1[data1 > 0.9]"
   ]
  },
  {
   "cell_type": "code",
   "execution_count": 13,
   "metadata": {
    "collapsed": false
   },
   "outputs": [
    {
     "name": "stderr",
     "output_type": "stream",
     "text": [
      "/Users/peterhirt/anaconda/envs/theano/lib/python2.7/site-packages/matplotlib/font_manager.py:273: UserWarning: Matplotlib is building the font cache using fc-list. This may take a moment.\n",
      "  warnings.warn('Matplotlib is building the font cache using fc-list. This may take a moment.')\n"
     ]
    }
   ],
   "source": [
    "# matplotlib\n",
    "import matplotlib.pyplot as plt\n",
    "\n"
   ]
  },
  {
   "cell_type": "code",
   "execution_count": 14,
   "metadata": {
    "collapsed": true
   },
   "outputs": [],
   "source": [
    "%matplotlib inline"
   ]
  },
  {
   "cell_type": "code",
   "execution_count": 15,
   "metadata": {
    "collapsed": false
   },
   "outputs": [
    {
     "data": {
      "image/png": "[encoded data removed]",
      "text/plain": [
       "<matplotlib.figure.Figure at 0x10aba4b90>"
      ]
     },
     "metadata": {},
     "output_type": "display_data"
    }
   ],
   "source": [
    "fig = plt.figure()\n",
    "ax1 = fig.add_subplot(1,1,1)\n",
    "x = np.linspace(0, 3*np.pi, 1000)\n",
    "y = np.sin(x**2)\n",
    "ax1.plot(x,y);"
   ]
  },
  {
   "cell_type": "code",
   "execution_count": 16,
   "metadata": {
    "collapsed": false
   },
   "outputs": [
    {
     "data": {
      "image/png": "[encoded data removed]",
      "text/plain": [
       "<matplotlib.figure.Figure at 0x10abc3c90>"
      ]
     },
     "metadata": {},
     "output_type": "display_data"
    }
   ],
   "source": [
    "fig = plt.figure()\n",
    "ax1 = fig.add_subplot(1,3,1)\n",
    "ax2 = fig.add_subplot(1,3,2)\n",
    "ax3 = fig.add_subplot(1,3,3)\n",
    "\n",
    "ax1.hist(np.random.randn(100), bins=20, color='g', alpha=0.3);\n",
    "ax2.scatter(np.arange(30), np.arange(30) + 3*np.random.randn(30));\n",
    "ax3.plot(np.random.randn(50).cumsum(), 'r--');\n"
   ]
  },
  {
   "cell_type": "code",
   "execution_count": 17,
   "metadata": {
    "collapsed": true
   },
   "outputs": [],
   "source": [
    "import csv"
   ]
  },
  {
   "cell_type": "code",
   "execution_count": null,
   "metadata": {
    "collapsed": true
   },
   "outputs": [],
   "source": []
  },
  {
   "cell_type": "code",
   "execution_count": null,
   "metadata": {
    "collapsed": true
   },
   "outputs": [],
   "source": [
    "with open('names.csv', 'w') as csvfile:\n",
    "    fieldnames = ['first_name', 'last_name']\n",
    "    writer = csv.DictWriter(csvfile, fieldnames=fieldnames)\n",
    "\n",
    "    writer.writeheader()\n",
    "    writer.writerow({'first_name': 'Baked', 'last_name': 'Beans'})\n",
    "    writer.writerow({'first_name': 'Lovely', 'last_name': 'Spam'})\n",
    "    writer.writerow({'first_name': 'Wonderful', 'last_name': 'Spam'})"
   ]
  },
  {
   "cell_type": "code",
   "execution_count": 61,
   "metadata": {
    "collapsed": false
   },
   "outputs": [],
   "source": [
    "with open('trial.csv', 'rb') as csvfile:\n",
    "    reader = csv.DictReader(csvfile)\n",
    "    loss_list = []\n",
    "    fscore = []\n",
    "    val_accuracy = []\n",
    "    train_loss = []\n",
    "    val_loss = []\n",
    "    x = []\n",
    "    for row in reader:\n",
    "        # print(row['Epoch'], row[' Val_loss'], row[' Train_loss'])\n",
    "        loss_list.append([float(row[' Val_fscore']),float(row[' Val_acc']), \n",
    "                          float(row[' Train_loss']), float(row[' Val_loss'])])\n",
    "        fscore.append([float(row[' Val_fscore'])])\n",
    "        val_accuracy.append([float(row[' Val_acc'])])\n",
    "        train_loss.append([float(row[' Train_loss'])])\n",
    "        val_loss.append([float(row[' Val_loss'])])\n",
    "        x.append(row['Epoch'])"
   ]
  },
  {
   "cell_type": "code",
   "execution_count": 25,
   "metadata": {
    "collapsed": false
   },
   "outputs": [
    {
     "data": {
      "text/plain": [
       "[[0.435230825522, 0.65824, 1.25422697783, 0.9320171175],\n",
       " [0.442231233545, 0.65248, 0.96342991209, 0.91518930912],\n",
       " [0.47470285606, 0.71104, 0.847198698044, 0.773968045712],\n",
       " [0.500035179759, 0.75104, 0.764252953053, 0.679767080784],\n",
       " [0.507909208492, 0.75488, 0.701666812897, 0.674439228535],\n",
       " [0.515642020201, 0.76912, 0.694649377584, 0.633970128059],\n",
       " [0.545976273928, 0.78752, 0.663042967796, 0.587135066032],\n",
       " [0.639634014883, 0.78352, 0.637498266935, 0.591792643547],\n",
       " [0.585010287263, 0.78496, 0.653059494734, 0.577505133152],\n",
       " [0.631617462508, 0.78064, 0.626784840584, 0.595317111969],\n",
       " [0.582283228466, 0.79168, 0.614148056984, 0.564188130379],\n",
       " [0.644978703532, 0.79264, 0.600281447172, 0.56958126545],\n",
       " [0.649051483666, 0.7928, 0.606295991659, 0.566062057734],\n",
       " [0.647530763136, 0.80352, 0.602825751543, 0.539427492619],\n",
       " [0.647533315249, 0.80368, 0.58703827405, 0.542696408749],\n",
       " [0.65273659743, 0.8016, 0.58731249094, 0.556304965019],\n",
       " [0.663267712347, 0.81024, 0.57098438549, 0.52514913106],\n",
       " [0.638266103175, 0.79344, 0.563887954473, 0.567094969273],\n",
       " [0.655306010989, 0.80896, 0.565614002228, 0.532815809488],\n",
       " [0.660047094592, 0.8024, 0.569290138245, 0.528285906792],\n",
       " [0.658332240622, 0.7928, 0.553728976727, 0.548027881622],\n",
       " [0.672740020782, 0.80544, 0.555233429909, 0.532011265516],\n",
       " [0.656206500721, 0.80272, 0.558705649853, 0.542203514576],\n",
       " [0.67549809563, 0.81104, 0.551155433893, 0.51435089612],\n",
       " [0.681895505115, 0.8072, 0.534001819372, 0.518207445621],\n",
       " [0.673006345523, 0.81104, 0.535709245443, 0.511936610222],\n",
       " [0.69021104674, 0.80736, 0.538643413544, 0.522332633257],\n",
       " [0.677139937936, 0.8152, 0.525646998405, 0.5103960495],\n",
       " [0.691448660388, 0.81088, 0.524660604239, 0.514077547073],\n",
       " [0.68330599214, 0.79568, 0.523360390425, 0.544069262028],\n",
       " [0.695853066791, 0.80992, 0.529990014315, 0.505448151588],\n",
       " [0.694830306235, 0.82064, 0.512058679104, 0.486879487991],\n",
       " [0.591753852894, 0.81008, 0.504174847841, 0.518780096769],\n",
       " [0.702475749442, 0.82112, 0.506597269773, 0.49337365222],\n",
       " [0.69768484892, 0.82208, 0.503809136868, 0.476832649469],\n",
       " [0.714307898147, 0.8176, 0.494782271147, 0.491912006617],\n",
       " [0.708436145062, 0.82496, 0.497809348345, 0.475275506973],\n",
       " [0.673531669669, 0.81856, 0.492168048382, 0.489762631893],\n",
       " [0.714900724076, 0.8288, 0.492673218012, 0.467474267006],\n",
       " [0.703255736127, 0.82544, 0.48167755127, 0.47098956871],\n",
       " [0.676398526676, 0.8288, 0.482011261463, 0.469647842884],\n",
       " [0.710848298493, 0.82464, 0.477568729401, 0.485126054049],\n",
       " [0.737287231085, 0.83088, 0.472408953905, 0.461891035795],\n",
       " [0.713758042045, 0.8248, 0.466992935181, 0.470088652849],\n",
       " [0.703643734401, 0.82256, 0.471610795498, 0.473683858395],\n",
       " [0.727069912002, 0.836, 0.472106443882, 0.449307174444],\n",
       " [0.71697295024, 0.83296, 0.447219907761, 0.443489898205],\n",
       " [0.73501807118, 0.83376, 0.454563835859, 0.450792877674],\n",
       " [0.733723231267, 0.84128, 0.44951919055, 0.431699496269],\n",
       " [0.698966033511, 0.8112, 0.446882677436, 0.507842502594],\n",
       " [0.741799966832, 0.8344, 0.441422727585, 0.442368350983],\n",
       " [0.731972742015, 0.83472, 0.432388802767, 0.437735241413],\n",
       " [0.7304702172, 0.82704, 0.435882221699, 0.464671632051],\n",
       " [0.698917603447, 0.83184, 0.439232875347, 0.449610801458],\n",
       " [0.727651775465, 0.83648, 0.420327570677, 0.443058395386],\n",
       " [0.729580377723, 0.83968, 0.425998287559, 0.422080263138],\n",
       " [0.735020555278, 0.8416, 0.417174744368, 0.438080903769],\n",
       " [0.750175555291, 0.8496, 0.411248956203, 0.41054155755],\n",
       " [0.749445820632, 0.84576, 0.400893772721, 0.419385532856],\n",
       " [0.752498397979, 0.84192, 0.405666297078, 0.431836743832],\n",
       " [0.751606990899, 0.84016, 0.395157229066, 0.42146893549],\n",
       " [0.737009286673, 0.84528, 0.400850332975, 0.417387222052],\n",
       " [0.740628828148, 0.84096, 0.397825091124, 0.420109143972],\n",
       " [0.742200129281, 0.84512, 0.398034302592, 0.424729317427],\n",
       " [0.733061340016, 0.84464, 0.378786539078, 0.414465827942],\n",
       " [0.757435669965, 0.84768, 0.388938416481, 0.398698112011],\n",
       " [0.761109089486, 0.85152, 0.385861933589, 0.399343822718],\n",
       " [0.740470801743, 0.84352, 0.376701950908, 0.424109838963],\n",
       " [0.747850976641, 0.84912, 0.374435108781, 0.395354577541],\n",
       " [0.760693378229, 0.84784, 0.363264741421, 0.407565363407],\n",
       " [0.770697464088, 0.85248, 0.36271804142, 0.397842816114],\n",
       " [0.757844326846, 0.84192, 0.359836561441, 0.423609203339],\n",
       " [0.774459583304, 0.85344, 0.362542319655, 0.403431589842],\n",
       " [0.773910899434, 0.85552, 0.348257587433, 0.387452208281],\n",
       " [0.769358052213, 0.85072, 0.349168738723, 0.403405018568],\n",
       " [0.746303883986, 0.85248, 0.343144115686, 0.408989464045],\n",
       " [0.738230495499, 0.84832, 0.341117912292, 0.412331091642],\n",
       " [0.749024187952, 0.84304, 0.344947263122, 0.429317825794],\n",
       " [0.77140856184, 0.85488, 0.35138289988, 0.384610047817],\n",
       " [0.76202183623, 0.8512, 0.333520237923, 0.402376953363],\n",
       " [0.77260992691, 0.85936, 0.327272775531, 0.38892404604],\n",
       " [0.736338813211, 0.8408, 0.325458653569, 0.44873728919],\n",
       " [0.767202276525, 0.84448, 0.328165275812, 0.424085156918],\n",
       " [0.785981081661, 0.85744, 0.317222936869, 0.386484454155],\n",
       " [0.784316753491, 0.85488, 0.308938922644, 0.403240200043],\n",
       " [0.771797925535, 0.86016, 0.324157157421, 0.389615251064],\n",
       " [0.766705446242, 0.8536, 0.309443770766, 0.410920591593],\n",
       " [0.770323698491, 0.85232, 0.323314506054, 0.409702064276],\n",
       " [0.779039281992, 0.85792, 0.307223894954, 0.402003182173],\n",
       " [0.772696446485, 0.8536, 0.30989797616, 0.402741231441],\n",
       " [0.778657280895, 0.85376, 0.295011066437, 0.399754505634],\n",
       " [0.770679806828, 0.856, 0.301947350979, 0.396176449299],\n",
       " [0.775794055295, 0.85472, 0.289675888777, 0.415326318264],\n",
       " [0.75927414011, 0.85056, 0.300946007133, 0.401825756073],\n",
       " [0.78027177978, 0.85568, 0.279631505966, 0.403458744287],\n",
       " [0.768968838842, 0.85872, 0.274576758206, 0.395321344614],\n",
       " [0.782115639934, 0.85456, 0.279048751593, 0.427257605314],\n",
       " [0.787540541858, 0.85312, 0.27733806479, 0.404918283939],\n",
       " [0.768543760343, 0.85488, 0.275992582798, 0.40063768816],\n",
       " [0.796341192424, 0.86368, 0.268558508992, 0.386598018885],\n",
       " [0.793674053866, 0.86048, 0.270180575907, 0.397417767763],\n",
       " [0.788554363479, 0.86272, 0.276133118808, 0.38393867135],\n",
       " [0.780790337019, 0.85568, 0.252442759633, 0.425454488516],\n",
       " [0.777353275735, 0.85664, 0.251307678401, 0.406572865963],\n",
       " [0.790575380775, 0.86496, 0.247696368754, 0.404532625914],\n",
       " [0.793243197355, 0.85968, 0.245375443757, 0.42381783247],\n",
       " [0.790499389941, 0.86144, 0.242321496129, 0.403699100256],\n",
       " [0.777949601252, 0.85616, 0.236166625679, 0.42594287467],\n",
       " [0.797171148712, 0.8624, 0.23856653738, 0.417108393908],\n",
       " [0.779600913277, 0.85952, 0.231843988836, 0.41656457305],\n",
       " [0.796070393314, 0.85968, 0.239901807368, 0.414604396343],\n",
       " [0.799542821732, 0.86416, 0.230579428494, 0.418573834181],\n",
       " [0.787661246763, 0.85744, 0.221035137057, 0.435365851641],\n",
       " [0.782633464031, 0.85888, 0.21421515429, 0.429287385941],\n",
       " [0.785429649227, 0.85616, 0.213477248013, 0.44577479291],\n",
       " [0.789180103921, 0.85584, 0.223766762376, 0.432467628241],\n",
       " [0.772410161759, 0.84992, 0.203973565996, 0.452787005901],\n",
       " [0.775412962274, 0.8568, 0.207589679599, 0.445799661875],\n",
       " [0.772092469363, 0.85472, 0.20924979037, 0.444252987146],\n",
       " [0.787153548379, 0.85616, 0.199646618605, 0.438176977634],\n",
       " [0.769902527934, 0.85376, 0.192807940006, 0.483304470539],\n",
       " [0.774793027489, 0.85888, 0.192643160999, 0.46540140605],\n",
       " [0.763420425215, 0.84048, 0.190538010687, 0.542687102556],\n",
       " [0.777914077387, 0.85376, 0.184457467616, 0.482176472664],\n",
       " [0.778814542055, 0.8464, 0.183733799785, 0.489740436077],\n",
       " [0.750934195678, 0.84944, 0.184978149116, 0.50246566391],\n",
       " [0.790160755079, 0.85952, 0.181692659318, 0.460945742369],\n",
       " [0.792659043029, 0.85808, 0.168167140543, 0.4653693223],\n",
       " [0.777265766091, 0.85312, 0.173648151934, 0.476654300451],\n",
       " [0.78082961957, 0.85552, 0.171728447527, 0.486824236155],\n",
       " [0.778612597281, 0.85136, 0.146449150145, 0.542071787834],\n",
       " [0.766909684438, 0.84672, 0.173078256011, 0.528963445187],\n",
       " [0.784772874541, 0.848, 0.166514393419, 0.564824402332],\n",
       " [0.78112442213, 0.8448, 0.166325321466, 0.50419614172],\n",
       " [0.775529981315, 0.85312, 0.163466955125, 0.516933413506],\n",
       " [0.752815458415, 0.8496, 0.15128533718, 0.536241467953],\n",
       " [0.731743411398, 0.84032, 0.147311134934, 0.602630958557],\n",
       " [0.79492116412, 0.8576, 0.145837725103, 0.511937880278],\n",
       " [0.774755491447, 0.85056, 0.144008181036, 0.553152951479],\n",
       " [0.796526730153, 0.86272, 0.143056777894, 0.520718972683],\n",
       " [0.786264496948, 0.85264, 0.135274063617, 0.524139235258],\n",
       " [0.774421005752, 0.85056, 0.137738999933, 0.536423280716],\n",
       " [0.767885726569, 0.83232, 0.141626698002, 0.587783281326],\n",
       " [0.782237136065, 0.84864, 0.134866302133, 0.544774215937],\n",
       " [0.774459173486, 0.83648, 0.137849356979, 0.675236999512],\n",
       " [0.782802817508, 0.84896, 0.146053521901, 0.528217745781],\n",
       " [0.780055990138, 0.84848, 0.109841332406, 0.618359781265],\n",
       " [0.784909910497, 0.84368, 0.127879578099, 0.551585738182],\n",
       " [0.755739805282, 0.84096, 0.109712292463, 0.628590710163],\n",
       " [0.756487138604, 0.82704, 0.122417293191, 0.67412590313],\n",
       " [0.777558045507, 0.8488, 0.129042162821, 0.59046705246],\n",
       " [0.770131353006, 0.8368, 0.116391162828, 0.624663276672],\n",
       " [0.77952546737, 0.84448, 0.113342215881, 0.577245508671],\n",
       " [0.787902151483, 0.84992, 0.121748254985, 0.549774871349],\n",
       " [0.770500821135, 0.83328, 0.107468201816, 0.677925384045],\n",
       " [0.778138729797, 0.84608, 0.115476698294, 0.602077730179],\n",
       " [0.776453755423, 0.84, 0.104926232696, 0.645707658768],\n",
       " [0.765362786859, 0.84624, 0.111363603786, 0.615628506899],\n",
       " [0.764175262984, 0.84368, 0.102365661427, 0.643713538885],\n",
       " [0.76584669999, 0.83616, 0.101806769177, 0.670590844154],\n",
       " [0.779805861119, 0.8376, 0.0984341036379, 0.624001871586],\n",
       " [0.7763502266, 0.84544, 0.107888543397, 0.598567703247],\n",
       " [0.788141747339, 0.8488, 0.0837879477143, 0.691777698994],\n",
       " [0.776652355146, 0.84112, 0.104262745172, 0.597880887985],\n",
       " [0.768839334085, 0.83888, 0.0973391556442, 0.631353952885]]"
      ]
     },
     "execution_count": 25,
     "metadata": {},
     "output_type": "execute_result"
    }
   ],
   "source": [
    "loss_list"
   ]
  },
  {
   "cell_type": "code",
   "execution_count": null,
   "metadata": {
    "collapsed": false
   },
   "outputs": [],
   "source": [
    "a = 12\n",
    "b = 455\n",
    "list = []\n",
    "list.append([float(a), float(b)])\n",
    "list.append([b, a])\n",
    "list\n"
   ]
  },
  {
   "cell_type": "code",
   "execution_count": 37,
   "metadata": {
    "collapsed": false
   },
   "outputs": [
    {
     "data": {
      "text/plain": [
       "[[0.435230825522, 0.65824, 1.25422697783, 0.9320171175],\n",
       " [0.442231233545, 0.65248, 0.96342991209, 0.91518930912]]"
      ]
     },
     "execution_count": 37,
     "metadata": {},
     "output_type": "execute_result"
    }
   ],
   "source": [
    "loss_list[0:2]"
   ]
  },
  {
   "cell_type": "code",
   "execution_count": 26,
   "metadata": {
    "collapsed": false
   },
   "outputs": [
    {
     "data": {
      "text/plain": [
       "array([[ 0.65824],\n",
       "       [ 0.65248],\n",
       "       [ 0.71104],\n",
       "       [ 0.75104],\n",
       "       [ 0.75488],\n",
       "       [ 0.76912],\n",
       "       [ 0.78752],\n",
       "       [ 0.78352],\n",
       "       [ 0.78496],\n",
       "       [ 0.78064],\n",
       "       [ 0.79168],\n",
       "       [ 0.79264],\n",
       "       [ 0.7928 ],\n",
       "       [ 0.80352],\n",
       "       [ 0.80368],\n",
       "       [ 0.8016 ],\n",
       "       [ 0.81024],\n",
       "       [ 0.79344],\n",
       "       [ 0.80896],\n",
       "       [ 0.8024 ],\n",
       "       [ 0.7928 ],\n",
       "       [ 0.80544],\n",
       "       [ 0.80272],\n",
       "       [ 0.81104],\n",
       "       [ 0.8072 ],\n",
       "       [ 0.81104],\n",
       "       [ 0.80736],\n",
       "       [ 0.8152 ],\n",
       "       [ 0.81088],\n",
       "       [ 0.79568],\n",
       "       [ 0.80992],\n",
       "       [ 0.82064],\n",
       "       [ 0.81008],\n",
       "       [ 0.82112],\n",
       "       [ 0.82208],\n",
       "       [ 0.8176 ],\n",
       "       [ 0.82496],\n",
       "       [ 0.81856],\n",
       "       [ 0.8288 ],\n",
       "       [ 0.82544],\n",
       "       [ 0.8288 ],\n",
       "       [ 0.82464],\n",
       "       [ 0.83088],\n",
       "       [ 0.8248 ],\n",
       "       [ 0.82256],\n",
       "       [ 0.836  ],\n",
       "       [ 0.83296],\n",
       "       [ 0.83376],\n",
       "       [ 0.84128],\n",
       "       [ 0.8112 ],\n",
       "       [ 0.8344 ],\n",
       "       [ 0.83472],\n",
       "       [ 0.82704],\n",
       "       [ 0.83184],\n",
       "       [ 0.83648],\n",
       "       [ 0.83968],\n",
       "       [ 0.8416 ],\n",
       "       [ 0.8496 ],\n",
       "       [ 0.84576],\n",
       "       [ 0.84192],\n",
       "       [ 0.84016],\n",
       "       [ 0.84528],\n",
       "       [ 0.84096],\n",
       "       [ 0.84512],\n",
       "       [ 0.84464],\n",
       "       [ 0.84768],\n",
       "       [ 0.85152],\n",
       "       [ 0.84352],\n",
       "       [ 0.84912],\n",
       "       [ 0.84784],\n",
       "       [ 0.85248],\n",
       "       [ 0.84192],\n",
       "       [ 0.85344],\n",
       "       [ 0.85552],\n",
       "       [ 0.85072],\n",
       "       [ 0.85248],\n",
       "       [ 0.84832],\n",
       "       [ 0.84304],\n",
       "       [ 0.85488],\n",
       "       [ 0.8512 ],\n",
       "       [ 0.85936],\n",
       "       [ 0.8408 ],\n",
       "       [ 0.84448],\n",
       "       [ 0.85744],\n",
       "       [ 0.85488],\n",
       "       [ 0.86016],\n",
       "       [ 0.8536 ],\n",
       "       [ 0.85232],\n",
       "       [ 0.85792],\n",
       "       [ 0.8536 ],\n",
       "       [ 0.85376],\n",
       "       [ 0.856  ],\n",
       "       [ 0.85472],\n",
       "       [ 0.85056],\n",
       "       [ 0.85568],\n",
       "       [ 0.85872],\n",
       "       [ 0.85456],\n",
       "       [ 0.85312],\n",
       "       [ 0.85488],\n",
       "       [ 0.86368],\n",
       "       [ 0.86048],\n",
       "       [ 0.86272],\n",
       "       [ 0.85568],\n",
       "       [ 0.85664],\n",
       "       [ 0.86496],\n",
       "       [ 0.85968],\n",
       "       [ 0.86144],\n",
       "       [ 0.85616],\n",
       "       [ 0.8624 ],\n",
       "       [ 0.85952],\n",
       "       [ 0.85968],\n",
       "       [ 0.86416],\n",
       "       [ 0.85744],\n",
       "       [ 0.85888],\n",
       "       [ 0.85616],\n",
       "       [ 0.85584],\n",
       "       [ 0.84992],\n",
       "       [ 0.8568 ],\n",
       "       [ 0.85472],\n",
       "       [ 0.85616],\n",
       "       [ 0.85376],\n",
       "       [ 0.85888],\n",
       "       [ 0.84048],\n",
       "       [ 0.85376],\n",
       "       [ 0.8464 ],\n",
       "       [ 0.84944],\n",
       "       [ 0.85952],\n",
       "       [ 0.85808],\n",
       "       [ 0.85312],\n",
       "       [ 0.85552],\n",
       "       [ 0.85136],\n",
       "       [ 0.84672],\n",
       "       [ 0.848  ],\n",
       "       [ 0.8448 ],\n",
       "       [ 0.85312],\n",
       "       [ 0.8496 ],\n",
       "       [ 0.84032],\n",
       "       [ 0.8576 ],\n",
       "       [ 0.85056],\n",
       "       [ 0.86272],\n",
       "       [ 0.85264],\n",
       "       [ 0.85056],\n",
       "       [ 0.83232],\n",
       "       [ 0.84864],\n",
       "       [ 0.83648],\n",
       "       [ 0.84896],\n",
       "       [ 0.84848],\n",
       "       [ 0.84368],\n",
       "       [ 0.84096],\n",
       "       [ 0.82704],\n",
       "       [ 0.8488 ],\n",
       "       [ 0.8368 ],\n",
       "       [ 0.84448],\n",
       "       [ 0.84992],\n",
       "       [ 0.83328],\n",
       "       [ 0.84608],\n",
       "       [ 0.84   ],\n",
       "       [ 0.84624],\n",
       "       [ 0.84368],\n",
       "       [ 0.83616],\n",
       "       [ 0.8376 ],\n",
       "       [ 0.84544],\n",
       "       [ 0.8488 ],\n",
       "       [ 0.84112],\n",
       "       [ 0.83888]])"
      ]
     },
     "execution_count": 26,
     "metadata": {},
     "output_type": "execute_result"
    }
   ],
   "source": [
    "lossX = np.array(loss_list)\n",
    "lossX[:,1:2]"
   ]
  },
  {
   "cell_type": "code",
   "execution_count": 34,
   "metadata": {
    "collapsed": false
   },
   "outputs": [
    {
     "data": {
      "text/plain": [
       "165"
      ]
     },
     "execution_count": 34,
     "metadata": {},
     "output_type": "execute_result"
    }
   ],
   "source": [
    "len(x)"
   ]
  },
  {
   "cell_type": "code",
   "execution_count": 52,
   "metadata": {
    "collapsed": false
   },
   "outputs": [
    {
     "data": {
      "text/plain": [
       "[0.442231233545, 0.65248, 0.96342991209, 0.91518930912]"
      ]
     },
     "execution_count": 52,
     "metadata": {},
     "output_type": "execute_result"
    }
   ],
   "source": [
    "loss_list[:][:][1]"
   ]
  },
  {
   "cell_type": "code",
   "execution_count": 39,
   "metadata": {
    "collapsed": false
   },
   "outputs": [
    {
     "data": {
      "text/plain": [
       "165"
      ]
     },
     "execution_count": 39,
     "metadata": {},
     "output_type": "execute_result"
    }
   ],
   "source": [
    "len(loss_list)"
   ]
  },
  {
   "cell_type": "code",
   "execution_count": 62,
   "metadata": {
    "collapsed": false
   },
   "outputs": [
    {
     "data": {
      "image/png": "[encoded data removed]",
      "text/plain": [
       "<matplotlib.figure.Figure at 0x1116c8ad0>"
      ]
     },
     "metadata": {},
     "output_type": "display_data"
    }
   ],
   "source": [
    "\n",
    "\n",
    "fig = plt.figure()\n",
    "fig.set_size_inches(18.5, 10.5)\n",
    "\n",
    "ax100 = fig.add_subplot(1,2,1)\n",
    "ax100.set_title('Loss Function')\n",
    "ax100.set_xlabel('# Epochs')\n",
    "ax100.set_ylabel('value')\n",
    "\n",
    "loss = np.array(loss_list)\n",
    "ax100.plot(fscore, label='fscore');\n",
    "ax100.plot(val_accuracy, label='val_acc');\n",
    "ax100.plot(train_loss, label='train_loss');\n",
    "ax100.plot(val_loss, label='val_loss');\n",
    "legend = ax100.legend(loc='upper left', shadow=False)\n",
    "\n",
    "ax101 = fig.add_subplot(1,2,2)\n",
    "loss1 = np.array(loss_list)\n",
    "loss1 = lossX[:,1:2]\n",
    "ax101.plot(loss1);\n",
    "\n"
   ]
  },
  {
   "cell_type": "code",
   "execution_count": 63,
   "metadata": {
    "collapsed": true
   },
   "outputs": [],
   "source": [
    "data1 = np.random.rand(6,4)"
   ]
  },
  {
   "cell_type": "code",
   "execution_count": 66,
   "metadata": {
    "collapsed": false
   },
   "outputs": [
    {
     "data": {
      "text/plain": [
       "array([[ 0.57287336,  0.94373142,  0.86995787,  0.64055773],\n",
       "       [ 0.39532474,  0.05368552,  0.8713482 ,  0.83601368],\n",
       "       [ 0.44061968,  0.62062201,  0.01409984,  0.30500964],\n",
       "       [ 0.98757763,  0.66301879,  0.2698988 ,  0.16534677],\n",
       "       [ 0.81604352,  0.98481052,  0.19314467,  0.08897098],\n",
       "       [ 0.51703859,  0.17813257,  0.26678229,  0.68464898]])"
      ]
     },
     "execution_count": 66,
     "metadata": {},
     "output_type": "execute_result"
    }
   ],
   "source": [
    "data1"
   ]
  },
  {
   "cell_type": "code",
   "execution_count": 67,
   "metadata": {
    "collapsed": false
   },
   "outputs": [
    {
     "data": {
      "text/plain": [
       "array([ 0.39532474,  0.05368552,  0.8713482 ,  0.83601368])"
      ]
     },
     "execution_count": 67,
     "metadata": {},
     "output_type": "execute_result"
    }
   ],
   "source": [
    "data1[1]"
   ]
  },
  {
   "cell_type": "code",
   "execution_count": 68,
   "metadata": {
    "collapsed": true
   },
   "outputs": [],
   "source": [
    "data11 = np.array(data1)"
   ]
  },
  {
   "cell_type": "code",
   "execution_count": 69,
   "metadata": {
    "collapsed": false
   },
   "outputs": [
    {
     "data": {
      "text/plain": [
       "array([[ 0.57287336,  0.94373142,  0.86995787,  0.64055773],\n",
       "       [ 0.39532474,  0.05368552,  0.8713482 ,  0.83601368],\n",
       "       [ 0.44061968,  0.62062201,  0.01409984,  0.30500964],\n",
       "       [ 0.98757763,  0.66301879,  0.2698988 ,  0.16534677],\n",
       "       [ 0.81604352,  0.98481052,  0.19314467,  0.08897098],\n",
       "       [ 0.51703859,  0.17813257,  0.26678229,  0.68464898]])"
      ]
     },
     "execution_count": 69,
     "metadata": {},
     "output_type": "execute_result"
    }
   ],
   "source": [
    "data11"
   ]
  },
  {
   "cell_type": "code",
   "execution_count": 70,
   "metadata": {
    "collapsed": false
   },
   "outputs": [
    {
     "data": {
      "text/plain": [
       "array([ 0.57287336,  0.94373142,  0.86995787,  0.64055773])"
      ]
     },
     "execution_count": 70,
     "metadata": {},
     "output_type": "execute_result"
    }
   ],
   "source": [
    "data11[:][0]"
   ]
  },
  {
   "cell_type": "code",
   "execution_count": 71,
   "metadata": {
    "collapsed": true
   },
   "outputs": [],
   "source": [
    "import pandas as pd"
   ]
  },
  {
   "cell_type": "code",
   "execution_count": 72,
   "metadata": {
    "collapsed": true
   },
   "outputs": [],
   "source": [
    "df = pd.read_csv(\"trial.csv\")"
   ]
  },
  {
   "cell_type": "code",
   "execution_count": 74,
   "metadata": {
    "collapsed": false
   },
   "outputs": [
    {
     "data": {
      "text/html": [
       "<div>\n",
       "<table border=\"1\" class=\"dataframe\">\n",
       "  <thead>\n",
       "    <tr style=\"text-align: right;\">\n",
       "      <th></th>\n",
       "      <th>Epoch</th>\n",
       "      <th>Val_fscore</th>\n",
       "      <th>Val_acc</th>\n",
       "      <th>Train_loss</th>\n",
       "      <th>Val_loss</th>\n",
       "    </tr>\n",
       "  </thead>\n",
       "  <tbody>\n",
       "    <tr>\n",
       "      <th>0</th>\n",
       "      <td>0</td>\n",
       "      <td>0.435231</td>\n",
       "      <td>0.65824</td>\n",
       "      <td>1.254227</td>\n",
       "      <td>0.932017</td>\n",
       "    </tr>\n",
       "    <tr>\n",
       "      <th>1</th>\n",
       "      <td>1</td>\n",
       "      <td>0.442231</td>\n",
       "      <td>0.65248</td>\n",
       "      <td>0.963430</td>\n",
       "      <td>0.915189</td>\n",
       "    </tr>\n",
       "    <tr>\n",
       "      <th>2</th>\n",
       "      <td>2</td>\n",
       "      <td>0.474703</td>\n",
       "      <td>0.71104</td>\n",
       "      <td>0.847199</td>\n",
       "      <td>0.773968</td>\n",
       "    </tr>\n",
       "    <tr>\n",
       "      <th>3</th>\n",
       "      <td>3</td>\n",
       "      <td>0.500035</td>\n",
       "      <td>0.75104</td>\n",
       "      <td>0.764253</td>\n",
       "      <td>0.679767</td>\n",
       "    </tr>\n",
       "    <tr>\n",
       "      <th>4</th>\n",
       "      <td>4</td>\n",
       "      <td>0.507909</td>\n",
       "      <td>0.75488</td>\n",
       "      <td>0.701667</td>\n",
       "      <td>0.674439</td>\n",
       "    </tr>\n",
       "  </tbody>\n",
       "</table>\n",
       "</div>"
      ],
      "text/plain": [
       "   Epoch   Val_fscore   Val_acc   Train_loss   Val_loss\n",
       "0      0     0.435231   0.65824     1.254227   0.932017\n",
       "1      1     0.442231   0.65248     0.963430   0.915189\n",
       "2      2     0.474703   0.71104     0.847199   0.773968\n",
       "3      3     0.500035   0.75104     0.764253   0.679767\n",
       "4      4     0.507909   0.75488     0.701667   0.674439"
      ]
     },
     "execution_count": 74,
     "metadata": {},
     "output_type": "execute_result"
    }
   ],
   "source": [
    "df[0:5]"
   ]
  },
  {
   "cell_type": "code",
   "execution_count": 81,
   "metadata": {
    "collapsed": false
   },
   "outputs": [
    {
     "data": {
      "text/plain": [
       "Index([u'Epoch', u' Val_fscore', u' Val_acc', u' Train_loss', u' Val_loss'], dtype='object')"
      ]
     },
     "execution_count": 81,
     "metadata": {},
     "output_type": "execute_result"
    }
   ],
   "source": [
    "df.columns"
   ]
  },
  {
   "cell_type": "code",
   "execution_count": 85,
   "metadata": {
    "collapsed": false
   },
   "outputs": [
    {
     "data": {
      "text/plain": [
       "[0.43523082552199999,\n",
       " 0.44223123354500005,\n",
       " 0.47470285606000007,\n",
       " 0.50003517975900003,\n",
       " 0.50790920849200005,\n",
       " 0.51564202020100003,\n",
       " 0.54597627392800008,\n",
       " 0.63963401488299998,\n",
       " 0.58501028726299997,\n",
       " 0.63161746250799999,\n",
       " 0.582283228466,\n",
       " 0.64497870353200004,\n",
       " 0.64905148366599996,\n",
       " 0.647530763136,\n",
       " 0.64753331524899993,\n",
       " 0.65273659743000001,\n",
       " 0.66326771234699999,\n",
       " 0.63826610317499999,\n",
       " 0.65530601098899999,\n",
       " 0.66004709459200006,\n",
       " 0.65833224062200002,\n",
       " 0.67274002078200001,\n",
       " 0.65620650072099995,\n",
       " 0.67549809563000007,\n",
       " 0.68189550511499997,\n",
       " 0.67300634552300009,\n",
       " 0.69021104674,\n",
       " 0.67713993793599991,\n",
       " 0.69144866038800001,\n",
       " 0.68330599213999998,\n",
       " 0.69585306679100012,\n",
       " 0.69483030623500008,\n",
       " 0.59175385289399995,\n",
       " 0.70247574944199997,\n",
       " 0.69768484892000004,\n",
       " 0.71430789814700002,\n",
       " 0.70843614506200003,\n",
       " 0.67353166966900002,\n",
       " 0.71490072407600003,\n",
       " 0.70325573612699999,\n",
       " 0.67639852667600009,\n",
       " 0.71084829849300002,\n",
       " 0.73728723108500005,\n",
       " 0.71375804204500004,\n",
       " 0.70364373440100003,\n",
       " 0.72706991200200011,\n",
       " 0.71697295023999985,\n",
       " 0.73501807117999995,\n",
       " 0.73372323126700001,\n",
       " 0.69896603351099995,\n",
       " 0.741799966832,\n",
       " 0.73197274201499996,\n",
       " 0.73047021719999994,\n",
       " 0.69891760344699994,\n",
       " 0.72765177546499993,\n",
       " 0.729580377723,\n",
       " 0.73502055527799992,\n",
       " 0.750175555291,\n",
       " 0.74944582063199994,\n",
       " 0.75249839797900009,\n",
       " 0.75160699089900007,\n",
       " 0.73700928667300003,\n",
       " 0.74062882814799991,\n",
       " 0.7422001292810001,\n",
       " 0.73306134001599998,\n",
       " 0.757435669965,\n",
       " 0.76110908948599998,\n",
       " 0.74047080174299995,\n",
       " 0.74785097664100009,\n",
       " 0.76069337822899996,\n",
       " 0.77069746408800011,\n",
       " 0.757844326846,\n",
       " 0.774459583304,\n",
       " 0.77391089943399993,\n",
       " 0.76935805221300002,\n",
       " 0.74630388398600001,\n",
       " 0.73823049549899999,\n",
       " 0.7490241879520001,\n",
       " 0.77140856183999995,\n",
       " 0.76202183622999997,\n",
       " 0.77260992690999997,\n",
       " 0.73633881321099992,\n",
       " 0.76720227652500006,\n",
       " 0.785981081661,\n",
       " 0.78431675349099994,\n",
       " 0.77179792553499993,\n",
       " 0.76670544624199999,\n",
       " 0.77032369849099991,\n",
       " 0.77903928199200001,\n",
       " 0.77269644648499991,\n",
       " 0.77865728089499997,\n",
       " 0.77067980682799997,\n",
       " 0.7757940552949999,\n",
       " 0.75927414011000005,\n",
       " 0.78027177977999995,\n",
       " 0.76896883884200007,\n",
       " 0.78211563993399991,\n",
       " 0.78754054185800004,\n",
       " 0.76854376034299998,\n",
       " 0.79634119242400003,\n",
       " 0.79367405386599998,\n",
       " 0.78855436347899999,\n",
       " 0.78079033701900002,\n",
       " 0.77735327573500013,\n",
       " 0.790575380775,\n",
       " 0.79324319735499993,\n",
       " 0.790499389941,\n",
       " 0.77794960125200008,\n",
       " 0.7971711487119999,\n",
       " 0.77960091327699998,\n",
       " 0.79607039331400009,\n",
       " 0.79954282173199998,\n",
       " 0.78766124676300009,\n",
       " 0.78263346403099998,\n",
       " 0.78542964922699998,\n",
       " 0.78918010392100002,\n",
       " 0.77241016175900001,\n",
       " 0.77541296227400003,\n",
       " 0.77209246936299991,\n",
       " 0.78715354837899998,\n",
       " 0.76990252793400005,\n",
       " 0.77479302748899992,\n",
       " 0.76342042521500009,\n",
       " 0.77791407738700002,\n",
       " 0.77881454205500011,\n",
       " 0.75093419567800002,\n",
       " 0.79016075507899997,\n",
       " 0.79265904302900003,\n",
       " 0.77726576609099995,\n",
       " 0.78082961957000008,\n",
       " 0.77861259728099996,\n",
       " 0.76690968443800001,\n",
       " 0.78477287454099998,\n",
       " 0.78112442213,\n",
       " 0.77552998131500006,\n",
       " 0.75281545841499997,\n",
       " 0.73174341139799992,\n",
       " 0.79492116412000002,\n",
       " 0.77475549144700007,\n",
       " 0.79652673015300002,\n",
       " 0.78626449694800005,\n",
       " 0.77442100575200001,\n",
       " 0.767885726569,\n",
       " 0.782237136065,\n",
       " 0.77445917348600002,\n",
       " 0.78280281750799996,\n",
       " 0.78005599013799998,\n",
       " 0.7849099104970001,\n",
       " 0.75573980528200002,\n",
       " 0.75648713860400008,\n",
       " 0.77755804550699992,\n",
       " 0.77013135300600011,\n",
       " 0.77952546737000006,\n",
       " 0.78790215148300002,\n",
       " 0.77050082113499996,\n",
       " 0.77813872979699994,\n",
       " 0.77645375542299999,\n",
       " 0.76536278685900005,\n",
       " 0.76417526298399996,\n",
       " 0.76584669998999999,\n",
       " 0.77980586111899997,\n",
       " 0.77635022659999997,\n",
       " 0.788141747339,\n",
       " 0.77665235514599995,\n",
       " 0.76883933408500005]"
      ]
     },
     "execution_count": 85,
     "metadata": {},
     "output_type": "execute_result"
    }
   ],
   "source": [
    "myList = df[' Val_fscore'].tolist()\n",
    "myList"
   ]
  },
  {
   "cell_type": "code",
   "execution_count": 86,
   "metadata": {
    "collapsed": false
   },
   "outputs": [
    {
     "data": {
      "image/png": "[encoded data removed]",
      "text/plain": [
       "<matplotlib.figure.Figure at 0x10f48d810>"
      ]
     },
     "metadata": {},
     "output_type": "display_data"
    }
   ],
   "source": [
    "plt.scatter(df['Epoch'], df[' Val_fscore'])\n",
    "plt.show()"
   ]
  },
  {
   "cell_type": "code",
   "execution_count": 92,
   "metadata": {
    "collapsed": false
   },
   "outputs": [
    {
     "data": {
      "text/plain": [
       "<matplotlib.axes._subplots.AxesSubplot at 0x113193a10>"
      ]
     },
     "execution_count": 92,
     "metadata": {},
     "output_type": "execute_result"
    },
    {
     "data": {
      "image/png": "[encoded data removed]",
      "text/plain": [
       "<matplotlib.figure.Figure at 0x112682f10>"
      ]
     },
     "metadata": {},
     "output_type": "display_data"
    }
   ],
   "source": [
    "df[' Val_fscore'].plot(style=['o','rx'])\n"
   ]
  },
  {
   "cell_type": "code",
   "execution_count": 93,
   "metadata": {
    "collapsed": false
   },
   "outputs": [
    {
     "data": {
      "text/plain": [
       "<matplotlib.axes._subplots.AxesSubplot at 0x11365e090>"
      ]
     },
     "execution_count": 93,
     "metadata": {},
     "output_type": "execute_result"
    },
    {
     "data": {
      "image/png": "[encoded data removed]",
      "text/plain": [
       "<matplotlib.figure.Figure at 0x113577c50>"
      ]
     },
     "metadata": {},
     "output_type": "display_data"
    }
   ],
   "source": [
    "df.plot(x=' Val_fscore', y='Epoch', style='o')"
   ]
  },
  {
   "cell_type": "code",
   "execution_count": null,
   "metadata": {
    "collapsed": true
   },
   "outputs": [],
   "source": []
  }
 ],
 "metadata": {
  "kernelspec": {
   "display_name": "Python 2",
   "language": "python",
   "name": "python2"
  },
  "language_info": {
   "codemirror_mode": {
    "name": "ipython",
    "version": 2
   },
   "file_extension": ".py",
   "mimetype": "text/x-python",
   "name": "python",
   "nbconvert_exporter": "python",
   "pygments_lexer": "ipython2",
   "version": "2.7.11"
  }
 },
 "nbformat": 4,
 "nbformat_minor": 0
}
