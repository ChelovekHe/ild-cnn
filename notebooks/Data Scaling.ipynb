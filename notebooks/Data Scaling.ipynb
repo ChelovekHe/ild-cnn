{
 "cells": [
  {
   "cell_type": "markdown",
   "metadata": {},
   "source": [
    "# Standardization, or mean removal and variance scaling"
   ]
  },
  {
   "cell_type": "code",
   "execution_count": 1,
   "metadata": {
    "collapsed": true
   },
   "outputs": [],
   "source": [
    "from sklearn import preprocessing\n",
    "import numpy as np"
   ]
  },
  {
   "cell_type": "code",
   "execution_count": 2,
   "metadata": {
    "collapsed": true
   },
   "outputs": [],
   "source": [
    "X = np.array([[ 1., -1.,  2.],[ 2.,  0.,  0.],[ 0.,  1., -1.]])"
   ]
  },
  {
   "cell_type": "code",
   "execution_count": 3,
   "metadata": {
    "collapsed": true
   },
   "outputs": [],
   "source": [
    "X_scaled = preprocessing.scale(X)"
   ]
  },
  {
   "cell_type": "code",
   "execution_count": 4,
   "metadata": {
    "collapsed": false
   },
   "outputs": [
    {
     "data": {
      "text/plain": [
       "array([[ 0.        , -1.22474487,  1.33630621],\n",
       "       [ 1.22474487,  0.        , -0.26726124],\n",
       "       [-1.22474487,  1.22474487, -1.06904497]])"
      ]
     },
     "execution_count": 4,
     "metadata": {},
     "output_type": "execute_result"
    }
   ],
   "source": [
    "X_scaled"
   ]
  },
  {
   "cell_type": "markdown",
   "metadata": {},
   "source": [
    "Scaled data has zero mean and unit variance:"
   ]
  },
  {
   "cell_type": "code",
   "execution_count": 5,
   "metadata": {
    "collapsed": false
   },
   "outputs": [
    {
     "data": {
      "text/plain": [
       "array([ 0.,  0.,  0.])"
      ]
     },
     "execution_count": 5,
     "metadata": {},
     "output_type": "execute_result"
    }
   ],
   "source": [
    "X_scaled.mean(axis=0)"
   ]
  },
  {
   "cell_type": "code",
   "execution_count": 6,
   "metadata": {
    "collapsed": false
   },
   "outputs": [
    {
     "data": {
      "text/plain": [
       "array([ 1.,  1.,  1.])"
      ]
     },
     "execution_count": 6,
     "metadata": {},
     "output_type": "execute_result"
    }
   ],
   "source": [
    "X_scaled.std(axis=0)"
   ]
  },
  {
   "cell_type": "markdown",
   "metadata": {},
   "source": [
    "alternate method"
   ]
  },
  {
   "cell_type": "code",
   "execution_count": 7,
   "metadata": {
    "collapsed": true
   },
   "outputs": [],
   "source": [
    "min_max_scaler = preprocessing.MinMaxScaler()"
   ]
  },
  {
   "cell_type": "code",
   "execution_count": 8,
   "metadata": {
    "collapsed": true
   },
   "outputs": [],
   "source": [
    "X_train_minmax = min_max_scaler.fit_transform(X)"
   ]
  },
  {
   "cell_type": "code",
   "execution_count": 9,
   "metadata": {
    "collapsed": false
   },
   "outputs": [
    {
     "data": {
      "text/plain": [
       "array([[ 0.5       ,  0.        ,  1.        ],\n",
       "       [ 1.        ,  0.5       ,  0.33333333],\n",
       "       [ 0.        ,  1.        ,  0.        ]])"
      ]
     },
     "execution_count": 9,
     "metadata": {},
     "output_type": "execute_result"
    }
   ],
   "source": [
    "X_train_minmax"
   ]
  },
  {
   "cell_type": "code",
   "execution_count": 10,
   "metadata": {
    "collapsed": false
   },
   "outputs": [
    {
     "data": {
      "text/plain": [
       "array([[ 127.5,    0. ,  255. ],\n",
       "       [ 255. ,  127.5,   85. ],\n",
       "       [   0. ,  255. ,    0. ]])"
      ]
     },
     "execution_count": 10,
     "metadata": {},
     "output_type": "execute_result"
    }
   ],
   "source": [
    "X_scaled = X_train_minmax * 255\n",
    "X_scaled"
   ]
  },
  {
   "cell_type": "code",
   "execution_count": 11,
   "metadata": {
    "collapsed": true
   },
   "outputs": [],
   "source": [
    "import os\n",
    "from scipy import misc"
   ]
  },
  {
   "cell_type": "code",
   "execution_count": 12,
   "metadata": {
    "collapsed": false
   },
   "outputs": [
    {
     "name": "stderr",
     "output_type": "stream",
     "text": [
      "/Users/peterhirt/anaconda/envs/theano/lib/python2.7/site-packages/matplotlib/font_manager.py:273: UserWarning: Matplotlib is building the font cache using fc-list. This may take a moment.\n",
      "  warnings.warn('Matplotlib is building the font cache using fc-list. This may take a moment.')\n"
     ]
    },
    {
     "name": "stdout",
     "output_type": "stream",
     "text": [
      "Populating the interactive namespace from numpy and matplotlib\n"
     ]
    }
   ],
   "source": [
    "%pylab inline --no-import-all\n",
    "from PIL import Image "
   ]
  },
  {
   "cell_type": "code",
   "execution_count": 13,
   "metadata": {
    "collapsed": false
   },
   "outputs": [
    {
     "name": "stdout",
     "output_type": "stream",
     "text": [
      "/Users/peterhirt/datascience/ild-cnn/notebooks\n",
      "/Users/peterhirt/datascience/ild-cnn\n"
     ]
    }
   ],
   "source": [
    "# define the current work directory\n",
    "cwd=os.getcwd()\n",
    "print cwd\n",
    "\n",
    "one_folder_up = os.path.dirname(os.getcwd())\n",
    "print one_folder_up"
   ]
  },
  {
   "cell_type": "code",
   "execution_count": 32,
   "metadata": {
    "collapsed": false
   },
   "outputs": [
    {
     "name": "stdout",
     "output_type": "stream",
     "text": [
      "/Users/peterhirt/datascience/ild-cnn\n",
      "taken out  notebooks\n",
      "['consolidation', 'fibrosis', 'ground_glass', 'healthy', 'micronodules', 'reticulation']\n"
     ]
    }
   ],
   "source": [
    "(cwdtop,tail) = os.path.split(cwd)\n",
    "\n",
    "print cwdtop\n",
    "print 'taken out ', tail\n",
    "\n",
    "patch_dir = os.path.join(cwdtop,'patches_may28')\n",
    "category_list = os.walk(patch_dir).next()[1]\n",
    "print category_list"
   ]
  },
  {
   "cell_type": "code",
   "execution_count": 33,
   "metadata": {
    "collapsed": false
   },
   "outputs": [
    {
     "name": "stdout",
     "output_type": "stream",
     "text": [
      "consolidation\n",
      "['apical', 'diffuse', 'non-relevant', 'peripheral_sub_pleural']\n",
      "apical 6\n",
      "diffuse 23\n",
      "non-relevant 14\n",
      "peripheral_sub_pleural 15\n",
      "the count of the entire category is :  58\n",
      "\n",
      "fibrosis\n",
      "['apical', 'basal', 'diffuse', 'non-relevant', 'perihilar', 'peripheral_sub_pleural']\n",
      "apical 4\n",
      "basal 367\n",
      "diffuse 365\n",
      "non-relevant 359\n",
      "perihilar 38\n",
      "peripheral_sub_pleural 11\n",
      "the count of the entire category is :  1144\n",
      "\n",
      "ground_glass\n",
      "['apical', 'basal', 'diffuse', 'non-relevant', 'peripheral_sub_pleural']\n",
      "apical 12\n",
      "basal 186\n",
      "diffuse 140\n",
      "non-relevant 486\n",
      "peripheral_sub_pleural 38\n",
      "the count of the entire category is :  862\n",
      "\n",
      "healthy\n",
      "['apical', 'non-relevant']\n",
      "apical 59\n",
      "non-relevant 1571\n",
      "the count of the entire category is :  1630\n",
      "\n",
      "micronodules\n",
      "['diffuse', 'non-relevant', 'peripheral_sub_pleural']\n",
      "diffuse 1036\n",
      "non-relevant 1160\n",
      "peripheral_sub_pleural 131\n",
      "the count of the entire category is :  2327\n",
      "\n",
      "reticulation\n",
      "['apical', 'basal', 'non-relevant', 'peripheral_sub_pleural']\n",
      "apical 39\n",
      "basal 109\n",
      "non-relevant 165\n",
      "peripheral_sub_pleural 59\n",
      "the count of the entire category is :  372\n",
      "\n"
     ]
    }
   ],
   "source": [
    "ind = 0\n",
    "\n",
    "for category in category_list:\n",
    "    category_dir = os.path.join(patch_dir, category)\n",
    "    print category\n",
    "    \n",
    "    sub_category_list = (os.listdir(category_dir))\n",
    "    print sub_category_list\n",
    "    \n",
    "    category_count = 0\n",
    "    \n",
    "    for sub_category in sub_category_list:\n",
    "        \n",
    "        sub_category_dir = os.path.join(category_dir, sub_category)\n",
    "        attribute_list = (os.listdir(sub_category_dir))\n",
    "         \n",
    "        print sub_category , len(attribute_list)\n",
    "        \n",
    "        category_count = category_count + len(attribute_list)\n",
    "        \n",
    "        ind += 1\n",
    "    \n",
    "    print 'the count of the entire category is : ', category_count\n",
    "    print ''"
   ]
  },
  {
   "cell_type": "code",
   "execution_count": 34,
   "metadata": {
    "collapsed": false
   },
   "outputs": [
    {
     "name": "stdout",
     "output_type": "stream",
     "text": [
      "fibrosis\n",
      "basal\n"
     ]
    }
   ],
   "source": [
    "# choose the dataset to look at\n",
    "\n",
    "category_chosen = category_list[1]\n",
    "print category_chosen\n",
    "\n",
    "category_dir = os.path.join(patch_dir, category_chosen)\n",
    "\n",
    "sub_category_list = (os.listdir(category_dir))\n",
    "\n",
    "sub_category_chosen = sub_category_list[1]\n",
    "print sub_category_chosen"
   ]
  },
  {
   "cell_type": "code",
   "execution_count": 35,
   "metadata": {
    "collapsed": false
   },
   "outputs": [
    {
     "name": "stdout",
     "output_type": "stream",
     "text": [
      "found 367 patches\n"
     ]
    }
   ],
   "source": [
    "images = []\n",
    "filenames = []\n",
    "\n",
    "category = category_chosen\n",
    "    \n",
    "category_dir = os.path.join(patch_dir, category)\n",
    "# print  'the path into the categories is: ', category_dir\n",
    "    \n",
    "sub_categories_dir_list = (os.listdir(category_dir))\n",
    "    \n",
    "subCategory = sub_category_chosen\n",
    "            \n",
    "subCategory_dir = os.path.join(category_dir, subCategory) \n",
    "        \n",
    "subCat = (os.listdir(subCategory_dir))\n",
    "        \n",
    "num_patches = 0       \n",
    "for file in subCat:\n",
    "                \n",
    "    if file.find('.bmp') > 0:\n",
    "                \n",
    "        # load the .bmp file into array       \n",
    "        image = misc.imread(os.path.join(subCategory_dir,file), flatten= 0)\n",
    "        # append the array to the dataset list\n",
    "                \n",
    "        images.append(image)\n",
    "        filenames.append(file)\n",
    "        \n",
    "        num_patches+=1\n",
    "print 'found', num_patches, 'patches' "
   ]
  },
  {
   "cell_type": "code",
   "execution_count": 36,
   "metadata": {
    "collapsed": false
   },
   "outputs": [
    {
     "data": {
      "text/plain": [
       "162.0"
      ]
     },
     "execution_count": 36,
     "metadata": {},
     "output_type": "execute_result"
    }
   ],
   "source": [
    "images[0][1].mean()"
   ]
  },
  {
   "cell_type": "code",
   "execution_count": 26,
   "metadata": {
    "collapsed": false
   },
   "outputs": [
    {
     "data": {
      "text/plain": [
       "40.174120537200317"
      ]
     },
     "execution_count": 26,
     "metadata": {},
     "output_type": "execute_result"
    }
   ],
   "source": [
    "images[0][1].std()"
   ]
  },
  {
   "cell_type": "code",
   "execution_count": 28,
   "metadata": {
    "collapsed": false
   },
   "outputs": [],
   "source": [
    "npimages = np.array(images)"
   ]
  },
  {
   "cell_type": "code",
   "execution_count": 29,
   "metadata": {
    "collapsed": false
   },
   "outputs": [
    {
     "data": {
      "text/plain": [
       "(367, 32, 32)"
      ]
     },
     "execution_count": 29,
     "metadata": {},
     "output_type": "execute_result"
    }
   ],
   "source": [
    "npimages.shape"
   ]
  },
  {
   "cell_type": "code",
   "execution_count": 30,
   "metadata": {
    "collapsed": false
   },
   "outputs": [
    {
     "data": {
      "text/plain": [
       "255"
      ]
     },
     "execution_count": 30,
     "metadata": {},
     "output_type": "execute_result"
    }
   ],
   "source": [
    "npimages.max()"
   ]
  },
  {
   "cell_type": "code",
   "execution_count": 31,
   "metadata": {
    "collapsed": false
   },
   "outputs": [
    {
     "data": {
      "text/plain": [
       "0"
      ]
     },
     "execution_count": 31,
     "metadata": {},
     "output_type": "execute_result"
    }
   ],
   "source": [
    "npimages.min()"
   ]
  },
  {
   "cell_type": "code",
   "execution_count": null,
   "metadata": {
    "collapsed": true
   },
   "outputs": [],
   "source": []
  }
 ],
 "metadata": {
  "kernelspec": {
   "display_name": "Python 2",
   "language": "python",
   "name": "python2"
  },
  "language_info": {
   "codemirror_mode": {
    "name": "ipython",
    "version": 2
   },
   "file_extension": ".py",
   "mimetype": "text/x-python",
   "name": "python",
   "nbconvert_exporter": "python",
   "pygments_lexer": "ipython2",
   "version": "2.7.11"
  }
 },
 "nbformat": 4,
 "nbformat_minor": 0
}
