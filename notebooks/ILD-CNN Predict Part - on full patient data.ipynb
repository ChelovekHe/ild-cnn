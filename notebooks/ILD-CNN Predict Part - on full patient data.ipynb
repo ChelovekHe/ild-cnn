{
 "cells": [
  {
   "cell_type": "markdown",
   "metadata": {},
   "source": [
    "# ILD CNN prediction part\n",
    "## this is run on the full patient data\n",
    "    the model is rebuilt\n",
    "    the weights are loaded from ILD_CNN_model_weights"
   ]
  },
  {
   "cell_type": "code",
   "execution_count": 12,
   "metadata": {
    "collapsed": false
   },
   "outputs": [],
   "source": [
    "import argparse\n",
    "import numpy as np\n",
    "import sklearn.metrics as metrics\n",
    "import cPickle as pickle\n",
    "import json\n",
    "from keras.models import model_from_json\n",
    "import sys\n",
    "import cv2\n",
    "\n",
    "from keras.models import Sequential\n",
    "from keras.utils import np_utils \n",
    "from keras.layers.core import Dense, Dropout, Flatten, Activation\n",
    "from keras.layers.convolutional import Convolution2D, MaxPooling2D,AveragePooling2D\n",
    "from keras.layers.advanced_activations import LeakyReLU"
   ]
  },
  {
   "cell_type": "code",
   "execution_count": 13,
   "metadata": {
    "collapsed": true
   },
   "outputs": [],
   "source": [
    "import ild_helpers as H\n",
    "import cnn_model4 as CNN4"
   ]
  },
  {
   "cell_type": "code",
   "execution_count": 14,
   "metadata": {
    "collapsed": true
   },
   "outputs": [],
   "source": [
    "args         = H.parse_args()                          \n",
    "train_params = {\n",
    "     'do' : float(args.do) if args.do else 0.5,        \n",
    "     'a'  : float(args.a) if args.a else 0.3,          # Conv Layers LeakyReLU alpha param [if alpha set to 0 LeakyReLU is equivalent with ReLU]\n",
    "     'k'  : int(args.k) if args.k else 4,              # Feature maps k multiplier\n",
    "     's'  : float(args.s) if args.s else 1,            # Input Image rescale factor\n",
    "     'pf' : float(args.pf) if args.pf else 1,          # Percentage of the pooling layer: [0,1]\n",
    "     'pt' : args.pt if args.pt else 'Avg',             # Pooling type: Avg, Max\n",
    "     'fp' : args.fp if args.fp else 'proportional',    # Feature maps policy: proportional, static\n",
    "     'cl' : int(args.cl) if args.cl else 5,            # Number of Convolutional Layers\n",
    "     'opt': args.opt if args.opt else 'Adam',          # Optimizer: SGD, Adagrad, Adam\n",
    "     'obj': args.obj if args.obj else 'ce',            # Minimization Objective: mse, ce\n",
    "     'patience' : args.pat if args.pat else 5,         # Patience parameter for early stoping\n",
    "     'tolerance': args.tol if args.tol else 1.005,     # Tolerance parameter for early stoping [default: 1.005, checks if > 0.5%]\n",
    "     'res_alias': args.csv if args.csv else 'res'      # csv results filename alias\n",
    "}"
   ]
  },
  {
   "cell_type": "code",
   "execution_count": 15,
   "metadata": {
    "collapsed": false
   },
   "outputs": [],
   "source": [
    "model = H.load_model()"
   ]
  },
  {
   "cell_type": "code",
   "execution_count": 16,
   "metadata": {
    "collapsed": false
   },
   "outputs": [],
   "source": [
    "model.compile(optimizer='Adam', loss=CNN4.get_Obj(train_params['obj']))"
   ]
  },
  {
   "cell_type": "code",
   "execution_count": 23,
   "metadata": {
    "collapsed": false
   },
   "outputs": [],
   "source": [
    "X_predict = pickle.load( open( \"X_predict_107.pkl\", \"rb\" ) )"
   ]
  },
  {
   "cell_type": "code",
   "execution_count": 24,
   "metadata": {
    "collapsed": true
   },
   "outputs": [],
   "source": [
    "# adding a singleton dimension and rescale to [0,1]\n",
    "X_predict = np.asarray(np.expand_dims(X_predict,1))/float(255)"
   ]
  },
  {
   "cell_type": "code",
   "execution_count": 25,
   "metadata": {
    "collapsed": false
   },
   "outputs": [
    {
     "name": "stdout",
     "output_type": "stream",
     "text": [
      "463/463 [==============================] - 5s     \n",
      "463/463 [==============================] - 6s     \n"
     ]
    }
   ],
   "source": [
    "# predict and check classification and probabilities are the same\n",
    "\n",
    "classes = model.predict_classes(X_predict, batch_size=10)\n",
    "proba = model.predict_proba(X_predict, batch_size=10)"
   ]
  },
  {
   "cell_type": "code",
   "execution_count": 26,
   "metadata": {
    "collapsed": false
   },
   "outputs": [
    {
     "data": {
      "text/plain": [
       "array([1, 4, 4, 4, 1, 1, 4, 4, 1, 4, 4, 1, 4, 4, 4, 2, 4, 4, 4, 4, 4, 4, 4,\n",
       "       4, 4, 4, 5, 1, 4, 2, 4, 4, 4, 4, 4, 4, 4, 4, 4, 4, 4, 4, 4, 1, 4, 4,\n",
       "       2, 5, 4, 4, 4, 4, 4, 4, 4, 4, 4, 4, 4, 4, 4, 4, 4, 5, 4, 4, 4, 5, 4,\n",
       "       5, 5, 4, 4, 4, 4, 5, 4, 4, 4, 4, 2, 4, 4, 4, 4, 4, 4, 2, 4, 4, 5, 5,\n",
       "       5, 5, 4, 4, 2, 5, 5, 4, 1, 5, 5, 5, 5, 3, 4, 4, 5, 5, 2, 4, 4, 5, 5,\n",
       "       5, 5, 5, 5, 4, 2, 5, 5, 5, 4, 5, 5, 4, 5, 5, 5, 3, 5, 1, 3, 4, 4, 5,\n",
       "       5, 2, 4, 4, 2, 5, 1, 5, 5, 5, 5, 5, 4, 5, 2, 5, 2, 5, 4, 5, 1, 1, 4,\n",
       "       5, 1, 4, 3, 4, 3, 4, 5, 5, 1, 5, 4, 4, 4, 1, 5, 5, 5, 5, 5, 5, 5, 4,\n",
       "       5, 5, 5, 5, 5, 1, 5, 5, 1, 5, 1, 3, 4, 3, 4, 1, 5, 5, 4, 2, 2, 1, 5,\n",
       "       4, 5, 5, 5, 2, 5, 5, 1, 1, 5, 2, 5, 5, 5, 5, 1, 5, 2, 4, 4, 4, 4, 4,\n",
       "       1, 5, 5, 4, 4, 5, 5, 2, 5, 1, 1, 5, 2, 5, 5, 5, 5, 2, 2, 5, 5, 5, 5,\n",
       "       5, 5, 3, 3, 4, 1, 4, 5, 4, 1, 5, 4, 4, 5, 1, 5, 5, 5, 5, 5, 5, 5, 5,\n",
       "       5, 5, 5, 5, 1, 1, 5, 5, 5, 2, 5, 5, 5, 4, 1, 1, 3, 1, 1, 1, 1, 1, 5,\n",
       "       4, 2, 5, 5, 2, 5, 2, 5, 5, 5, 5, 5, 5, 5, 5, 5, 1, 5, 1, 5, 5, 5, 1,\n",
       "       5, 5, 1, 3, 1, 4, 4, 1, 1, 5, 1, 5, 4, 5, 1, 5, 5, 5, 5, 5, 1, 5, 5,\n",
       "       1, 5, 5, 5, 5, 1, 5, 5, 5, 5, 1, 1, 5, 5, 4, 2, 1, 3, 1, 5, 1, 5, 5,\n",
       "       5, 4, 2, 5, 5, 5, 5, 5, 5, 5, 1, 5, 5, 5, 5, 5, 5, 1, 1, 1, 5, 5, 5,\n",
       "       5, 1, 1, 1, 5, 1, 5, 3, 1, 1, 1, 5, 5, 5, 1, 5, 1, 1, 5, 5, 5, 5, 5,\n",
       "       5, 2, 1, 1, 5, 5, 5, 4, 1, 5, 5, 1, 2, 3, 1, 1, 1, 5, 5, 2, 5, 2, 5,\n",
       "       2, 5, 5, 1, 1, 1, 1, 1, 5, 5, 1, 5, 4, 1, 2, 1, 5, 5, 5, 1, 5, 4, 1,\n",
       "       1, 1, 1])"
      ]
     },
     "execution_count": 26,
     "metadata": {},
     "output_type": "execute_result"
    }
   ],
   "source": [
    "classes"
   ]
  },
  {
   "cell_type": "code",
   "execution_count": 27,
   "metadata": {
    "collapsed": false
   },
   "outputs": [
    {
     "data": {
      "text/plain": [
       "array([[  4.06456664e-08,   4.83859867e-01,   5.56275547e-02,\n",
       "          2.54847855e-05,   4.60416943e-01,   7.00841993e-05],\n",
       "       [  1.35587434e-05,   5.47280833e-02,   3.77012253e-01,\n",
       "          2.64885928e-03,   5.38528144e-01,   2.70691346e-02],\n",
       "       [  2.40960111e-13,   3.33996053e-04,   5.43991227e-05,\n",
       "          2.43857739e-05,   9.99586999e-01,   2.31058920e-07],\n",
       "       ..., \n",
       "       [  7.29719352e-04,   7.52775490e-01,   1.44615486e-01,\n",
       "          2.17827343e-04,   4.29083407e-03,   9.73706394e-02],\n",
       "       [  2.04139762e-03,   9.61278796e-01,   1.44251226e-03,\n",
       "          1.04132923e-05,   9.62287595e-05,   3.51306498e-02],\n",
       "       [  1.55441856e-04,   9.32932794e-01,   1.26936575e-02,\n",
       "          6.18283157e-05,   4.95925965e-03,   4.91970181e-02]])"
      ]
     },
     "execution_count": 27,
     "metadata": {},
     "output_type": "execute_result"
    }
   ],
   "source": [
    "proba"
   ]
  },
  {
   "cell_type": "code",
   "execution_count": 28,
   "metadata": {
    "collapsed": true
   },
   "outputs": [],
   "source": [
    "pickle.dump(classes, open( \"predicted_classes_107.pkl\", \"wb\" ))\n",
    "pickle.dump(proba, open( \"predicted_probabilities_107.pkl\", \"wb\" ))"
   ]
  },
  {
   "cell_type": "code",
   "execution_count": null,
   "metadata": {
    "collapsed": true
   },
   "outputs": [],
   "source": []
  }
 ],
 "metadata": {
  "kernelspec": {
   "display_name": "Python 2",
   "language": "python",
   "name": "python2"
  },
  "language_info": {
   "codemirror_mode": {
    "name": "ipython",
    "version": 2
   },
   "file_extension": ".py",
   "mimetype": "text/x-python",
   "name": "python",
   "nbconvert_exporter": "python",
   "pygments_lexer": "ipython2",
   "version": "2.7.11"
  }
 },
 "nbformat": 4,
 "nbformat_minor": 0
}
